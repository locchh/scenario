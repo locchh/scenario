{
 "cells": [
  {
   "cell_type": "markdown",
   "id": "b19f1980-cb70-49c3-b9d7-6d5a3791ef3c",
   "metadata": {},
   "source": [
    "### tiktoken"
   ]
  },
  {
   "cell_type": "code",
   "execution_count": 7,
   "id": "c435d854-5c33-435a-a9f4-54905fd97c9a",
   "metadata": {},
   "outputs": [
    {
     "name": "stdout",
     "output_type": "stream",
     "text": [
      "Total token count: 23\n"
     ]
    }
   ],
   "source": [
    "import tiktoken\n",
    "from typing import List, Dict\n",
    "\n",
    "def count_tiktoken_length(messages: List[Dict[str, str]], model_name: str = \"gpt-3.5-turbo\") -> int:\n",
    "    \"\"\"\n",
    "    Counts the total number of tokens in a list of messages using tiktoken.\n",
    "\n",
    "    Args:\n",
    "        messages (List[Dict[str, str]]): List of messages, where each message is a dictionary\n",
    "                                         with keys like \"role\" and \"content\".\n",
    "        model_name (str): The name of the model for which the tokenization should be done.\n",
    "                          Default is \"gpt-3.5-turbo\".\n",
    "\n",
    "    Returns:\n",
    "        int: Total number of tokens across all messages.\n",
    "    \"\"\"\n",
    "    try:\n",
    "        # Load the tokenizer for the specified model\n",
    "        encoding = tiktoken.encoding_for_model(model_name)\n",
    "        \n",
    "        total_tokens = 0\n",
    "        \n",
    "        for message in messages:\n",
    "            for key, value in message.items():\n",
    "                # Count tokens for each value in the message dictionary\n",
    "                total_tokens += len(encoding.encode(value))\n",
    "        \n",
    "        return total_tokens\n",
    "    except Exception as e:\n",
    "        raise RuntimeError(f\"Error in calculating token length: {e}\")\n",
    "\n",
    "# Example usage\n",
    "messages = [\n",
    "    {\"role\": \"system\", \"content\": \"You are a helpful assistant.\"},\n",
    "    {\"role\": \"user\", \"content\": \"What is the weather like today?\"},\n",
    "    {\"role\": \"assistant\", \"content\": \"The weather is sunny and warm.\"}\n",
    "]\n",
    "\n",
    "token_count = count_tiktoken_length(messages)\n",
    "print(f\"Total token count: {token_count}\")"
   ]
  },
  {
   "cell_type": "markdown",
   "id": "e06a6fd6-551e-430e-b12b-d6c7825cbeb0",
   "metadata": {},
   "source": [
    "### docling"
   ]
  },
  {
   "cell_type": "code",
   "execution_count": 7,
   "id": "d37ca8a0-ba75-4e2e-97ac-5c003adf6865",
   "metadata": {},
   "outputs": [
    {
     "name": "stdout",
     "output_type": "stream",
     "text": [
      "Import successfully!\n"
     ]
    }
   ],
   "source": [
    "import os\n",
    "import sys\n",
    "\n",
    "current_dir = os.getcwd()\n",
    "sys.path.append(os.path.join(current_dir,\"..\"))\n",
    "\n",
    "from docling.document_converter import DocumentConverter\n",
    "\n",
    "print(\"Import successfully!\")"
   ]
  },
  {
   "cell_type": "code",
   "execution_count": 8,
   "id": "095154da-c930-4c24-b95d-a76f0dfd1535",
   "metadata": {},
   "outputs": [
    {
     "name": "stdout",
     "output_type": "stream",
     "text": [
      "Extracted pages 2 to 3 into 'tmp.pdf'\n"
     ]
    }
   ],
   "source": [
    "#Extract pdf pages\n",
    "!python ../utils/extract_pdf_by_pages.py ../assets/Fortran77_tutorial.pdf tmp.pdf 2 3"
   ]
  },
  {
   "cell_type": "code",
   "execution_count": 9,
   "id": "20efe031-9ef7-4d70-add0-3032e3d48f4e",
   "metadata": {},
   "outputs": [],
   "source": [
    "# Convert to markdown\n",
    "source = \"tmp.pdf\"  # document per local path or URL\n",
    "converter = DocumentConverter()"
   ]
  },
  {
   "cell_type": "code",
   "execution_count": 10,
   "id": "791d3be2-6420-4ae5-81e7-45ae2b3f7f08",
   "metadata": {},
   "outputs": [
    {
     "data": {
      "application/vnd.jupyter.widget-view+json": {
       "model_id": "44d6270ef7084974b13ac83377ed99b8",
       "version_major": 2,
       "version_minor": 0
      },
      "text/plain": [
       "Fetching 9 files:   0%|          | 0/9 [00:00<?, ?it/s]"
      ]
     },
     "metadata": {},
     "output_type": "display_data"
    },
    {
     "name": "stderr",
     "output_type": "stream",
     "text": [
      "/home/loc/miniconda3/envs/venv/lib/python3.10/site-packages/torch/nn/parallel/data_parallel.py:37: UserWarning: \n",
      "    There is an imbalance between your GPUs. You may want to exclude GPU 1 which\n",
      "    has less than 75% of the memory or cores of GPU 0. You can do so by setting\n",
      "    the device_ids argument to DataParallel, or by setting the CUDA_VISIBLE_DEVICES\n",
      "    environment variable.\n",
      "  warnings.warn(\n"
     ]
    },
    {
     "name": "stdout",
     "output_type": "stream",
     "text": [
      "CPU times: user 6.03 s, sys: 262 ms, total: 6.29 s\n",
      "Wall time: 4.65 s\n"
     ]
    }
   ],
   "source": [
    "%%time\n",
    "result = converter.convert(source)"
   ]
  },
  {
   "cell_type": "code",
   "execution_count": 11,
   "id": "e1411d68-f4fb-469e-8ef2-b07efa91ff1b",
   "metadata": {},
   "outputs": [
    {
     "name": "stdout",
     "output_type": "stream",
     "text": [
      "## 1. What is Fortran?\n",
      "\n",
      "Fortran is a general purpose programming language, mainly intended for mathematical computations in science applications (e.g. physics). Fortran is an acronym for FORmula TRANslation, and was originally capitalized as FORTRAN. However, following the current trend to only capitalize the first letter in acronyms, we will call it Fortran. Fortran was the first high-level programming language. The work on Fortran started in the 1950's at IBM and there have been many versions since. By convention, a Fortran version is denoted by the last two digits of the year the standard was proposed. Thus we have Fortran 66, Fortran 77 and Fortran 90 (95).\n",
      "\n",
      "The most common Fortran version today is still Fortran 77, although Fortran 90 is growing in popularity. Fortran 95 is a revised version of Fortran 90 which is expected to be approved by ANSI soon (1996). There are also several versions of Fortran aimed at parallel computers. The most important one is High Performance Fortran (HPF), which is a de-facto standard.\n",
      "\n",
      "Users should be aware that most Fortran 77 compilers allow a superset of Fortran 77, i.e. they allow non-standard extensions. In this tutorial we will emphasize standard ANSI Fortran 77.\n",
      "\n",
      "## Why learn Fortran?\n",
      "\n",
      "Fortran is the dominant programming language used in scientific applications. It is therefore important for physics (or engineering) students to be able to read and modify Fortran code. From time to time, socalled experts predict that Fortran will rapidly fade in popularity and soon become extinct. This may actually happen as C (or C++) is rapidly growing in popularity. However, previous predictions of the downfall of Fortran have always been wrong. Fortran is the most enduring computer programming language in history. One of the main reasons Fortran has survived and will survive is software inertia . Once a company has spent many people-years and perhaps millions of dollars on a software product, it is unlikely to try to translate the software to a different language. Reliable software translation is a very difficult task and there's 40 years of Fortran code to replace!\n",
      "\n",
      "## Portability\n",
      "\n",
      "A major advantage Fortran has is that it is standardized by ANSI (American National Standards Institute) and ISO (International Standards Organization). Consequently, if your program is written in ANSI Fortran 77 then it will run on any computer that has a Fortran 77 compiler. Thus, Fortran programs are portable across computer platforms\n",
      "\n",
      "## 2. Fortran 77 Basics\n",
      "\n",
      "A Fortran program is just a sequence of lines of text. The text has to follow a certain syntax to be a valid Fortran program. We start by looking at a simple example where we calculate the area of a circle:\n",
      "\n",
      "```\n",
      "program circle real r, area c This program reads a real number r and prints c the area of a circle with radius r. write (*,*) 'Give radius r:' read (*,*) r area = 3.14159*r*r write (*,*) 'Area = ', area\n",
      "```\n",
      "\n",
      "stop end\n",
      "\n",
      "The lines that begin with a \"c\" are comments and have no purpose other than to make the program more readable for humans. Originally, all Fortran programs had to be written in all upper-case letters. Most people now write lower-case since this is more legible.\n",
      "\n",
      "## Program organization\n",
      "\n",
      "A Fortran program generally consists of a main program (or driver) and possibly several subprograms (or procedures or subroutines). For now we will assume all the statements are in the main program; subprograms will be treated later. The structure of a main program is:\n",
      "\n",
      "```\n",
      "program name declarations statements stop end\n",
      "```\n",
      "\n",
      "In this tutorial, words that are in italics should not be taken as literal text, but rather as a generic description. The stop statement is optional and may seem superfluous since the program will stop when it reaches the end anyway but it is recommended to always terminate a program with the stop statement to emphasize that the execution flow stops there.\n",
      "\n",
      "## Column position rules\n",
      "\n",
      "Fortran 77 is not a free-format language, but has a very strict set of rules for how the source code should be formatted. The most important rules are the column position rules:\n",
      "\n",
      "Col. 1 : Blank, or a \"c\" or \"*\" for comments Col. 2-5 : Statement label (optional)\n",
      "\n",
      "Col. 6 : Continuation of previous line (optional)\n",
      "\n",
      "Col. 7-72 : Statements Col. 73-80: Sequence number (optional, rarely used today)\n",
      "\n",
      "Most lines in a Fortran 77 program starts with 6 blanks and ends before column 72, i.e. only the statement field is used. Note that Fortran 90 allows free format.\n",
      "\n",
      "## Comments\n",
      "\n",
      "A line that begins with the letter \"c\" or an asterisk in the first column is a comment. Comments may appear anywhere in the program. Well-written comments are crucial to program readability. Commercial Fortran codes often contain about 50% comments. You may also encounter Fortran programs that use the exclamation mark (!) for comments. This is highly non-standard in Fortran 77, but is allowed in Fortran 90. The exclamation mark may appear anywhere on a line (except in positions 2-6).\n",
      "\n",
      "## Continuation\n",
      "\n",
      "Occasionally, a statement does not fit into one single line. One can then break the statement into two or more lines, and use the continuation mark in position 6. Example:\n",
      "\n",
      "```\n",
      "c23456789 (This demonstrates column position!) c The next statement goes over two physical lines area = 3.14159265358979\n",
      "```\n"
     ]
    }
   ],
   "source": [
    "markdown_content = result.document.export_to_markdown()\n",
    "print(markdown_content)"
   ]
  },
  {
   "cell_type": "code",
   "execution_count": 12,
   "id": "147774be-4b33-48ca-956d-47e028b2d381",
   "metadata": {},
   "outputs": [],
   "source": [
    "# Export output\n",
    "with open(\"tmp.txt\",\"w\", encoding=\"utf-8\") as f:\n",
    "    f.write(markdown_content)"
   ]
  },
  {
   "cell_type": "markdown",
   "id": "4de2cc71-6188-4d6e-ad2c-ea024ab5f4a3",
   "metadata": {},
   "source": [
    "### openai"
   ]
  },
  {
   "cell_type": "code",
   "execution_count": 1,
   "id": "0a543e7b-c8ea-47b6-8819-b49eaa9cd826",
   "metadata": {},
   "outputs": [
    {
     "name": "stdout",
     "output_type": "stream",
     "text": [
      "Import successfully!\n",
      "API key set successfully.\n"
     ]
    }
   ],
   "source": [
    "import os\n",
    "import sys\n",
    "\n",
    "current_dir = os.getcwd()\n",
    "sys.path.append(os.path.join(current_dir,\"..\"))\n",
    "\n",
    "from utils.helper import set_openai_key, test_openai_api, create_openai_client\n",
    "\n",
    "print(\"Import successfully!\")\n",
    "\n",
    "# Set openai key\n",
    "set_openai_key()"
   ]
  },
  {
   "cell_type": "code",
   "execution_count": 2,
   "id": "9ef57f5a-55aa-4678-9075-5b1038453fae",
   "metadata": {},
   "outputs": [
    {
     "name": "stdout",
     "output_type": "stream",
     "text": [
      "This is a test.\n"
     ]
    }
   ],
   "source": [
    "# Test openai api\n",
    "test_openai_api()"
   ]
  },
  {
   "cell_type": "code",
   "execution_count": 3,
   "id": "f0473b3e-b1ca-4477-8568-ac7d651a47d8",
   "metadata": {},
   "outputs": [],
   "source": [
    "# Create openai client\n",
    "client = create_openai_client()"
   ]
  },
  {
   "cell_type": "code",
   "execution_count": 4,
   "id": "e732a243-b289-4696-9194-cdc11e4ab944",
   "metadata": {},
   "outputs": [
    {
     "data": {
      "text/plain": [
       "ChatCompletion(id='chatcmpl-Ace9u6rUbil7JuJUJv9q5laSHt6TK', choices=[Choice(finish_reason='stop', index=0, logprobs=None, message=ChatCompletionMessage(content='This is a test.', refusal=None, role='assistant', audio=None, function_call=None, tool_calls=None))], created=1733774198, model='gpt-4o-2024-08-06', object='chat.completion', service_tier=None, system_fingerprint='fp_c7ca0ebaca', usage=CompletionUsage(completion_tokens=5, prompt_tokens=12, total_tokens=17, completion_tokens_details=CompletionTokensDetails(accepted_prediction_tokens=0, audio_tokens=0, reasoning_tokens=0, rejected_prediction_tokens=0), prompt_tokens_details=PromptTokensDetails(audio_tokens=0, cached_tokens=0)))"
      ]
     },
     "execution_count": 4,
     "metadata": {},
     "output_type": "execute_result"
    }
   ],
   "source": [
    "response = client.chat.completions.create(\n",
    "    messages=[\n",
    "        {\n",
    "            \"role\": \"user\",\n",
    "            \"content\": \"Say this is a test\",\n",
    "        }\n",
    "    ],\n",
    "    model=\"gpt-4o\",\n",
    ")\n",
    "\n",
    "response"
   ]
  },
  {
   "cell_type": "code",
   "execution_count": 5,
   "id": "a4609e08-42fb-4bf4-a83f-066d316c9905",
   "metadata": {},
   "outputs": [
    {
     "name": "stdout",
     "output_type": "stream",
     "text": [
      "This is a test.\n"
     ]
    }
   ],
   "source": [
    "print(response.choices[0].message.content)"
   ]
  }
 ],
 "metadata": {
  "kernelspec": {
   "display_name": "Python 3 (ipykernel)",
   "language": "python",
   "name": "python3"
  },
  "language_info": {
   "codemirror_mode": {
    "name": "ipython",
    "version": 3
   },
   "file_extension": ".py",
   "mimetype": "text/x-python",
   "name": "python",
   "nbconvert_exporter": "python",
   "pygments_lexer": "ipython3",
   "version": "3.10.15"
  }
 },
 "nbformat": 4,
 "nbformat_minor": 5
}
