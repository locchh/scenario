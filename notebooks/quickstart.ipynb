{
 "cells": [
  {
   "cell_type": "markdown",
   "id": "e06a6fd6-551e-430e-b12b-d6c7825cbeb0",
   "metadata": {},
   "source": [
    "### docling"
   ]
  },
  {
   "cell_type": "code",
   "execution_count": null,
   "id": "095154da-c930-4c24-b95d-a76f0dfd1535",
   "metadata": {},
   "outputs": [],
   "source": []
  },
  {
   "cell_type": "code",
   "execution_count": null,
   "id": "20efe031-9ef7-4d70-add0-3032e3d48f4e",
   "metadata": {},
   "outputs": [],
   "source": []
  },
  {
   "cell_type": "code",
   "execution_count": null,
   "id": "18b74b40-948f-41ff-b7d6-d3480a0e49d0",
   "metadata": {},
   "outputs": [],
   "source": []
  },
  {
   "cell_type": "markdown",
   "id": "4de2cc71-6188-4d6e-ad2c-ea024ab5f4a3",
   "metadata": {},
   "source": [
    "### openai"
   ]
  },
  {
   "cell_type": "code",
   "execution_count": 12,
   "id": "0a543e7b-c8ea-47b6-8819-b49eaa9cd826",
   "metadata": {},
   "outputs": [
    {
     "name": "stdout",
     "output_type": "stream",
     "text": [
      "Import Successful!\n",
      "API key set successfully.\n"
     ]
    }
   ],
   "source": [
    "import os\n",
    "import sys\n",
    "\n",
    "current_dir = os.getcwd()\n",
    "sys.path.append(os.path.join(current_dir,\"..\"))\n",
    "\n",
    "from openai import OpenAI\n",
    "from utils.helper import set_openai_key, test_openai_api\n",
    "\n",
    "print(\"Import successfully!\")\n",
    "\n",
    "set_openai_key()"
   ]
  },
  {
   "cell_type": "code",
   "execution_count": 13,
   "id": "9ef57f5a-55aa-4678-9075-5b1038453fae",
   "metadata": {},
   "outputs": [
    {
     "name": "stdout",
     "output_type": "stream",
     "text": [
      "This is a test. How can I assist you further?\n"
     ]
    }
   ],
   "source": [
    "test_openai_api()"
   ]
  },
  {
   "cell_type": "code",
   "execution_count": 14,
   "id": "f0473b3e-b1ca-4477-8568-ac7d651a47d8",
   "metadata": {},
   "outputs": [],
   "source": [
    "client = OpenAI(\n",
    "    api_key=os.environ.get(\"OPENAI_API_KEY\"),\n",
    ")"
   ]
  },
  {
   "cell_type": "code",
   "execution_count": 15,
   "id": "e732a243-b289-4696-9194-cdc11e4ab944",
   "metadata": {},
   "outputs": [
    {
     "data": {
      "text/plain": [
       "ChatCompletion(id='chatcmpl-Ac61Qgt1A1fB2YfYyq3CSuY6Is89r', choices=[Choice(finish_reason='stop', index=0, logprobs=None, message=ChatCompletionMessage(content='This is a test. How can I assist you further?', refusal=None, role='assistant', audio=None, function_call=None, tool_calls=None))], created=1733642976, model='gpt-4o-2024-08-06', object='chat.completion', service_tier=None, system_fingerprint='fp_9d50cd990b', usage=CompletionUsage(completion_tokens=12, prompt_tokens=12, total_tokens=24, completion_tokens_details=CompletionTokensDetails(accepted_prediction_tokens=0, audio_tokens=0, reasoning_tokens=0, rejected_prediction_tokens=0), prompt_tokens_details=PromptTokensDetails(audio_tokens=0, cached_tokens=0)))"
      ]
     },
     "execution_count": 15,
     "metadata": {},
     "output_type": "execute_result"
    }
   ],
   "source": [
    "response = client.chat.completions.create(\n",
    "    messages=[\n",
    "        {\n",
    "            \"role\": \"user\",\n",
    "            \"content\": \"Say this is a test\",\n",
    "        }\n",
    "    ],\n",
    "    model=\"gpt-4o\",\n",
    ")\n",
    "\n",
    "response"
   ]
  }
 ],
 "metadata": {
  "kernelspec": {
   "display_name": "Python 3 (ipykernel)",
   "language": "python",
   "name": "python3"
  },
  "language_info": {
   "codemirror_mode": {
    "name": "ipython",
    "version": 3
   },
   "file_extension": ".py",
   "mimetype": "text/x-python",
   "name": "python",
   "nbconvert_exporter": "python",
   "pygments_lexer": "ipython3",
   "version": "3.10.15"
  }
 },
 "nbformat": 4,
 "nbformat_minor": 5
}
