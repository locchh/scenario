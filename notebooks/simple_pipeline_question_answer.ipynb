{
 "cells": [
  {
   "cell_type": "markdown",
   "id": "e537ed9e-94f5-4025-aa59-d2050e454a92",
   "metadata": {},
   "source": [
    "### prove of concept (POC)"
   ]
  },
  {
   "cell_type": "code",
   "execution_count": 1,
   "id": "b3fb042d-d2d7-45ae-8abd-1bcac95bae8f",
   "metadata": {},
   "outputs": [
    {
     "name": "stdout",
     "output_type": "stream",
     "text": [
      "Import successfully!\n"
     ]
    }
   ],
   "source": [
    "# Import libraries\n",
    "import os\n",
    "import sys\n",
    "\n",
    "current_dir = os.getcwd()\n",
    "sys.path.append(os.path.join(current_dir,\"..\"))\n",
    "\n",
    "from utils.helper import set_openai_key, test_openai_api, create_openai_client, count_tiktoken_length\n",
    "\n",
    "print(\"Import successfully!\")"
   ]
  },
  {
   "cell_type": "code",
   "execution_count": 2,
   "id": "d6d08f5f-62ef-439e-8ee6-f5adf570b224",
   "metadata": {},
   "outputs": [
    {
     "name": "stdout",
     "output_type": "stream",
     "text": [
      "API key set successfully.\n",
      "This is a test.\n"
     ]
    }
   ],
   "source": [
    "# Intialize\n",
    "set_openai_key() # Set openai key\n",
    "test_openai_api() # Test openai api\n",
    "client = create_openai_client() # Create openai client"
   ]
  },
  {
   "cell_type": "code",
   "execution_count": 3,
   "id": "634ff63a-3113-4b51-92bd-c45f57ee9715",
   "metadata": {},
   "outputs": [
    {
     "name": "stdout",
     "output_type": "stream",
     "text": [
      "Extracted pages 2 to 3 into 'tmp.pdf'\n"
     ]
    }
   ],
   "source": [
    "# Create chunk of PDF\n",
    "!python ../utils/extract_pdf_by_pages.py ../assets/Fortran77_tutorial.pdf tmp.pdf 2 3"
   ]
  },
  {
   "cell_type": "code",
   "execution_count": 4,
   "id": "a051d4e6-0634-4cc7-b912-65fdb7d7b7d5",
   "metadata": {},
   "outputs": [
    {
     "name": "stdout",
     "output_type": "stream",
     "text": [
      "Fetching 9 files: 100%|█████████████████████████| 9/9 [00:00<00:00, 7023.02it/s]\n",
      "Markdown content exported successfully to: tmp.txt\n"
     ]
    }
   ],
   "source": [
    "# Convert to markdown file\n",
    "!python ../utils/export_pdf_to_markdown.py tmp.pdf tmp.txt"
   ]
  },
  {
   "cell_type": "code",
   "execution_count": 11,
   "id": "74114506-26dd-48dc-a592-2ea4b4695d9b",
   "metadata": {},
   "outputs": [
    {
     "name": "stdout",
     "output_type": "stream",
     "text": [
      "1272\n"
     ]
    }
   ],
   "source": [
    "# Create question\n",
    "with open(\"tmp.txt\",\"r\",encoding=\"utf-8\") as f:\n",
    "    content = f.read()\n",
    "\n",
    "# messages = [\n",
    "#     {\"role\":\"system\", \"content\":\"You are an expert in training large language models.\"},\n",
    "#     {\"role\":\"user\", \"content\":\"Below is the content that needs to be used for generating a question.\"},\n",
    "#     {\"role\":\"user\", \"content\":f\"{content}\"},\n",
    "#     {\"role\":\"user\", \"content\":\"Based on the above content, generate a clear and detailed question that would allow someone to answer it without referring back to the content. The question should contain enough information and context for answering. If the question base on an example code, make sure the question retains that example code in the question itself. Your response should only be the question, without any extra information or explanation.\"},\n",
    "# ]\n",
    "\n",
    "messages = [\n",
    "    {\"role\": \"system\", \"content\": \"You are an expert in training large language models.\"},\n",
    "    {\"role\": \"user\", \"content\": \"Below is the content for generating a question:\"},\n",
    "    {\"role\": \"user\", \"content\": content},\n",
    "    {\"role\": \"user\", \"content\": (\n",
    "        \"Based on the above content, generate a clear and detailed question that would allow someone to answer it without referring back to the content\"\n",
    "        \"The question should contain enough information and context for answering.\"\n",
    "        \"If the question base on an example code, make sure the question retains that example code in the question itself.\"\n",
    "        \"Your response should only be the question, without any extra information or explanation.\"\n",
    "    )}\n",
    "]\n",
    "\n",
    "\n",
    "tiktoken_length = count_tiktoken_length(messages)\n",
    "print(tiktoken_length)"
   ]
  },
  {
   "cell_type": "code",
   "execution_count": 12,
   "id": "a4eb3c9b-17ec-4c15-bc25-93d41469e699",
   "metadata": {},
   "outputs": [
    {
     "name": "stdout",
     "output_type": "stream",
     "text": [
      "What are the key formatting rules and conventions of Fortran 77, including the column position rules, and how do they apply to writing and organizing a basic Fortran program, such as the example below that calculates the area of a circle?\n",
      "\n",
      "```\n",
      "program circle\n",
      "    real r, area\n",
      "    c This program reads a real number r and prints\n",
      "    c the area of a circle with radius r.\n",
      "    write (*,*) 'Give radius r:'\n",
      "    read (*,*) r\n",
      "    area = 3.14159*r*r\n",
      "    write (*,*) 'Area = ', area\n",
      "stop\n",
      "end\n",
      "```\n",
      "\n",
      "Discuss the function of comments, the role of column positions in organizing code, and the significance of the `stop` statement in Fortran 77.\n"
     ]
    }
   ],
   "source": [
    "response = client.chat.completions.create(\n",
    "    messages=messages,\n",
    "    model=\"gpt-4o\",\n",
    ")\n",
    "\n",
    "question = response.choices[0].message.content\n",
    "print(question)"
   ]
  },
  {
   "cell_type": "code",
   "execution_count": 13,
   "id": "ec7284db-b5ad-4f74-a103-a8f75082a109",
   "metadata": {},
   "outputs": [
    {
     "name": "stdout",
     "output_type": "stream",
     "text": [
      "168\n"
     ]
    }
   ],
   "source": [
    "# Create answer\n",
    "messages = [\n",
    "    {\"role\":\"system\", \"content\":\"You programming expert\"},\n",
    "    {\"role\":\"user\", \"content\":\"Please answer the following question\"},\n",
    "    {\"role\":\"user\", \"content\":f\"{question}\"},\n",
    "]\n",
    "\n",
    "tiktoken_length = count_tiktoken_length(messages)\n",
    "print(tiktoken_length)"
   ]
  },
  {
   "cell_type": "code",
   "execution_count": 14,
   "id": "8987c111-ef5f-493a-8dc3-0156a1a1a205",
   "metadata": {},
   "outputs": [
    {
     "name": "stdout",
     "output_type": "stream",
     "text": [
      "Fortran 77, being an older programming language, comes with a set of rules and conventions that stem from its history on punch card systems. Here's an overview of key formatting rules and conventions:\n",
      "\n",
      "### Column Positions in Fortran 77\n",
      "\n",
      "1. **Columns 1-5: Statement Labels**\n",
      "   - These are optional and used for numeric labels that serve as references for `GOTO` or other control flow statements. Each label is unique and usually placed in one of these columns.\n",
      "   - Example: `10 CONTINUE`\n",
      "\n",
      "2. **Column 6: Continuation Character**\n",
      "   - A non-blank character (commonly a character like a plus `+` or any non-numeric character) in column 6 indicates that the line is a continuation of the previous line.\n",
      "   - This is used for splitting long statements over multiple lines for clarity.\n",
      "\n",
      "3. **Columns 7-72: Statements**\n",
      "   - The actual Fortran statements should be written in these columns.\n",
      "   - Statements that extend beyond column 72 are not considered by the compiler.\n",
      "\n",
      "4. **Columns 73-80: Comments or Identification**\n",
      "   - In the punch card era, this was used for sequence numbers or other identification. It's generally ignored by Fortran compilers.\n",
      "\n",
      "### Writing and Organizing Code\n",
      "\n",
      "- **Comments:**\n",
      "  - Comments in Fortran 77 begin with a `C` or `c` in column 1. The entire line is treated as a comment.\n",
      "  - They are used for explanations and making the code more readable. They do not affect the program's execution.\n",
      "\n",
      "- **Statements:**\n",
      "  - Each Fortran statement typically resides in a single line between columns 7 and 72.\n",
      "  - For multiline statements, use a continuation character in column 6 of the following lines.\n",
      "\n",
      "### Example Explanation\n",
      "\n",
      "Here's a breakdown of the provided Fortran 77 program:\n",
      "\n",
      "```fortran\n",
      "program circle\n",
      "    real r, area\n",
      "    c This program reads a real number r and prints\n",
      "    c the area of a circle with radius r.\n",
      "    write (*,*) 'Give radius r:'\n",
      "    read (*,*) r\n",
      "    area = 3.14159*r*r\n",
      "    write (*,*) 'Area = ', area\n",
      "stop\n",
      "end\n",
      "```\n",
      "\n",
      "- **Start Program:** The `program circle` line begins the main program block named \"circle.\"\n",
      "  \n",
      "- **Variable Declaration:** `real r, area` declares `r` and `area` as real (floating-point) variables.\n",
      "\n",
      "- **Comments:** The lines starting with `c` explain the purpose of the program, illustrating their use and importance for readability and maintenance.\n",
      "\n",
      "- **Input/Output:**\n",
      "  - `write (*,*) 'Give radius r:'` outputs a prompt to the user.\n",
      "  - `read (*,*) r` reads the radius as input from the user.\n",
      "  - `write (*,*) 'Area = ', area` outputs the calculated area to the console.\n",
      "\n",
      "- **Circle Area Calculation:** `area = 3.14159*r*r` computes the area of a circle using the formula πr².\n",
      "\n",
      "### Significance of the `stop` statement\n",
      "\n",
      "- **`stop`:** The `stop` statement is used to terminate the program. Though not strictly necessary in simple programs, it is a convention to explicitly state where the program execution should come to an end. In modern Fortran standards, the explicit `stop` is often omitted.\n",
      "\n",
      "In Fortran 77, adherence to these conventions is crucial due to its card-based roots where format mattered significantly. Ensuring proper column usage and understanding these rules enhances code compatibility and readability.\n"
     ]
    }
   ],
   "source": [
    "response = client.chat.completions.create(\n",
    "    messages=messages,\n",
    "    model=\"gpt-4o\",\n",
    ")\n",
    "\n",
    "answer = response.choices[0].message.content\n",
    "print(answer)"
   ]
  },
  {
   "cell_type": "code",
   "execution_count": 15,
   "id": "3e767599-1952-45aa-b0b9-51e17d654f09",
   "metadata": {},
   "outputs": [
    {
     "name": "stdout",
     "output_type": "stream",
     "text": [
      "[{'role': 'system', 'content': 'You programming expert'}, {'role': 'user', 'content': 'Please answer the following question'}, {'role': 'user', 'content': \"What are the key formatting rules and conventions of Fortran 77, including the column position rules, and how do they apply to writing and organizing a basic Fortran program, such as the example below that calculates the area of a circle?\\n\\n```\\nprogram circle\\n    real r, area\\n    c This program reads a real number r and prints\\n    c the area of a circle with radius r.\\n    write (*,*) 'Give radius r:'\\n    read (*,*) r\\n    area = 3.14159*r*r\\n    write (*,*) 'Area = ', area\\nstop\\nend\\n```\\n\\nDiscuss the function of comments, the role of column positions in organizing code, and the significance of the `stop` statement in Fortran 77.\"}, {'role': 'user', 'content': 'Fortran 77, being an older programming language, comes with a set of rules and conventions that stem from its history on punch card systems. Here\\'s an overview of key formatting rules and conventions:\\n\\n### Column Positions in Fortran 77\\n\\n1. **Columns 1-5: Statement Labels**\\n   - These are optional and used for numeric labels that serve as references for `GOTO` or other control flow statements. Each label is unique and usually placed in one of these columns.\\n   - Example: `10 CONTINUE`\\n\\n2. **Column 6: Continuation Character**\\n   - A non-blank character (commonly a character like a plus `+` or any non-numeric character) in column 6 indicates that the line is a continuation of the previous line.\\n   - This is used for splitting long statements over multiple lines for clarity.\\n\\n3. **Columns 7-72: Statements**\\n   - The actual Fortran statements should be written in these columns.\\n   - Statements that extend beyond column 72 are not considered by the compiler.\\n\\n4. **Columns 73-80: Comments or Identification**\\n   - In the punch card era, this was used for sequence numbers or other identification. It\\'s generally ignored by Fortran compilers.\\n\\n### Writing and Organizing Code\\n\\n- **Comments:**\\n  - Comments in Fortran 77 begin with a `C` or `c` in column 1. The entire line is treated as a comment.\\n  - They are used for explanations and making the code more readable. They do not affect the program\\'s execution.\\n\\n- **Statements:**\\n  - Each Fortran statement typically resides in a single line between columns 7 and 72.\\n  - For multiline statements, use a continuation character in column 6 of the following lines.\\n\\n### Example Explanation\\n\\nHere\\'s a breakdown of the provided Fortran 77 program:\\n\\n```fortran\\nprogram circle\\n    real r, area\\n    c This program reads a real number r and prints\\n    c the area of a circle with radius r.\\n    write (*,*) \\'Give radius r:\\'\\n    read (*,*) r\\n    area = 3.14159*r*r\\n    write (*,*) \\'Area = \\', area\\nstop\\nend\\n```\\n\\n- **Start Program:** The `program circle` line begins the main program block named \"circle.\"\\n  \\n- **Variable Declaration:** `real r, area` declares `r` and `area` as real (floating-point) variables.\\n\\n- **Comments:** The lines starting with `c` explain the purpose of the program, illustrating their use and importance for readability and maintenance.\\n\\n- **Input/Output:**\\n  - `write (*,*) \\'Give radius r:\\'` outputs a prompt to the user.\\n  - `read (*,*) r` reads the radius as input from the user.\\n  - `write (*,*) \\'Area = \\', area` outputs the calculated area to the console.\\n\\n- **Circle Area Calculation:** `area = 3.14159*r*r` computes the area of a circle using the formula πr².\\n\\n### Significance of the `stop` statement\\n\\n- **`stop`:** The `stop` statement is used to terminate the program. Though not strictly necessary in simple programs, it is a convention to explicitly state where the program execution should come to an end. In modern Fortran standards, the explicit `stop` is often omitted.\\n\\nIn Fortran 77, adherence to these conventions is crucial due to its card-based roots where format mattered significantly. Ensuring proper column usage and understanding these rules enhances code compatibility and readability.'}]\n"
     ]
    }
   ],
   "source": [
    "# Create instruction data\n",
    "instruct_data = [\n",
    "    {\"role\":\"system\", \"content\":\"You programming expert\"},\n",
    "    {\"role\":\"user\", \"content\":\"Please answer the following question\"},\n",
    "    {\"role\":\"user\", \"content\":f\"{question}\"},\n",
    "    {\"role\":\"user\", \"content\":f\"{answer}\"},\n",
    "]\n",
    "\n",
    "print(instruct_data)"
   ]
  },
  {
   "cell_type": "markdown",
   "id": "38ff94d0-f4f1-4018-bef7-30ce8139bb5e",
   "metadata": {},
   "source": [
    "### random sampling\n",
    "- temperature\n",
    "- top_k\n",
    "- top_n\n",
    "- top_p\n",
    "- token_length"
   ]
  },
  {
   "cell_type": "code",
   "execution_count": 24,
   "id": "d719bf5f-4f4a-4266-bc72-e4170d2a081f",
   "metadata": {},
   "outputs": [
    {
     "name": "stdout",
     "output_type": "stream",
     "text": [
      "Fortran 77 is a high-level programming language designed for numerical computations. It has specific formatting rules and conventions, including column position rules, that must be followed when writing and organizing a Fortran program.\n",
      "\n",
      "Column Position Rules:\n",
      "1. Columns 1-5: These columns are for statement labels, which are numerical and used for `GO TO` statements and format identifiers. The example provided does not use any statement labels.\n",
      "2. Column 6: This column is for continuation of the previous line. If a statement does not fit within a single line (72 columns), it can be continued on the next line by placing any non-space character in the sixth column of the continued line.\n",
      "3. Columns 7-72: These columns are for statements. All Fortran 77 statements must start in these columns.\n",
      "4. Columns 73-80: These columns are often used for sequence numbers and are ignored by the compiler.\n",
      "\n",
      "Comments:\n",
      "In Fortran 77, comments are denoted by the character 'c' or '*' in the first column. These lines are ignored by the compiler. They are used to provide information about the code to the programmer and anyone else who might be reading the code. In the provided example, the lines starting with 'c' are comments.\n",
      "\n",
      "The `stop` Statement:\n",
      "The `stop` statement is used to end the execution of the program. It is not necessary to include a `stop` statement at the end of a program because the `end` statement also terminates the program. However, `stop` can be used to terminate the program before the `end` statement is reached, based on certain conditions.\n",
      "\n",
      "In the provided example, the `stop` statement is not necessary because there are no statements after it and the `end` statement would terminate the program anyway. However, it does not cause any issues and might be included for clarity or consistency if `stop` is used elsewhere in the program.\n",
      "\n",
      "The provided example follows all the rules and conventions of Fortran 77. It uses comments to explain what the program does, it does not require any statement labels or line continuations, and all statements fit within the required columns. The `stop` and `end` statements are used to terminate the program.\n"
     ]
    }
   ],
   "source": [
    "temperature=0.5 #0.7\n",
    "top_n=5\n",
    "top_p=0.8\n",
    "token_length=256\n",
    "\n",
    "response = client.chat.completions.create(\n",
    "    model=\"gpt-4\",  # Specify the model you want to use\n",
    "    messages=messages,\n",
    "    temperature=temperature,\n",
    "    top_p=top_p,\n",
    "    n=top_n,\n",
    ")\n",
    "\n",
    "answer = response.choices[0].message.content\n",
    "print(answer)"
   ]
  },
  {
   "cell_type": "markdown",
   "id": "37df2beb-41e2-411f-a470-9823ad0d16a7",
   "metadata": {},
   "source": [
    "### class pipeline"
   ]
  },
  {
   "cell_type": "code",
   "execution_count": null,
   "id": "f320fd3f-c48f-4f5d-8e1c-9448cfa9a9de",
   "metadata": {},
   "outputs": [],
   "source": []
  }
 ],
 "metadata": {
  "kernelspec": {
   "display_name": "Python 3 (ipykernel)",
   "language": "python",
   "name": "python3"
  },
  "language_info": {
   "codemirror_mode": {
    "name": "ipython",
    "version": 3
   },
   "file_extension": ".py",
   "mimetype": "text/x-python",
   "name": "python",
   "nbconvert_exporter": "python",
   "pygments_lexer": "ipython3",
   "version": "3.10.15"
  }
 },
 "nbformat": 4,
 "nbformat_minor": 5
}
