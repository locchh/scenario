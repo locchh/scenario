{
 "cells": [
  {
   "cell_type": "markdown",
   "id": "e537ed9e-94f5-4025-aa59-d2050e454a92",
   "metadata": {},
   "source": [
    "### prove of concept (POC)"
   ]
  },
  {
   "cell_type": "code",
   "execution_count": 1,
   "id": "b3fb042d-d2d7-45ae-8abd-1bcac95bae8f",
   "metadata": {},
   "outputs": [
    {
     "name": "stdout",
     "output_type": "stream",
     "text": [
      "Import successfully!\n"
     ]
    }
   ],
   "source": [
    "# Import libraries\n",
    "import os\n",
    "import sys\n",
    "\n",
    "current_dir = os.getcwd()\n",
    "sys.path.append(os.path.join(current_dir,\"..\"))\n",
    "\n",
    "from utils.helper import set_openai_key, test_openai_api, create_openai_client, count_tiktoken_length\n",
    "\n",
    "print(\"Import successfully!\")"
   ]
  },
  {
   "cell_type": "code",
   "execution_count": 2,
   "id": "d6d08f5f-62ef-439e-8ee6-f5adf570b224",
   "metadata": {},
   "outputs": [
    {
     "name": "stdout",
     "output_type": "stream",
     "text": [
      "API key set successfully.\n",
      "This is a test. How can I assist you further?\n"
     ]
    }
   ],
   "source": [
    "# Intialize\n",
    "set_openai_key() # Set openai key\n",
    "test_openai_api() # Test openai api\n",
    "client = create_openai_client() # Create openai client"
   ]
  },
  {
   "cell_type": "code",
   "execution_count": 3,
   "id": "634ff63a-3113-4b51-92bd-c45f57ee9715",
   "metadata": {},
   "outputs": [
    {
     "name": "stdout",
     "output_type": "stream",
     "text": [
      "Extracted pages 2 to 3 into 'tmp.pdf'\n"
     ]
    }
   ],
   "source": [
    "# Create chunk of PDF\n",
    "!python ../utils/extract_pdf_by_pages.py ../assets/Fortran77_tutorial.pdf tmp.pdf 2 3"
   ]
  },
  {
   "cell_type": "code",
   "execution_count": 4,
   "id": "a051d4e6-0634-4cc7-b912-65fdb7d7b7d5",
   "metadata": {},
   "outputs": [
    {
     "name": "stdout",
     "output_type": "stream",
     "text": [
      "Fetching 9 files: 100%|█████████████████████████| 9/9 [00:00<00:00, 7023.02it/s]\n",
      "Markdown content exported successfully to: tmp.txt\n"
     ]
    }
   ],
   "source": [
    "# Convert to markdown file\n",
    "!python ../utils/export_pdf_to_markdown.py tmp.pdf tmp.txt"
   ]
  },
  {
   "cell_type": "code",
   "execution_count": 3,
   "id": "74114506-26dd-48dc-a592-2ea4b4695d9b",
   "metadata": {},
   "outputs": [
    {
     "name": "stdout",
     "output_type": "stream",
     "text": [
      "1272\n"
     ]
    }
   ],
   "source": [
    "# Create question\n",
    "with open(\"tmp.txt\",\"r\",encoding=\"utf-8\") as f:\n",
    "    content = f.read()\n",
    "\n",
    "# messages = [\n",
    "#     {\"role\":\"system\", \"content\":\"You are an expert in training large language models.\"},\n",
    "#     {\"role\":\"user\", \"content\":\"Below is the content that needs to be used for generating a question.\"},\n",
    "#     {\"role\":\"user\", \"content\":f\"{content}\"},\n",
    "#     {\"role\":\"user\", \"content\":\"Based on the above content, generate a clear and detailed question that would allow someone to answer it without referring back to the content. The question should contain enough information and context for answering. If the question base on an example code, make sure the question retains that example code in the question itself. Your response should only be the question, without any extra information or explanation.\"},\n",
    "# ]\n",
    "\n",
    "messages = [\n",
    "    {\"role\": \"system\", \"content\": \"You are an expert in training large language models.\"},\n",
    "    {\"role\": \"user\", \"content\": \"Below is the content for generating a question:\"},\n",
    "    {\"role\": \"user\", \"content\": content},\n",
    "    {\"role\": \"user\", \"content\": (\n",
    "        \"Based on the above content, generate a clear and detailed question that would allow someone to answer it without referring back to the content\"\n",
    "        \"The question should contain enough information and context for answering.\"\n",
    "        \"If the question base on an example code, make sure the question retains that example code in the question itself.\"\n",
    "        \"Your response should only be the question, without any extra information or explanation.\"\n",
    "    )}\n",
    "]\n",
    "\n",
    "\n",
    "tiktoken_length = count_tiktoken_length(messages)\n",
    "print(tiktoken_length)"
   ]
  },
  {
   "cell_type": "code",
   "execution_count": 4,
   "id": "a4eb3c9b-17ec-4c15-bc25-93d41469e699",
   "metadata": {},
   "outputs": [
    {
     "name": "stdout",
     "output_type": "stream",
     "text": [
      "What are some of the defining characteristics and historical aspects of the Fortran programming language, including its main use cases, reasons for its enduring popularity despite predictions of its decline, and the specific syntax and formatting rules that must be followed when writing Fortran 77 code, as demonstrated by the example program that calculates the area of a circle: \n",
      "\n",
      "```\n",
      "program circle \n",
      "real r, area \n",
      "c This program reads a real number r and prints \n",
      "c the area of a circle with radius r. \n",
      "write (*,*) 'Give radius r:' \n",
      "read (*,*) r \n",
      "area = 3.14159*r*r \n",
      "write (*,*) 'Area = ', area\n",
      "\n",
      "stop \n",
      "end\n",
      "```\n"
     ]
    }
   ],
   "source": [
    "response = client.chat.completions.create(\n",
    "    messages=messages,\n",
    "    model=\"gpt-4o\",\n",
    ")\n",
    "\n",
    "question = response.choices[0].message.content\n",
    "print(question)"
   ]
  },
  {
   "cell_type": "code",
   "execution_count": 5,
   "id": "ec7284db-b5ad-4f74-a103-a8f75082a109",
   "metadata": {},
   "outputs": [
    {
     "name": "stdout",
     "output_type": "stream",
     "text": [
      "152\n"
     ]
    }
   ],
   "source": [
    "# Create answer\n",
    "messages = [\n",
    "    {\"role\":\"system\", \"content\":\"You programming expert\"},\n",
    "    {\"role\":\"user\", \"content\":\"Please answer the following question\"},\n",
    "    {\"role\":\"user\", \"content\":f\"{question}\"},\n",
    "]\n",
    "\n",
    "tiktoken_length = count_tiktoken_length(messages)\n",
    "print(tiktoken_length)"
   ]
  },
  {
   "cell_type": "code",
   "execution_count": 6,
   "id": "8987c111-ef5f-493a-8dc3-0156a1a1a205",
   "metadata": {},
   "outputs": [
    {
     "name": "stdout",
     "output_type": "stream",
     "text": [
      "Fortran, short for \"Formula Translation,\" is one of the oldest high-level programming languages, with its initial release dating back to the 1950s. Let's explore its defining characteristics, historical aspects, main use cases, reasons for enduring popularity, and specific syntax rules of Fortran 77, as seen in the provided program example.\n",
      "\n",
      "### Defining Characteristics and Historical Aspects:\n",
      "\n",
      "1. **Designed for Numeric and Scientific Computing**: Fortran was primarily developed for numeric computation and scientific computing. Its design targets include efficient execution of mathematical operations, which made it popular in computational sciences.\n",
      "\n",
      "2. **Early Compiler Development**: Fortran is noted for being among the first high-level languages to have an optimizing compiler, which helped improve performance without needing extensive machine-level programming.\n",
      "\n",
      "3. **Evolution**: Over the years, Fortran has evolved through various versions, such as FORTRAN II, FORTRAN IV, Fortran 66, Fortran 77, Fortran 90, and beyond. Each version has introduced new features while maintaining backward compatibility where possible.\n",
      "\n",
      "4. **Significant Contribution to Programming Paradigms**: Fortran's introduction of loop constructs, conditionals, and subprograms has had a profound impact on the development of programming paradigms.\n",
      "\n",
      "### Main Use Cases:\n",
      "\n",
      "1. **Scientific and Engineering Applications**: Fortran is widely used in scientific computing applications involving large-scale numerical calculations, such as weather modeling, computational fluid dynamics, and simulations in physics and engineering.\n",
      "\n",
      "2. **High-Performance Computing (HPC)**: Its efficiency in number crunching makes it a go-to language for high-performance computing tasks.\n",
      "\n",
      "### Reasons for Enduring Popularity:\n",
      "\n",
      "1. **Legacy Codebase**: A significant amount of scientific and engineering computational code is written in Fortran, which continues to be maintained and incrementally updated.\n",
      "\n",
      "2. **Performance**: Fortran's optimization for numerical computation allows it to remain competitive in terms of execution speed, which is crucial for scientific applications.\n",
      "\n",
      "3. **Library Support**: Over the years, Fortran has developed a rich ecosystem of libraries tailored for scientific computations, which incentivizes its continued use.\n",
      "\n",
      "4. **Community and Industry Trust**: Long-standing trust within the scientific community for its precision and reliability in accurately executing complex calculations contributes to its ongoing usage.\n",
      "\n",
      "### Fortran 77 Syntax and Formatting Rules:\n",
      "\n",
      "Fortran 77 introduced some structured programming features while retaining older column-based formats:\n",
      "\n",
      "1. **Column-Based Format**: \n",
      "   - Statements must start from column 7 onward, with columns 1-5 reserved for labels and column 6 for continuation character (`&`).\n",
      "   - Comments start with a `c` or `*` in column 1.\n",
      "\n",
      "2. **End Statements with Specific Keywords**: Program logic is terminated with keywords such as `stop` and `end`.\n",
      "\n",
      "3. **Line Continuation**: A continuation line begins in column 6 if an earlier line is too long. \n",
      "\n",
      "4. **Fixed Format**: Fortran 77 follows a fixed-column format, which can be a limitation compared to the free-form style seen in more recent languages.\n",
      "\n",
      "5. **Implicit Variable Declaration**: By default, Fortran infers variable types through naming conventions, e.g., variables starting with the letters `I` through `N` are implicitly integers unless explicitly declared.\n",
      "\n",
      "### Example Program Analysis:\n",
      "\n",
      "The provided program demonstrates Fortran 77 syntax for calculating the area of a circle:\n",
      "```fortran\n",
      "program circle\n",
      "real r, area\n",
      "c This program reads a real number r and prints\n",
      "c the area of a circle with radius r.\n",
      "write (*,*) 'Give radius r:'\n",
      "read (*,*) r\n",
      "area = 3.14159*r*r\n",
      "write (*,*) 'Area = ', area\n",
      "\n",
      "stop\n",
      "end\n",
      "```\n",
      "- **Variable Declaration**: Uses `real` to declare floating-point variables.\n",
      "- **Comments**: Lines starting with `c` are comments and provide documentation.\n",
      "- **I/O Statements**: `write` and `read` perform basic input-output operations.\n",
      "- **Arithmetic Assignment**: Computes the area using simple arithmetic operations.\n",
      "\n",
      "Despite its age, Fortran continues to be a robust choice for applications where numerical calculation performance is critical.\n"
     ]
    }
   ],
   "source": [
    "response = client.chat.completions.create(\n",
    "    messages=messages,\n",
    "    model=\"gpt-4o\",\n",
    ")\n",
    "\n",
    "answer = response.choices[0].message.content\n",
    "print(answer)"
   ]
  },
  {
   "cell_type": "code",
   "execution_count": 7,
   "id": "3e767599-1952-45aa-b0b9-51e17d654f09",
   "metadata": {},
   "outputs": [
    {
     "name": "stdout",
     "output_type": "stream",
     "text": [
      "[{'role': 'system', 'content': 'You programming expert'}, {'role': 'user', 'content': 'Please answer the following question'}, {'role': 'user', 'content': \"What are some of the defining characteristics and historical aspects of the Fortran programming language, including its main use cases, reasons for its enduring popularity despite predictions of its decline, and the specific syntax and formatting rules that must be followed when writing Fortran 77 code, as demonstrated by the example program that calculates the area of a circle: \\n\\n```\\nprogram circle \\nreal r, area \\nc This program reads a real number r and prints \\nc the area of a circle with radius r. \\nwrite (*,*) 'Give radius r:' \\nread (*,*) r \\narea = 3.14159*r*r \\nwrite (*,*) 'Area = ', area\\n\\nstop \\nend\\n```\"}, {'role': 'assistant', 'content': 'Fortran, short for \"Formula Translation,\" is one of the oldest high-level programming languages, with its initial release dating back to the 1950s. Let\\'s explore its defining characteristics, historical aspects, main use cases, reasons for enduring popularity, and specific syntax rules of Fortran 77, as seen in the provided program example.\\n\\n### Defining Characteristics and Historical Aspects:\\n\\n1. **Designed for Numeric and Scientific Computing**: Fortran was primarily developed for numeric computation and scientific computing. Its design targets include efficient execution of mathematical operations, which made it popular in computational sciences.\\n\\n2. **Early Compiler Development**: Fortran is noted for being among the first high-level languages to have an optimizing compiler, which helped improve performance without needing extensive machine-level programming.\\n\\n3. **Evolution**: Over the years, Fortran has evolved through various versions, such as FORTRAN II, FORTRAN IV, Fortran 66, Fortran 77, Fortran 90, and beyond. Each version has introduced new features while maintaining backward compatibility where possible.\\n\\n4. **Significant Contribution to Programming Paradigms**: Fortran\\'s introduction of loop constructs, conditionals, and subprograms has had a profound impact on the development of programming paradigms.\\n\\n### Main Use Cases:\\n\\n1. **Scientific and Engineering Applications**: Fortran is widely used in scientific computing applications involving large-scale numerical calculations, such as weather modeling, computational fluid dynamics, and simulations in physics and engineering.\\n\\n2. **High-Performance Computing (HPC)**: Its efficiency in number crunching makes it a go-to language for high-performance computing tasks.\\n\\n### Reasons for Enduring Popularity:\\n\\n1. **Legacy Codebase**: A significant amount of scientific and engineering computational code is written in Fortran, which continues to be maintained and incrementally updated.\\n\\n2. **Performance**: Fortran\\'s optimization for numerical computation allows it to remain competitive in terms of execution speed, which is crucial for scientific applications.\\n\\n3. **Library Support**: Over the years, Fortran has developed a rich ecosystem of libraries tailored for scientific computations, which incentivizes its continued use.\\n\\n4. **Community and Industry Trust**: Long-standing trust within the scientific community for its precision and reliability in accurately executing complex calculations contributes to its ongoing usage.\\n\\n### Fortran 77 Syntax and Formatting Rules:\\n\\nFortran 77 introduced some structured programming features while retaining older column-based formats:\\n\\n1. **Column-Based Format**: \\n   - Statements must start from column 7 onward, with columns 1-5 reserved for labels and column 6 for continuation character (`&`).\\n   - Comments start with a `c` or `*` in column 1.\\n\\n2. **End Statements with Specific Keywords**: Program logic is terminated with keywords such as `stop` and `end`.\\n\\n3. **Line Continuation**: A continuation line begins in column 6 if an earlier line is too long. \\n\\n4. **Fixed Format**: Fortran 77 follows a fixed-column format, which can be a limitation compared to the free-form style seen in more recent languages.\\n\\n5. **Implicit Variable Declaration**: By default, Fortran infers variable types through naming conventions, e.g., variables starting with the letters `I` through `N` are implicitly integers unless explicitly declared.\\n\\n### Example Program Analysis:\\n\\nThe provided program demonstrates Fortran 77 syntax for calculating the area of a circle:\\n```fortran\\nprogram circle\\nreal r, area\\nc This program reads a real number r and prints\\nc the area of a circle with radius r.\\nwrite (*,*) \\'Give radius r:\\'\\nread (*,*) r\\narea = 3.14159*r*r\\nwrite (*,*) \\'Area = \\', area\\n\\nstop\\nend\\n```\\n- **Variable Declaration**: Uses `real` to declare floating-point variables.\\n- **Comments**: Lines starting with `c` are comments and provide documentation.\\n- **I/O Statements**: `write` and `read` perform basic input-output operations.\\n- **Arithmetic Assignment**: Computes the area using simple arithmetic operations.\\n\\nDespite its age, Fortran continues to be a robust choice for applications where numerical calculation performance is critical.'}]\n"
     ]
    }
   ],
   "source": [
    "# Create instruction data\n",
    "instruct_data = [\n",
    "    {\"role\":\"system\", \"content\":\"You programming expert\"},\n",
    "    {\"role\":\"user\", \"content\":\"Please answer the following question\"},\n",
    "    {\"role\":\"user\", \"content\":f\"{question}\"},\n",
    "    {\"role\":\"assistant\", \"content\":f\"{answer}\"},\n",
    "]\n",
    "\n",
    "print(instruct_data)"
   ]
  },
  {
   "cell_type": "markdown",
   "id": "38ff94d0-f4f1-4018-bef7-30ce8139bb5e",
   "metadata": {},
   "source": [
    "### random sampling\n",
    "- temperature\n",
    "- top_k\n",
    "- top_n\n",
    "- top_p\n",
    "- token_length"
   ]
  },
  {
   "cell_type": "code",
   "execution_count": 24,
   "id": "d719bf5f-4f4a-4266-bc72-e4170d2a081f",
   "metadata": {},
   "outputs": [
    {
     "name": "stdout",
     "output_type": "stream",
     "text": [
      "Fortran 77 is a high-level programming language designed for numerical computations. It has specific formatting rules and conventions, including column position rules, that must be followed when writing and organizing a Fortran program.\n",
      "\n",
      "Column Position Rules:\n",
      "1. Columns 1-5: These columns are for statement labels, which are numerical and used for `GO TO` statements and format identifiers. The example provided does not use any statement labels.\n",
      "2. Column 6: This column is for continuation of the previous line. If a statement does not fit within a single line (72 columns), it can be continued on the next line by placing any non-space character in the sixth column of the continued line.\n",
      "3. Columns 7-72: These columns are for statements. All Fortran 77 statements must start in these columns.\n",
      "4. Columns 73-80: These columns are often used for sequence numbers and are ignored by the compiler.\n",
      "\n",
      "Comments:\n",
      "In Fortran 77, comments are denoted by the character 'c' or '*' in the first column. These lines are ignored by the compiler. They are used to provide information about the code to the programmer and anyone else who might be reading the code. In the provided example, the lines starting with 'c' are comments.\n",
      "\n",
      "The `stop` Statement:\n",
      "The `stop` statement is used to end the execution of the program. It is not necessary to include a `stop` statement at the end of a program because the `end` statement also terminates the program. However, `stop` can be used to terminate the program before the `end` statement is reached, based on certain conditions.\n",
      "\n",
      "In the provided example, the `stop` statement is not necessary because there are no statements after it and the `end` statement would terminate the program anyway. However, it does not cause any issues and might be included for clarity or consistency if `stop` is used elsewhere in the program.\n",
      "\n",
      "The provided example follows all the rules and conventions of Fortran 77. It uses comments to explain what the program does, it does not require any statement labels or line continuations, and all statements fit within the required columns. The `stop` and `end` statements are used to terminate the program.\n"
     ]
    }
   ],
   "source": [
    "temperature=0.5 #0.7\n",
    "top_n=5\n",
    "top_p=0.8\n",
    "token_length=256\n",
    "\n",
    "response = client.chat.completions.create(\n",
    "    model=\"gpt-4\",  # Specify the model you want to use\n",
    "    messages=messages,\n",
    "    temperature=temperature,\n",
    "    top_p=top_p,\n",
    "    n=top_n,\n",
    ")\n",
    "\n",
    "answer = response.choices[0].message.content\n",
    "print(answer)"
   ]
  },
  {
   "cell_type": "markdown",
   "id": "37df2beb-41e2-411f-a470-9823ad0d16a7",
   "metadata": {},
   "source": [
    "### class pipeline"
   ]
  },
  {
   "cell_type": "code",
   "execution_count": null,
   "id": "f320fd3f-c48f-4f5d-8e1c-9448cfa9a9de",
   "metadata": {},
   "outputs": [],
   "source": []
  }
 ],
 "metadata": {
  "kernelspec": {
   "display_name": "Python 3 (ipykernel)",
   "language": "python",
   "name": "python3"
  },
  "language_info": {
   "codemirror_mode": {
    "name": "ipython",
    "version": 3
   },
   "file_extension": ".py",
   "mimetype": "text/x-python",
   "name": "python",
   "nbconvert_exporter": "python",
   "pygments_lexer": "ipython3",
   "version": "3.10.15"
  }
 },
 "nbformat": 4,
 "nbformat_minor": 5
}
