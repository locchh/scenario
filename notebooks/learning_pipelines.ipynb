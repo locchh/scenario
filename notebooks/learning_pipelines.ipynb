{
 "cells": [
  {
   "cell_type": "code",
   "execution_count": 1,
   "id": "e2e3ee95-84af-459d-be56-afdcc1b3a943",
   "metadata": {},
   "outputs": [
    {
     "name": "stdout",
     "output_type": "stream",
     "text": [
      "Import successfully!\n"
     ]
    }
   ],
   "source": [
    "import os\n",
    "import sys\n",
    "import json\n",
    "\n",
    "current_dir = os.getcwd()\n",
    "sys.path.append(os.path.join(current_dir,\"..\"))\n",
    "\n",
    "from utils.helper import set_openai_key, test_openai_api, create_openai_client, count_tiktoken_length\n",
    "\n",
    "print(\"Import successfully!\")"
   ]
  },
  {
   "cell_type": "code",
   "execution_count": 2,
   "id": "66e8a0a4-c2ce-4f0b-a92b-67d9ed654097",
   "metadata": {},
   "outputs": [
    {
     "name": "stdout",
     "output_type": "stream",
     "text": [
      "API key set successfully.\n",
      "This is a test.\n"
     ]
    }
   ],
   "source": [
    "# Intialize\n",
    "set_openai_key() # Set openai key\n",
    "test_openai_api() # Test openai api\n",
    "client = create_openai_client() # Create openai client"
   ]
  },
  {
   "cell_type": "markdown",
   "id": "154cb9aa-25f1-4deb-a08f-dbf7d674d587",
   "metadata": {},
   "source": [
    "### Troubleshooting"
   ]
  },
  {
   "cell_type": "code",
   "execution_count": 3,
   "id": "e47ca314-ab3e-45f3-974e-4c44fe97ccde",
   "metadata": {},
   "outputs": [
    {
     "name": "stdout",
     "output_type": "stream",
     "text": [
      "[\n",
      "    {\n",
      "        \"role\": \"system\",\n",
      "        \"content\": \"You are a programming expert.\"\n",
      "    },\n",
      "    {\n",
      "        \"role\": \"user\",\n",
      "        \"content\": \"Please answer the following question.\"\n",
      "    },\n",
      "    {\n",
      "        \"role\": \"user\",\n",
      "        \"content\": \"What steps would you take to identify and resolve high CPU usage on an IBM z/OS mainframe system using RMF reports, WLM policies, and system logs?\"\n",
      "    },\n",
      "    {\n",
      "        \"role\": \"user\",\n",
      "        \"content\": \"Troubleshooting high CPU usage on an IBM z/OS mainframe system involves a systematic approach using various tools and techniques. Here\\u2019s a detailed step-by-step guide to help you identify and resolve the issue:\\n\\n### Step 1: Initial Assessment\\n1. **Understand the Symptoms**: Gather information about the high CPU usage, such as when it started, any changes made to the system recently, and the impact on applications and users.\\n2. **Check System Logs**: Review system logs for any errors or warnings that might indicate what processes are consuming more CPU than expected.\\n\\n### Step 2: Use RMF (Resource Measurement Facility) Reports\\n1. **Collect RMF Data**: Use RMF to collect performance data. RMF provides detailed reports on system performance, including CPU utilization.\\n2. **Analyze CPU Activity**: Look at the RMF CPU Activity report. This will show you which workloads are consuming the most CPU. Pay attention to the LPAR (Logical Partition) utilization and the CPU busy percentage.\\n3. **Identify Peak Usage Times**: Determine if high CPU usage occurs during specific times or if it is consistent. This can help identify batch jobs or specific processes that might be causing the issue.\\n\\n### Step 3: Review WLM (Workload Manager) Policies\\n1. **Check WLM Policies**: Ensure that WLM policies are correctly set up. WLM manages system resources and prioritizes workloads, so incorrect settings can lead to suboptimal CPU usage.\\n2. **Analyze Service Class Goals**: Review the service class goals and ensure they align with business priorities. If a low-priority workload is consuming too much CPU, consider adjusting its importance or goals.\\n3. **Adjust Resource Allocation**: If necessary, adjust the resource allocation in WLM to ensure critical workloads have the CPU resources they need.\\n\\n### Step 4: Drill Down into Specific Workloads\\n1. **Identify Problematic Jobs or Tasks**: Use RMF reports to identify specific jobs or tasks that are consuming excessive CPU. Look for any long-running or looping jobs.\\n2. **Investigate Application Code**: If a particular application is identified as the culprit, review its code for inefficiencies. This might involve working with developers to optimize algorithms or queries.\\n3. **Check for Recent Changes**: Determine if any recent changes to applications or system configurations might have led to increased CPU usage.\\n\\n### Step 5: System Configuration and Optimization\\n1. **Review System Configuration**: Ensure that the system is configured optimally for\"\n",
      "    }\n",
      "]\n"
     ]
    }
   ],
   "source": [
    "from pipelines.Learning import TroubleshootingPipeline\n",
    "\n",
    "# Create pipeline\n",
    "pipeline = TroubleshootingPipeline(client)\n",
    "\n",
    "# Read content\n",
    "with open(\"../assets/examples/learning/troubleshooting.txt\",\"r\",encoding=\"utf-8\") as f:\n",
    "    content = f.read()\n",
    "\n",
    "# Generate data\n",
    "data = pipeline(content)\n",
    "\n",
    "print(json.dumps(data, indent=4))"
   ]
  },
  {
   "cell_type": "markdown",
   "id": "8988ee29-74be-4c32-adda-dce61a7cf4e3",
   "metadata": {},
   "source": [
    "### Definitions and Terminology"
   ]
  },
  {
   "cell_type": "code",
   "execution_count": 4,
   "id": "7bfbbd51-341a-457f-a64d-ccdf505168a0",
   "metadata": {},
   "outputs": [
    {
     "name": "stdout",
     "output_type": "stream",
     "text": [
      "[\n",
      "    {\n",
      "        \"role\": \"system\",\n",
      "        \"content\": \"You are a programming expert.\"\n",
      "    },\n",
      "    {\n",
      "        \"role\": \"user\",\n",
      "        \"content\": \"Please answer the following question.\"\n",
      "    },\n",
      "    {\n",
      "        \"role\": \"user\",\n",
      "        \"content\": \"What are the key characteristics that define mainframe systems, and in which industries are they typically used?\"\n",
      "    },\n",
      "    {\n",
      "        \"role\": \"user\",\n",
      "        \"content\": \"Mainframe systems are known for their reliability, scalability, and ability to handle massive volumes of data and transactions. Here are some key characteristics that define them:\\n\\n1. **High Performance and Throughput**: Mainframes are designed to process large amounts of data quickly and efficiently. They can handle millions of transactions per second, which is crucial for industries that require real-time processing.\\n\\n2. **Reliability and Availability**: These systems are built to be highly reliable and are often used in environments where downtime is not an option. They typically offer features like redundant components and failover capabilities to ensure continuous operation.\\n\\n3. **Scalability**: Mainframes can scale both vertically and horizontally, meaning they can handle increasing workloads by adding more resources or by upgrading existing ones.\\n\\n4. **Security**: Mainframes offer robust security features, including advanced encryption and access controls, making them suitable for industries that handle sensitive data.\\n\\n5. **Virtualization**: Mainframes can run multiple operating systems and applications concurrently, which allows for efficient resource utilization and flexibility.\\n\\n6. **Legacy System Support**: Many mainframes are used to run legacy applications that are critical to business operations, providing a stable environment for these older systems.\\n\\nAs for the industries where mainframes are typically used, you'll find them in sectors that require high-volume transaction processing and data management:\\n\\n- **Financial Services**: Banks and insurance companies use mainframes for processing transactions, managing accounts, and running complex financial models.\\n- **Healthcare**: Hospitals and healthcare providers rely on mainframes to manage patient records, billing systems, and other critical data.\\n- **Government**: Various government agencies use mainframes for data processing, tax systems, and social services management.\\n- **Retail**: Large retailers use mainframes for inventory management, point-of-sale systems, and customer data processing.\\n- **Telecommunications**: Mainframes help manage billing systems, customer databases, and network operations for telecom companies.\\n\\nOverall, mainframes are the backbone of many critical operations across these industries, ensuring that data is processed efficiently and securely.\"\n",
      "    }\n",
      "]\n"
     ]
    }
   ],
   "source": [
    "from pipelines.Learning import DefinitionPipeline\n",
    "\n",
    "# Create pipeline\n",
    "pipeline = DefinitionPipeline(client)\n",
    "\n",
    "# Read content\n",
    "with open(\"../assets/examples/learning/definition.txt\",\"r\",encoding=\"utf-8\") as f:\n",
    "    content = f.read()\n",
    "\n",
    "# Generate data\n",
    "data = pipeline(content)\n",
    "\n",
    "print(json.dumps(data, indent=4))"
   ]
  },
  {
   "cell_type": "code",
   "execution_count": null,
   "id": "41db9ab8-b225-4aea-88a5-751f3ba6cffe",
   "metadata": {},
   "outputs": [],
   "source": []
  }
 ],
 "metadata": {
  "kernelspec": {
   "display_name": "Python 3 (ipykernel)",
   "language": "python",
   "name": "python3"
  },
  "language_info": {
   "codemirror_mode": {
    "name": "ipython",
    "version": 3
   },
   "file_extension": ".py",
   "mimetype": "text/x-python",
   "name": "python",
   "nbconvert_exporter": "python",
   "pygments_lexer": "ipython3",
   "version": "3.10.15"
  }
 },
 "nbformat": 4,
 "nbformat_minor": 5
}
