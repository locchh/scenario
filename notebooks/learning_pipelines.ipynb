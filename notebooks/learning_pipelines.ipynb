{
 "cells": [
  {
   "cell_type": "code",
   "execution_count": 1,
   "id": "e2e3ee95-84af-459d-be56-afdcc1b3a943",
   "metadata": {},
   "outputs": [
    {
     "name": "stdout",
     "output_type": "stream",
     "text": [
      "Import successfully!\n"
     ]
    }
   ],
   "source": [
    "import os\n",
    "import sys\n",
    "import json\n",
    "\n",
    "current_dir = os.getcwd()\n",
    "sys.path.append(os.path.join(current_dir,\"..\"))\n",
    "\n",
    "from utils.helper import set_openai_key, test_openai_api, create_openai_client, count_tiktoken_length\n",
    "\n",
    "print(\"Import successfully!\")"
   ]
  },
  {
   "cell_type": "code",
   "execution_count": 2,
   "id": "66e8a0a4-c2ce-4f0b-a92b-67d9ed654097",
   "metadata": {},
   "outputs": [
    {
     "name": "stdout",
     "output_type": "stream",
     "text": [
      "API key set successfully.\n",
      "This is a test. How can I assist you further?\n"
     ]
    }
   ],
   "source": [
    "# Intialize\n",
    "set_openai_key() # Set openai key\n",
    "test_openai_api() # Test openai api\n",
    "client = create_openai_client() # Create openai client"
   ]
  },
  {
   "cell_type": "markdown",
   "id": "154cb9aa-25f1-4deb-a08f-dbf7d674d587",
   "metadata": {},
   "source": [
    "### Troubleshooting"
   ]
  },
  {
   "cell_type": "code",
   "execution_count": 3,
   "id": "e47ca314-ab3e-45f3-974e-4c44fe97ccde",
   "metadata": {},
   "outputs": [
    {
     "ename": "RuntimeError",
     "evalue": "An error occurred while processing the content: 'Choice' object has no attribute 'get'",
     "output_type": "error",
     "traceback": [
      "\u001b[0;31m---------------------------------------------------------------------------\u001b[0m",
      "\u001b[0;31mAttributeError\u001b[0m                            Traceback (most recent call last)",
      "File \u001b[0;32m~/Works/synthflow/notebooks/../pipelines/Learning.py:63\u001b[0m, in \u001b[0;36mTroubleshootingPipeline.__call__\u001b[0;34m(self, content)\u001b[0m\n\u001b[1;32m     55\u001b[0m response \u001b[38;5;241m=\u001b[39m \u001b[38;5;28mself\u001b[39m\u001b[38;5;241m.\u001b[39mclient\u001b[38;5;241m.\u001b[39mchat\u001b[38;5;241m.\u001b[39mcompletions\u001b[38;5;241m.\u001b[39mcreate(\n\u001b[1;32m     56\u001b[0m     messages\u001b[38;5;241m=\u001b[39mmessages,\n\u001b[1;32m     57\u001b[0m     model\u001b[38;5;241m=\u001b[39m\u001b[38;5;28mself\u001b[39m\u001b[38;5;241m.\u001b[39mmodel,\n\u001b[0;32m   (...)\u001b[0m\n\u001b[1;32m     60\u001b[0m     top_p\u001b[38;5;241m=\u001b[39m\u001b[38;5;28mself\u001b[39m\u001b[38;5;241m.\u001b[39mtop_p\n\u001b[1;32m     61\u001b[0m )\n\u001b[0;32m---> 63\u001b[0m \u001b[38;5;28;01mif\u001b[39;00m \u001b[38;5;129;01mnot\u001b[39;00m response\u001b[38;5;241m.\u001b[39mchoices \u001b[38;5;129;01mor\u001b[39;00m \u001b[38;5;129;01mnot\u001b[39;00m \u001b[43mresponse\u001b[49m\u001b[38;5;241;43m.\u001b[39;49m\u001b[43mchoices\u001b[49m\u001b[43m[\u001b[49m\u001b[38;5;241;43m0\u001b[39;49m\u001b[43m]\u001b[49m\u001b[38;5;241;43m.\u001b[39;49m\u001b[43mget\u001b[49m(\u001b[38;5;124m'\u001b[39m\u001b[38;5;124mmessage\u001b[39m\u001b[38;5;124m'\u001b[39m):\n\u001b[1;32m     64\u001b[0m     \u001b[38;5;28;01mraise\u001b[39;00m \u001b[38;5;167;01mValueError\u001b[39;00m(\u001b[38;5;124m\"\u001b[39m\u001b[38;5;124mNo valid response for generating the question.\u001b[39m\u001b[38;5;124m\"\u001b[39m)\n",
      "File \u001b[0;32m~/miniconda3/envs/venv/lib/python3.10/site-packages/pydantic/main.py:856\u001b[0m, in \u001b[0;36mBaseModel.__getattr__\u001b[0;34m(self, item)\u001b[0m\n\u001b[1;32m    854\u001b[0m \u001b[38;5;28;01melse\u001b[39;00m:\n\u001b[1;32m    855\u001b[0m     \u001b[38;5;66;03m# this is the current error\u001b[39;00m\n\u001b[0;32m--> 856\u001b[0m     \u001b[38;5;28;01mraise\u001b[39;00m \u001b[38;5;167;01mAttributeError\u001b[39;00m(\u001b[38;5;124mf\u001b[39m\u001b[38;5;124m'\u001b[39m\u001b[38;5;132;01m{\u001b[39;00m\u001b[38;5;28mtype\u001b[39m(\u001b[38;5;28mself\u001b[39m)\u001b[38;5;241m.\u001b[39m\u001b[38;5;18m__name__\u001b[39m\u001b[38;5;132;01m!r}\u001b[39;00m\u001b[38;5;124m object has no attribute \u001b[39m\u001b[38;5;132;01m{\u001b[39;00mitem\u001b[38;5;132;01m!r}\u001b[39;00m\u001b[38;5;124m'\u001b[39m)\n",
      "\u001b[0;31mAttributeError\u001b[0m: 'Choice' object has no attribute 'get'",
      "\nDuring handling of the above exception, another exception occurred:\n",
      "\u001b[0;31mRuntimeError\u001b[0m                              Traceback (most recent call last)",
      "Cell \u001b[0;32mIn[3], line 11\u001b[0m\n\u001b[1;32m      8\u001b[0m     content \u001b[38;5;241m=\u001b[39m f\u001b[38;5;241m.\u001b[39mread()\n\u001b[1;32m     10\u001b[0m \u001b[38;5;66;03m# Generate data\u001b[39;00m\n\u001b[0;32m---> 11\u001b[0m data \u001b[38;5;241m=\u001b[39m \u001b[43mpipeline\u001b[49m\u001b[43m(\u001b[49m\u001b[43mcontent\u001b[49m\u001b[43m)\u001b[49m\n\u001b[1;32m     13\u001b[0m \u001b[38;5;28mprint\u001b[39m(json\u001b[38;5;241m.\u001b[39mdumps(data, indent\u001b[38;5;241m=\u001b[39m\u001b[38;5;241m4\u001b[39m))\n",
      "File \u001b[0;32m~/Works/synthflow/notebooks/../pipelines/Learning.py:99\u001b[0m, in \u001b[0;36mTroubleshootingPipeline.__call__\u001b[0;34m(self, content)\u001b[0m\n\u001b[1;32m     96\u001b[0m     \u001b[38;5;28;01mreturn\u001b[39;00m instruct_data\n\u001b[1;32m     98\u001b[0m \u001b[38;5;28;01mexcept\u001b[39;00m \u001b[38;5;167;01mException\u001b[39;00m \u001b[38;5;28;01mas\u001b[39;00m e:\n\u001b[0;32m---> 99\u001b[0m     \u001b[38;5;28;01mraise\u001b[39;00m \u001b[38;5;167;01mRuntimeError\u001b[39;00m(\u001b[38;5;124mf\u001b[39m\u001b[38;5;124m\"\u001b[39m\u001b[38;5;124mAn error occurred while processing the content: \u001b[39m\u001b[38;5;132;01m{\u001b[39;00me\u001b[38;5;132;01m}\u001b[39;00m\u001b[38;5;124m\"\u001b[39m)\n",
      "\u001b[0;31mRuntimeError\u001b[0m: An error occurred while processing the content: 'Choice' object has no attribute 'get'"
     ]
    }
   ],
   "source": [
    "from pipelines.Learning import TroubleshootingPipeline\n",
    "\n",
    "# Create pipeline\n",
    "pipeline = TroubleshootingPipeline(client)\n",
    "\n",
    "# Read content\n",
    "with open(\"../assets/examples/learning/troubleshooting.txt\",\"r\",encoding=\"utf-8\") as f:\n",
    "    content = f.read()\n",
    "\n",
    "# Generate data\n",
    "data = pipeline(content)\n",
    "\n",
    "print(json.dumps(data, indent=4))"
   ]
  },
  {
   "cell_type": "markdown",
   "id": "8988ee29-74be-4c32-adda-dce61a7cf4e3",
   "metadata": {},
   "source": [
    "### Definitions and Terminology"
   ]
  },
  {
   "cell_type": "code",
   "execution_count": 6,
   "id": "7bfbbd51-341a-457f-a64d-ccdf505168a0",
   "metadata": {},
   "outputs": [
    {
     "name": "stdout",
     "output_type": "stream",
     "text": [
      "[\n",
      "    {\n",
      "        \"role\": \"system\",\n",
      "        \"content\": \"You are a programming expert.\"\n",
      "    },\n",
      "    {\n",
      "        \"role\": \"user\",\n",
      "        \"content\": \"Please answer the following question.\"\n",
      "    },\n",
      "    {\n",
      "        \"role\": \"user\",\n",
      "        \"content\": \"What are mainframe systems, and in which industries are they commonly used for tasks such as transaction processing and managing large databases?\"\n",
      "    },\n",
      "    {\n",
      "        \"role\": \"user\",\n",
      "        \"content\": \"Mainframe systems are powerful computers designed to handle and process very large amounts of data quickly and reliably. They are known for their high level of performance, scalability, and security, making them ideal for critical applications where downtime is not an option. These systems are particularly adept at transaction processing, which involves handling a large number of simultaneous transactions, and managing large databases that require robust data integrity and security.\\n\\nMainframes are commonly used in industries where these capabilities are crucial. For example:\\n\\n1. **Banking and Finance**: Mainframes are the backbone of many financial institutions. They handle millions of transactions daily, such as ATM withdrawals, credit card processing, and online banking operations, ensuring accuracy and security.\\n\\n2. **Insurance**: In the insurance industry, mainframes manage vast amounts of policyholder data, process claims, and perform complex calculations needed for underwriting and risk assessment.\\n\\n3. **Retail**: Large retailers use mainframes to manage inventory, process sales transactions, and analyze consumer data to optimize operations and improve customer service.\\n\\n4. **Healthcare**: Mainframes are used to manage patient records, process billing information, and ensure compliance with regulations such as HIPAA, which requires stringent data security measures.\\n\\n5. **Government**: Various government agencies rely on mainframes for tasks like processing tax returns, managing social security data, and handling other large-scale public service operations.\\n\\n6. **Telecommunications**: Telecom companies use mainframes to manage billing systems, customer data, and network operations, ensuring reliable service and accurate billing.\\n\\nIn all these industries, the reliability and efficiency of mainframe systems make them indispensable for managing complex, data-intensive tasks.\"\n",
      "    }\n",
      "]\n"
     ]
    }
   ],
   "source": [
    "from pipelines.Learning import DefinitionPipeline\n",
    "\n",
    "# Create pipeline\n",
    "pipeline = DefinitionPipeline(client)\n",
    "\n",
    "# Read content\n",
    "with open(\"../assets/examples/learning/definition.txt\",\"r\",encoding=\"utf-8\") as f:\n",
    "    content = f.read()\n",
    "\n",
    "# Generate data\n",
    "data = pipeline(content)\n",
    "\n",
    "print(json.dumps(data, indent=4))"
   ]
  },
  {
   "cell_type": "code",
   "execution_count": null,
   "id": "41db9ab8-b225-4aea-88a5-751f3ba6cffe",
   "metadata": {},
   "outputs": [],
   "source": []
  }
 ],
 "metadata": {
  "kernelspec": {
   "display_name": "Python 3 (ipykernel)",
   "language": "python",
   "name": "python3"
  },
  "language_info": {
   "codemirror_mode": {
    "name": "ipython",
    "version": 3
   },
   "file_extension": ".py",
   "mimetype": "text/x-python",
   "name": "python",
   "nbconvert_exporter": "python",
   "pygments_lexer": "ipython3",
   "version": "3.10.15"
  }
 },
 "nbformat": 4,
 "nbformat_minor": 5
}
