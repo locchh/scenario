{
 "cells": [
  {
   "cell_type": "code",
   "execution_count": 1,
   "id": "a7b32978-b1ce-45cf-b31d-eec68fd0470e",
   "metadata": {},
   "outputs": [
    {
     "name": "stdout",
     "output_type": "stream",
     "text": [
      "Import successfully!\n"
     ]
    }
   ],
   "source": [
    "import os\n",
    "import sys\n",
    "import json\n",
    "\n",
    "current_dir = os.getcwd()\n",
    "sys.path.append(os.path.join(current_dir,\"..\"))\n",
    "\n",
    "from utils.helper import set_openai_key, test_openai_api, create_openai_client, count_tiktoken_length\n",
    "\n",
    "print(\"Import successfully!\")"
   ]
  },
  {
   "cell_type": "code",
   "execution_count": 2,
   "id": "7805409b-910a-4a2c-b643-739b53e36c72",
   "metadata": {},
   "outputs": [
    {
     "name": "stdout",
     "output_type": "stream",
     "text": [
      "API key set successfully.\n",
      "This is a test.\n"
     ]
    }
   ],
   "source": [
    "# Intialize\n",
    "set_openai_key() # Set openai key\n",
    "test_openai_api() # Test openai api\n",
    "client = create_openai_client() # Create openai client"
   ]
  },
  {
   "cell_type": "markdown",
   "id": "94dfb113-50aa-4719-8d21-82d3ff4d258a",
   "metadata": {},
   "source": [
    "### SQL Query Assistance"
   ]
  },
  {
   "cell_type": "code",
   "execution_count": 3,
   "id": "3cf8c7a6-f549-4ab3-a41f-791a3789919e",
   "metadata": {},
   "outputs": [
    {
     "name": "stdout",
     "output_type": "stream",
     "text": [
      "[\n",
      "    {\n",
      "        \"role\": \"system\",\n",
      "        \"content\": \"You are a programming expert.\"\n",
      "    },\n",
      "    {\n",
      "        \"role\": \"user\",\n",
      "        \"content\": \"How would you write an SQL query to find the top 5 customers with the highest total purchase amounts from an \\\"orders\\\" table, where each order has a \\\"customer_id\\\" and \\\"total_amount\\\" column, and ensure that the results are ordered by the total purchase amount in descending order?\"\n",
      "    },\n",
      "    {\n",
      "        \"role\": \"assistant\",\n",
      "        \"content\": \"```sql\\nSELECT customer_id, SUM(total_amount) AS total_purchase\\nFROM orders\\nGROUP BY customer_id\\nORDER BY total_purchase DESC\\nLIMIT 5;\\n```\"\n",
      "    }\n",
      "]\n"
     ]
    }
   ],
   "source": [
    "from pipelines.Coding import SQLQueryPipeline\n",
    "\n",
    "# Create pipeline\n",
    "pipeline = SQLQueryPipeline(client)\n",
    "\n",
    "# Generate data\n",
    "data = pipeline()\n",
    "\n",
    "print(json.dumps(data, indent=4))"
   ]
  },
  {
   "cell_type": "code",
   "execution_count": 5,
   "id": "f96fbce8-e359-4541-be3d-716c74951f43",
   "metadata": {},
   "outputs": [
    {
     "name": "stdout",
     "output_type": "stream",
     "text": [
      "[\n",
      "    {\n",
      "        \"role\": \"system\",\n",
      "        \"content\": \"You are a programming expert.\"\n",
      "    },\n",
      "    {\n",
      "        \"role\": \"user\",\n",
      "        \"content\": \"How would you write an SQL query to find the top 5 highest-paid employees from an \\\"employees\\\" table, including their names, salaries, and department names, assuming there is a \\\"departments\\\" table that can be joined on a \\\"department_id\\\" field?\"\n",
      "    },\n",
      "    {\n",
      "        \"role\": \"assistant\",\n",
      "        \"content\": \"```sql\\nSELECT e.name, e.salary, d.department_name\\nFROM employees e\\nJOIN departments d ON e.department_id = d.department_id\\nORDER BY e.salary DESC\\nLIMIT 5;\\n```\"\n",
      "    }\n",
      "]\n"
     ]
    }
   ],
   "source": [
    "# Generate data\n",
    "data = pipeline()\n",
    "\n",
    "print(json.dumps(data, indent=4))"
   ]
  },
  {
   "cell_type": "markdown",
   "id": "d9b94ab5-7505-4469-9f97-f7d39354529a",
   "metadata": {},
   "source": [
    "### Code Documentation"
   ]
  },
  {
   "cell_type": "code",
   "execution_count": 3,
   "id": "48a21d99-5bd8-47cc-a831-2dd22f54138b",
   "metadata": {},
   "outputs": [
    {
     "name": "stdout",
     "output_type": "stream",
     "text": [
      "[\n",
      "    {\n",
      "        \"role\": \"system\",\n",
      "        \"content\": \"You are a programming expert.\"\n",
      "    },\n",
      "    {\n",
      "        \"role\": \"user\",\n",
      "        \"content\": \"Please document the following code\"\n",
      "    },\n",
      "    {\n",
      "        \"role\": \"user\",\n",
      "        \"content\": \"```cpp\\n#include <iostream>\\n#include <cctype>\\n\\ndouble celsiusToFahrenheit(double celsius) {\\n    return celsius * 9.0 / 5.0 + 32;\\n}\\n\\ndouble fahrenheitToCelsius(double fahrenheit) {\\n    return (fahrenheit - 32) * 5.0 / 9.0;\\n}\\n\\nvoid convertTemperature() {\\n    double temperature;\\n    char unit;\\n    \\n    std::cout << \\\"Enter temperature: \\\";\\n    std::cin >> temperature;\\n    \\n    std::cout << \\\"Enter unit (C/F): \\\";\\n    std::cin >> unit;\\n    unit = std::toupper(unit);\\n    \\n    if (unit == 'C') {\\n        double converted = celsiusToFahrenheit(temperature);\\n        std::cout << \\\"Converted temperature: \\\" << converted << \\\" F\\\" << std::endl;\\n    } else if (unit == 'F') {\\n        double converted = fahrenheitToCelsius(temperature);\\n        std::cout << \\\"Converted temperature: \\\" << converted << \\\" C\\\" << std::endl;\\n    } else {\\n        std::cout << \\\"Invalid unit entered. Please enter 'C' for Celsius or 'F' for Fahrenheit.\\\" << std::endl;\\n    }\\n}\\n\\nint main() {\\n    convertTemperature();\\n    return 0;\\n}\\n```\"\n",
      "    },\n",
      "    {\n",
      "        \"role\": \"assistant\",\n",
      "        \"content\": \"# Code Documentation\\n\\n## Overview\\nThis C++ program is designed to convert temperatures between Celsius and Fahrenheit. It provides a simple command-line interface for users to input a temperature value and specify the unit of measurement (Celsius or Fahrenheit). The program then converts the temperature to the other unit and displays the result.\\n\\n## Key Functions and Methods\\n\\n### `double celsiusToFahrenheit(double celsius)`\\n- **Purpose**: Converts a temperature from Celsius to Fahrenheit.\\n- **Inputs**: \\n  - `celsius`: A `double` representing the temperature in Celsius.\\n- **Outputs**: \\n  - Returns a `double` representing the converted temperature in Fahrenheit.\\n- **Behavior**: Uses the formula `F = C * 9/5 + 32` to perform the conversion.\\n\\n### `double fahrenheitToCelsius(double fahrenheit)`\\n- **Purpose**: Converts a temperature from Fahrenheit to Celsius.\\n- **Inputs**: \\n  - `fahrenheit`: A `double` representing the temperature in Fahrenheit.\\n- **Outputs**: \\n  - Returns a `double` representing the converted temperature in Celsius.\\n- **Behavior**: Uses the formula `C = (F - 32) * 5/9` to perform the conversion.\\n\\n### `void convertTemperature()`\\n- **Purpose**: Handles user interaction for temperature conversion.\\n- **Inputs**: \\n  - None directly; however, it reads user input from the console.\\n- **Outputs**: \\n  - Outputs the converted temperature to the console.\\n- **Behavior**: \\n  - Prompts the user to enter a temperature and its unit (C or F).\\n  - Converts the temperature to the opposite unit using the appropriate conversion function.\\n  - Displays the converted temperature or an error message if the unit is invalid.\\n- **Assumptions**: Assumes that the user inputs a valid numerical temperature and a valid character for the unit ('C' or 'F').\\n\\n## How to Use or Run the Code\\n1. Compile the program using a C++ compiler, e.g., `g++`:\\n   ```bash\\n   g++ -o temperature_converter temperature_converter.cpp\\n   ```\\n2. Run the compiled executable:\\n   ```bash\\n   ./temperature_converter\\n   ```\\n3. Follow the on-screen prompts to enter a temperature and its unit.\\n4. The program will display the converted temperature.\\n\\n## Important Details and Assumptions\\n- The program assumes that the user will enter a valid numerical value for the temperature.\\n- The unit input is case-insensitive due to the use of `std::toupper()`.\\n- The program only accepts 'C' or 'F' as valid units and will display an error message for any other input.\\n\\n## Potential Limitations or Areas for Improvement\\n- **Input Validation**: The program does not currently handle non-numeric input for the temperature, which could lead to runtime errors. Implementing input validation would improve robustness.\\n- **User Interface**: The program could be enhanced with a more user-friendly interface, such as providing more detailed instructions or allowing multiple conversions in a single session.\\n- **Internationalization**: Support for additional temperature units (e.g., Kelvin) could be added to make the program more versatile.\\n- **Error Handling**: Improved error handling could be implemented to manage unexpected input or runtime errors gracefully.\"\n",
      "    }\n",
      "]\n"
     ]
    }
   ],
   "source": [
    "from pipelines.Coding import CodeDocumentationPipeline\n",
    "\n",
    "# Create pipeline\n",
    "pipeline = CodeDocumentationPipeline(client)\n",
    "\n",
    "# Generate data\n",
    "data = pipeline(language=\"cpp\")\n",
    "\n",
    "print(json.dumps(data, indent=4))"
   ]
  },
  {
   "cell_type": "markdown",
   "id": "9024520a-094b-4f57-9e82-6b3927823f05",
   "metadata": {},
   "source": [
    "### Error Explanation"
   ]
  },
  {
   "cell_type": "code",
   "execution_count": 5,
   "id": "051a494a-95b8-4bac-b809-442a274cd06a",
   "metadata": {},
   "outputs": [
    {
     "name": "stdout",
     "output_type": "stream",
     "text": [
      "[\n",
      "    {\n",
      "        \"role\": \"system\",\n",
      "        \"content\": \"You are a programming expert.\"\n",
      "    },\n",
      "    {\n",
      "        \"role\": \"user\",\n",
      "        \"content\": \"Please review the following error message generated in the cpp programming language:\\n\\nerror: expected ';' before '}' token\\n\\n\"\n",
      "    },\n",
      "    {\n",
      "        \"role\": \"assistant\",\n",
      "        \"content\": \"The error message \\\"expected ';' before '}' token\\\" in C++ indicates that the compiler encountered a closing brace (`}`) but was expecting a semicolon (`;`) before it. This typically occurs when a statement or declaration is not properly terminated with a semicolon, which is required in C++ to indicate the end of most statements.\\n\\nHere\\u2019s a step-by-step explanation and guide to resolve this error:\\n\\n### Common Causes:\\n\\n1. **Missing Semicolon After a Statement:**\\n   - Each statement in C++ must end with a semicolon. If you forget to add a semicolon at the end of a statement, the compiler will not recognize the end of the statement and will expect it before the closing brace of the block.\\n\\n2. **Missing Semicolon After a Class or Struct Declaration:**\\n   - When defining a class or struct, you must place a semicolon after the closing brace of the class or struct definition. This is a common oversight.\\n\\n3. **Incomplete Statements:**\\n   - Sometimes, a statement might be incomplete, and the missing semicolon is just a symptom of a larger issue where the statement itself is not fully written.\\n\\n### Steps to Resolve:\\n\\n1. **Check the Line Indicated by the Error:**\\n   - Look at the line number mentioned in the error message. The missing semicolon is often on the line immediately before the line with the closing brace (`}`).\\n\\n2. **Review the Code Block:**\\n   - Examine the code block where the error occurs. Ensure that each statement within the block ends with a semicolon.\\n\\n3. **Check Class and Struct Definitions:**\\n   - If the error is near the end of a class or struct definition, ensure that there is a semicolon after the closing brace of the class or struct.\\n\\n4. **Look for Incomplete Statements:**\\n   - Sometimes, the issue might be due to an incomplete statement. Ensure that all statements are complete and logically correct.\\n\\n5. **Use an IDE or Text Editor with Syntax Highlighting:**\\n   - Syntax highlighting can help you spot missing semicolons more easily. Many IDEs will underline or highlight syntax errors as you type.\\n\\n6. **Compile with More Warnings:**\\n   - Use compiler flags to enable more detailed warnings, which might provide additional context or point out other related issues.\\n\\n### Example:\\n\\nConsider the following incorrect code snippet:\\n\\n```cpp\\nint main() {\\n    int x = 10\\n    if (x > 5) {\\n        std::cout << \\\"x is greater than 5\\\" << std::endl\\n    }\\n    return 0;\\n}\\n```\\n\\n**Issues:**\\n- Missing semicolon after `int x = 10`.\\n- Missing semicolon after `std::endl`.\\n\\n**Corrected Code:**\\n\\n```cpp\\nint main() {\\n    int x = 10;\\n    if (x > 5) {\\n        std::cout << \\\"x is greater than 5\\\" << std::endl;\\n    }\\n    return 0;\\n}\\n```\\n\\nBy ensuring that each statement ends with a semicolon, the error will be resolved. Always remember to check for semicolons after each statement and at the end of class or struct definitions.\"\n",
      "    }\n",
      "]\n"
     ]
    }
   ],
   "source": [
    "from pipelines.Coding import ErrorExplanationPipeline\n",
    "\n",
    "# Create pipeline\n",
    "pipeline = ErrorExplanationPipeline(client)\n",
    "\n",
    "# Generate data\n",
    "data = pipeline(language=\"cpp\")\n",
    "\n",
    "print(json.dumps(data, indent=4))"
   ]
  },
  {
   "cell_type": "code",
   "execution_count": 6,
   "id": "da7f2a7c-93c4-457c-8e62-7ac73d3f49cb",
   "metadata": {},
   "outputs": [
    {
     "name": "stdout",
     "output_type": "stream",
     "text": [
      "[\n",
      "    {\n",
      "        \"role\": \"system\",\n",
      "        \"content\": \"You are a programming expert.\"\n",
      "    },\n",
      "    {\n",
      "        \"role\": \"user\",\n",
      "        \"content\": \"Please review the following error message generated in the java programming language:\\n\\nException in thread \\\"main\\\" java.lang.NullPointerException: Cannot invoke \\\"String.length()\\\" because \\\"str\\\" is null\\n\\n\"\n",
      "    },\n",
      "    {\n",
      "        \"role\": \"assistant\",\n",
      "        \"content\": \"The error message you encountered is a `NullPointerException`, which is a common runtime exception in Java. This specific exception occurs when you attempt to call a method or access a property on an object reference that is `null`. In your case, the error message indicates that the program attempted to invoke the `length()` method on a `String` object referred to by the variable `str`, but `str` was `null` at the time of the call.\\n\\n### Explanation of the Error:\\n\\n1. **`NullPointerException`:** This exception is thrown when your code tries to use an object reference that has not been initialized (i.e., it points to `null`).\\n\\n2. **Cause:** The error message specifies that the method `length()` was called on a `String` object, but the reference `str` was `null`. This means that somewhere in your code, the `str` variable was either not initialized or was explicitly set to `null` before the method call.\\n\\n3. **Example Scenario:**\\n   ```java\\n   String str = null;\\n   int length = str.length(); // This line will throw NullPointerException\\n   ```\\n\\n### Steps to Resolve or Debug the Issue:\\n\\n1. **Check Initialization:**\\n   - Ensure that the `str` variable is properly initialized before it is used. If `str` is expected to be assigned a value from user input, a file, or a database, verify that the source is providing a valid non-null value.\\n\\n2. **Add Null Checks:**\\n   - Before calling methods on the `str` object, add a null check to prevent the method call if `str` is `null`.\\n   ```java\\n   if (str != null) {\\n       int length = str.length();\\n   } else {\\n       // Handle the null case, e.g., assign a default value or throw a custom exception\\n   }\\n   ```\\n\\n3. **Debugging:**\\n   - Use debugging tools or add logging statements to trace the value of `str` before the point where the exception is thrown. This can help identify where `str` becomes `null`.\\n\\n4. **Review Code Logic:**\\n   - Examine the code logic to ensure that `str` is assigned a valid value before the method call. Check all code paths that lead to the method invocation to ensure `str` is not inadvertently set to `null`.\\n\\n5. **Use Optional (Java 8+):**\\n   - Consider using `Optional<String>` if you are dealing with potentially nullable values. This can help you handle nullability more gracefully.\\n   ```java\\n   Optional<String> optionalStr = Optional.ofNullable(str);\\n   optionalStr.ifPresent(s -> {\\n       int length = s.length();\\n       // Further processing\\n   });\\n   ```\\n\\nBy following these steps, you should be able to identify the cause of the `NullPointerException` and implement a solution to prevent it from occurring.\"\n",
      "    }\n",
      "]\n"
     ]
    }
   ],
   "source": [
    "# Generate data\n",
    "data = pipeline(language=\"java\")\n",
    "\n",
    "print(json.dumps(data, indent=4))"
   ]
  },
  {
   "cell_type": "markdown",
   "id": "5eaf2ccc-c5bf-48aa-8e91-effebc55cad2",
   "metadata": {},
   "source": [
    "### Code Review"
   ]
  },
  {
   "cell_type": "code",
   "execution_count": 3,
   "id": "06f362a1-3d4b-482f-a61b-313431b38412",
   "metadata": {},
   "outputs": [
    {
     "name": "stdout",
     "output_type": "stream",
     "text": [
      "[\n",
      "    {\n",
      "        \"role\": \"system\",\n",
      "        \"content\": \"You are a programming expert.\"\n",
      "    },\n",
      "    {\n",
      "        \"role\": \"user\",\n",
      "        \"content\": \"Review the following java code and provide feedback:\"\n",
      "    },\n",
      "    {\n",
      "        \"role\": \"user\",\n",
      "        \"content\": \"```java\\nimport java.util.Scanner;\\n\\npublic class TemperatureConverter {\\n\\n    public double celsiusToFahrenheit(double celsius) {\\n        return (celsius * 9/5) + 32;\\n    }\\n\\n    public double fahrenheitToCelsius(double fahrenheit) {\\n        return (fahrenheit - 32) * 5/9;\\n    }\\n\\n    public static void main(String[] args) {\\n        Scanner scanner = new Scanner(System.in);\\n        TemperatureConverter converter = new TemperatureConverter();\\n\\n        try {\\n            System.out.print(\\\"Enter temperature: \\\");\\n            double temperature = scanner.nextDouble();\\n\\n            System.out.print(\\\"Enter scale (C/F): \\\");\\n            String scale = scanner.next().toUpperCase();\\n\\n            if (scale.equals(\\\"C\\\")) {\\n                double converted = converter.celsiusToFahrenheit(temperature);\\n                System.out.printf(\\\"%.1f Celsius is %.1f Fahrenheit%n\\\", temperature, converted);\\n            } else if (scale.equals(\\\"F\\\")) {\\n                double converted = converter.fahrenheitToCelsius(temperature);\\n                System.out.printf(\\\"%.1f Fahrenheit is %.1f Celsius%n\\\", temperature, converted);\\n            } else {\\n                System.out.println(\\\"Invalid scale entered. Please enter 'C' for Celsius or 'F' for Fahrenheit.\\\");\\n            }\\n        } catch (Exception e) {\\n            System.out.println(\\\"Invalid input. Please enter a valid number for temperature.\\\");\\n        } finally {\\n            scanner.close();\\n        }\\n    }\\n}\\n```\"\n",
      "    },\n",
      "    {\n",
      "        \"role\": \"assistant\",\n",
      "        \"content\": \"Let's go through the code with a detailed review based on the specified aspects:\\n\\n### 1. Readability and Style\\n- **Structure and Comments**: The code is well-structured, with a clear separation between the conversion methods and the main method. However, it lacks comments. Adding comments to explain the purpose of each method and key sections of the code would improve readability.\\n- **Naming**: The class name `TemperatureConverter` and method names `celsiusToFahrenheit` and `fahrenheitToCelsius` are descriptive and follow Java naming conventions. The variable names are also clear and descriptive.\\n- **Formatting**: The code is generally well-formatted, but ensure consistent indentation and spacing for better readability.\\n\\n### 2. Functionality\\n- **Intended Performance**: The code performs the intended functionality of converting temperatures between Celsius and Fahrenheit.\\n- **Edge Cases**: The code handles invalid scale input but could be improved by handling cases where the user enters more than one character for the scale. It also assumes the user will enter a valid number for temperature, which is partially handled by the exception block.\\n\\n### 3. Efficiency\\n- The code is efficient for its purpose. The conversion formulas are straightforward and executed in constant time. There are no redundant calculations or operations.\\n\\n### 4. Best Practices\\n- **Exception Handling**: The use of a generic `Exception` in the catch block is not a best practice. It would be better to catch specific exceptions like `InputMismatchException` for invalid number input.\\n- **Resource Management**: The `Scanner` is closed in the `finally` block, which is good practice to ensure resources are released. However, using a try-with-resources statement would be more idiomatic in Java.\\n- **User Input**: Consider using `nextLine()` for reading input and then parsing it to handle cases where the user might enter unexpected input or whitespace.\\n\\n### 5. Security\\n- **Input Validation**: The code could benefit from additional input validation. For example, checking if the temperature input is a valid double before attempting to parse it.\\n- **Error Messages**: The error messages are generic. Providing more specific feedback could help users correct their input more easily.\\n\\n### 6. Suggestions for Improvement\\n- **Comments**: Add comments to describe the purpose of each method and the main logic.\\n- **Specific Exception Handling**: Replace the generic `Exception` with more specific exceptions.\\n- **Try-With-Resources**: Use try-with-resources for the `Scanner` to automatically handle resource closure.\\n- **Input Handling**: Use `nextLine()` and then parse the input to handle unexpected user input more gracefully.\\n- **Scale Input**: Consider trimming the input and checking its length to ensure only a single character is processed for the scale.\\n- **Validation**: Add validation to ensure the temperature is within a reasonable range if applicable.\\n\\nHere's a revised version of the code incorporating some of these suggestions:\\n\\n```java\\nimport java.util.InputMismatchException;\\nimport java.util.Scanner;\\n\\npublic class TemperatureConverter {\\n\\n    /**\\n     * Converts Celsius to Fahrenheit.\\n     * @param celsius Temperature in Celsius.\\n     * @return Temperature in Fahrenheit.\\n     */\\n    public double celsiusToFahrenheit(double celsius) {\\n        return (celsius * 9/5) + 32;\\n    }\\n\\n    /**\\n     * Converts Fahrenheit to Celsius.\\n     * @param fahrenheit Temperature in Fahrenheit.\\n     * @return Temperature in Celsius.\\n     */\\n    public double fahrenheitToCelsius(double fahrenheit) {\\n        return (fahrenheit - 32) * 5/9;\\n    }\\n\\n    public static void main(String[] args) {\\n        try (Scanner scanner = new Scanner(System.in)) {\\n            TemperatureConverter converter = new TemperatureConverter();\\n\\n            System.out.print(\\\"Enter temperature: \\\");\\n            double temperature = scanner.nextDouble();\\n            scanner.nextLine(); // Consume newline\\n\\n            System.out.print(\\\"Enter scale (C/F): \\\");\\n            String scale = scanner.nextLine().trim().toUpperCase();\\n\\n            if (scale.equals(\\\"C\\\")) {\\n                double converted = converter.celsiusToFahrenheit(temperature);\\n                System.out.printf(\\\"%.1f Celsius is %.1f Fahrenheit%n\\\", temperature, converted);\\n            } else if (scale.equals(\\\"F\\\")) {\\n                double converted = converter.fahrenheitToCelsius(temperature);\\n                System.out.printf(\\\"%.1f Fahrenheit is %.1f Celsius%n\\\", temperature, converted);\\n            } else {\\n                System.out.println(\\\"Invalid scale entered. Please enter 'C' for Celsius or 'F' for Fahrenheit.\\\");\\n            }\\n        } catch (InputMismatchException e) {\\n            System.out.println(\\\"Invalid input. Please enter a valid number for temperature.\\\");\\n        }\\n    }\\n}\\n```\\n\\nThese changes should improve the code's readability, maintainability, and robustness.\"\n",
      "    }\n",
      "]\n"
     ]
    }
   ],
   "source": [
    "from pipelines.Coding import CodeReviewPipeline\n",
    "\n",
    "# Create pipeline\n",
    "pipeline = CodeReviewPipeline(client)\n",
    "\n",
    "# Generate data\n",
    "data = pipeline(language=\"java\")\n",
    "\n",
    "print(json.dumps(data, indent=4))"
   ]
  },
  {
   "cell_type": "markdown",
   "id": "4f5b53e2-2752-4726-8ea0-c87f4bd825e8",
   "metadata": {},
   "source": [
    "### Optimization Suggestions"
   ]
  },
  {
   "cell_type": "code",
   "execution_count": 3,
   "id": "2e660fbf-c970-4af7-bc7c-9aba907e670c",
   "metadata": {},
   "outputs": [
    {
     "name": "stdout",
     "output_type": "stream",
     "text": [
      "[\n",
      "    {\n",
      "        \"role\": \"system\",\n",
      "        \"content\": \"You are a programming expert.\"\n",
      "    },\n",
      "    {\n",
      "        \"role\": \"user\",\n",
      "        \"content\": \"Here is my java code:\\n```java\\nimport java.util.Scanner;\\n\\npublic class TemperatureConverter {\\n\\n    public double celsiusToFahrenheit(double celsius) {\\n        return (celsius * 9/5) + 32;\\n    }\\n\\n    public double fahrenheitToCelsius(double fahrenheit) {\\n        return (fahrenheit - 32) * 5/9;\\n    }\\n\\n    public static void main(String[] args) {\\n        Scanner scanner = new Scanner(System.in);\\n        TemperatureConverter converter = new TemperatureConverter();\\n\\n        System.out.print(\\\"Enter temperature: \\\");\\n        while (!scanner.hasNextDouble()) {\\n            System.out.println(\\\"Invalid input. Please enter a numeric value.\\\");\\n            scanner.next();\\n        }\\n        double temperature = scanner.nextDouble();\\n\\n        System.out.print(\\\"Enter unit (C/F): \\\");\\n        String unit = scanner.next().toUpperCase();\\n\\n        switch (unit) {\\n            case \\\"C\\\":\\n                double fahrenheit = converter.celsiusToFahrenheit(temperature);\\n                System.out.printf(\\\"%.1f\\u00b0C is %.1f\\u00b0F%n\\\", temperature, fahrenheit);\\n                break;\\n            case \\\"F\\\":\\n                double celsius = converter.fahrenheitToCelsius(temperature);\\n                System.out.printf(\\\"%.1f\\u00b0F is %.1f\\u00b0C%n\\\", temperature, celsius);\\n                break;\\n            default:\\n                System.out.println(\\\"Invalid unit. Please enter 'C' for Celsius or 'F' for Fahrenheit.\\\");\\n        }\\n\\n        scanner.close();\\n    }\\n}\\n```\\nPlease optimize the following code for better performance, readability, and maintainability, without changing its original functionality.Focus on reducing redundancy, improving efficiency, and ensuring clear, concise code.Respond with the completed code only, without any extra commentary.\"\n",
      "    },\n",
      "    {\n",
      "        \"role\": \"assistant\",\n",
      "        \"content\": \"```java\\nimport java.util.Scanner;\\n\\npublic class TemperatureConverter {\\n\\n    private static final String CELSIUS = \\\"C\\\";\\n    private static final String FAHRENHEIT = \\\"F\\\";\\n\\n    public double celsiusToFahrenheit(double celsius) {\\n        return (celsius * 9 / 5) + 32;\\n    }\\n\\n    public double fahrenheitToCelsius(double fahrenheit) {\\n        return (fahrenheit - 32) * 5 / 9;\\n    }\\n\\n    public static void main(String[] args) {\\n        try (Scanner scanner = new Scanner(System.in)) {\\n            TemperatureConverter converter = new TemperatureConverter();\\n\\n            System.out.print(\\\"Enter temperature: \\\");\\n            while (!scanner.hasNextDouble()) {\\n                System.out.println(\\\"Invalid input. Please enter a numeric value.\\\");\\n                scanner.next();\\n            }\\n            double temperature = scanner.nextDouble();\\n\\n            System.out.print(\\\"Enter unit (C/F): \\\");\\n            String unit = scanner.next().trim().toUpperCase();\\n\\n            if (CELSIUS.equals(unit)) {\\n                double fahrenheit = converter.celsiusToFahrenheit(temperature);\\n                System.out.printf(\\\"%.1f\\u00b0C is %.1f\\u00b0F%n\\\", temperature, fahrenheit);\\n            } else if (FAHRENHEIT.equals(unit)) {\\n                double celsius = converter.fahrenheitToCelsius(temperature);\\n                System.out.printf(\\\"%.1f\\u00b0F is %.1f\\u00b0C%n\\\", temperature, celsius);\\n            } else {\\n                System.out.println(\\\"Invalid unit. Please enter 'C' for Celsius or 'F' for Fahrenheit.\\\");\\n            }\\n        }\\n    }\\n}\\n```\"\n",
      "    }\n",
      "]\n"
     ]
    }
   ],
   "source": [
    "from pipelines.Coding import CodeOptimizationPipeline\n",
    "\n",
    "# Create pipeline\n",
    "pipeline = CodeOptimizationPipeline(client)\n",
    "\n",
    "# Generate data\n",
    "data = pipeline(language=\"java\")\n",
    "\n",
    "print(json.dumps(data, indent=4))"
   ]
  },
  {
   "cell_type": "code",
   "execution_count": 4,
   "id": "01c1de55-3a91-41c9-b985-71c9eb699315",
   "metadata": {},
   "outputs": [
    {
     "name": "stdout",
     "output_type": "stream",
     "text": [
      "[\n",
      "    {\n",
      "        \"role\": \"system\",\n",
      "        \"content\": \"You are a programming expert.\"\n",
      "    },\n",
      "    {\n",
      "        \"role\": \"user\",\n",
      "        \"content\": \"Here is my javascript code:\\n```html\\n<!DOCTYPE html>\\n<html lang=\\\"en\\\">\\n<head>\\n    <meta charset=\\\"UTF-8\\\">\\n    <meta name=\\\"viewport\\\" content=\\\"width=device-width, initial-scale=1.0\\\">\\n    <title>To-Do List</title>\\n    <style>\\n        body {\\n            font-family: Arial, sans-serif;\\n            max-width: 400px;\\n            margin: 0 auto;\\n            padding: 20px;\\n        }\\n        input[type=\\\"text\\\"] {\\n            width: calc(100% - 50px);\\n            padding: 10px;\\n            margin-bottom: 10px;\\n            box-sizing: border-box;\\n        }\\n        button {\\n            padding: 10px;\\n            cursor: pointer;\\n        }\\n        ul {\\n            list-style-type: none;\\n            padding: 0;\\n        }\\n        li {\\n            padding: 10px;\\n            background-color: #f9f9f9;\\n            margin-bottom: 5px;\\n            border-radius: 4px;\\n        }\\n    </style>\\n</head>\\n<body>\\n    <h1>To-Do List</h1>\\n    <input type=\\\"text\\\" id=\\\"todoInput\\\" placeholder=\\\"Enter a new to-do\\\">\\n    <button onclick=\\\"addTodo()\\\">Add</button>\\n    <ul id=\\\"todoList\\\"></ul>\\n\\n    <script>\\n        function addTodo() {\\n            const input = document.getElementById('todoInput');\\n            const inputValue = input.value.trim();\\n            if (inputValue !== '') {\\n                const li = document.createElement('li');\\n                li.textContent = inputValue;\\n                document.getElementById('todoList').appendChild(li);\\n                input.value = '';\\n            }\\n        }\\n    </script>\\n</body>\\n</html>\\n```\\nPlease optimize the following code for better performance, readability, and maintainability, without changing its original functionality.Focus on reducing redundancy, improving efficiency, and ensuring clear, concise code.Respond with the completed code only, without any extra commentary.\"\n",
      "    },\n",
      "    {\n",
      "        \"role\": \"assistant\",\n",
      "        \"content\": \"```html\\n<!DOCTYPE html>\\n<html lang=\\\"en\\\">\\n<head>\\n    <meta charset=\\\"UTF-8\\\">\\n    <meta name=\\\"viewport\\\" content=\\\"width=device-width, initial-scale=1.0\\\">\\n    <title>To-Do List</title>\\n    <style>\\n        body {\\n            font-family: Arial, sans-serif;\\n            max-width: 400px;\\n            margin: 0 auto;\\n            padding: 20px;\\n        }\\n        input[type=\\\"text\\\"] {\\n            width: calc(100% - 50px);\\n            padding: 10px;\\n            margin-bottom: 10px;\\n            box-sizing: border-box;\\n        }\\n        button {\\n            padding: 10px;\\n            cursor: pointer;\\n        }\\n        ul {\\n            list-style-type: none;\\n            padding: 0;\\n        }\\n        li {\\n            padding: 10px;\\n            background-color: #f9f9f9;\\n            margin-bottom: 5px;\\n            border-radius: 4px;\\n        }\\n    </style>\\n</head>\\n<body>\\n    <h1>To-Do List</h1>\\n    <input type=\\\"text\\\" id=\\\"todoInput\\\" placeholder=\\\"Enter a new to-do\\\">\\n    <button id=\\\"addButton\\\">Add</button>\\n    <ul id=\\\"todoList\\\"></ul>\\n\\n    <script>\\n        document.getElementById('addButton').addEventListener('click', () => {\\n            const input = document.getElementById('todoInput');\\n            const inputValue = input.value.trim();\\n            if (inputValue) {\\n                const li = document.createElement('li');\\n                li.textContent = inputValue;\\n                document.getElementById('todoList').appendChild(li);\\n                input.value = '';\\n            }\\n        });\\n    </script>\\n</body>\\n</html>\\n```\"\n",
      "    }\n",
      "]\n"
     ]
    }
   ],
   "source": [
    "# Generate data\n",
    "data = pipeline(language=\"javascript\")\n",
    "\n",
    "print(json.dumps(data, indent=4))"
   ]
  },
  {
   "cell_type": "markdown",
   "id": "e5c3e0b8-1b84-43e0-b063-6c596521f82c",
   "metadata": {},
   "source": [
    "### Code Translation"
   ]
  },
  {
   "cell_type": "code",
   "execution_count": 5,
   "id": "5a2d3cf8-dff3-4768-ba77-428bb3ae290a",
   "metadata": {},
   "outputs": [
    {
     "name": "stdout",
     "output_type": "stream",
     "text": [
      "[\n",
      "    {\n",
      "        \"role\": \"system\",\n",
      "        \"content\": \"You are a programming expert.\"\n",
      "    },\n",
      "    {\n",
      "        \"role\": \"user\",\n",
      "        \"content\": \"Convert this cobol code to java:\"\n",
      "    },\n",
      "    {\n",
      "        \"role\": \"user\",\n",
      "        \"content\": \"```cobol\\n       IDENTIFICATION DIVISION.\\n       PROGRAM-ID. EmployeeSalaryCalculation.\\n\\n       ENVIRONMENT DIVISION.\\n       INPUT-OUTPUT SECTION.\\n       FILE-CONTROL.\\n           SELECT EMPLOYEE-FILE ASSIGN TO 'EMPLOYEE-DATA.TXT'\\n               ORGANIZATION IS LINE SEQUENTIAL.\\n\\n       DATA DIVISION.\\n       FILE SECTION.\\n       FD  EMPLOYEE-FILE.\\n       01  EMPLOYEE-RECORD.\\n           05  EMP-ID               PIC X(5).\\n           05  EMP-NAME             PIC X(20).\\n           05  EMP-GROSS-SALARY     PIC 9(7)V99.\\n           05  EMP-TAX-DEDUCTION    PIC 9(7)V99.\\n           05  EMP-OTHER-DEDUCTION  PIC 9(7)V99.\\n\\n       WORKING-STORAGE SECTION.\\n       01  WS-EMPLOYEE-DETAILS.\\n           05  WS-EMP-ID               PIC X(5).\\n           05  WS-EMP-NAME             PIC X(20).\\n           05  WS-EMP-GROSS-SALARY     PIC 9(7)V99.\\n           05  WS-EMP-TAX-DEDUCTION    PIC 9(7)V99.\\n           05  WS-EMP-OTHER-DEDUCTION  PIC 9(7)V99.\\n           05  WS-EMP-TOTAL-DEDUCTION  PIC 9(7)V99.\\n           05  WS-EMP-NET-SALARY       PIC 9(7)V99.\\n\\n       01  WS-END-OF-FILE             PIC X VALUE 'N'.\\n\\n       PROCEDURE DIVISION.\\n       MAIN-PROCEDURE.\\n           OPEN INPUT EMPLOYEE-FILE\\n           PERFORM UNTIL WS-END-OF-FILE = 'Y'\\n               READ EMPLOYEE-FILE INTO WS-EMPLOYEE-DETAILS\\n                   AT END\\n                       MOVE 'Y' TO WS-END-OF-FILE\\n                   NOT AT END\\n                       PERFORM CALCULATE-NET-SALARY\\n                       PERFORM DISPLAY-EMPLOYEE-DETAILS\\n               END-READ\\n           END-PERFORM\\n           CLOSE EMPLOYEE-FILE\\n           STOP RUN.\\n\\n       CALCULATE-NET-SALARY.\\n           COMPUTE WS-EMP-TOTAL-DEDUCTION = \\n               WS-EMP-TAX-DEDUCTION + WS-EMP-OTHER-DEDUCTION\\n           COMPUTE WS-EMP-NET-SALARY = \\n               WS-EMP-GROSS-SALARY - WS-EMP-TOTAL-DEDUCTION.\\n\\n       DISPLAY-EMPLOYEE-DETAILS.\\n           DISPLAY \\\"Employee ID: \\\" WS-EMP-ID\\n           DISPLAY \\\"Employee Name: \\\" WS-EMP-NAME\\n           DISPLAY \\\"Gross Salary: $\\\" WS-EMP-GROSS-SALARY\\n           DISPLAY \\\"Total Deductions: $\\\" WS-EMP-TOTAL-DEDUCTION\\n           DISPLAY \\\"Net Salary: $\\\" WS-EMP-NET-SALARY\\n           DISPLAY \\\"-------------------------------\\\".\\n```\"\n",
      "    },\n",
      "    {\n",
      "        \"role\": \"assistant\",\n",
      "        \"content\": \"```java\\nimport java.io.BufferedReader;\\nimport java.io.FileReader;\\nimport java.io.IOException;\\n\\npublic class EmployeeSalaryCalculation {\\n\\n    public static void main(String[] args) {\\n        String fileName = \\\"EMPLOYEE-DATA.TXT\\\";\\n        String line;\\n        boolean endOfFile = false;\\n\\n        try (BufferedReader br = new BufferedReader(new FileReader(fileName))) {\\n            while (!endOfFile) {\\n                line = br.readLine();\\n                if (line == null) {\\n                    endOfFile = true;\\n                } else {\\n                    EmployeeDetails employee = parseEmployeeRecord(line);\\n                    calculateNetSalary(employee);\\n                    displayEmployeeDetails(employee);\\n                }\\n            }\\n        } catch (IOException e) {\\n            e.printStackTrace();\\n        }\\n    }\\n\\n    private static EmployeeDetails parseEmployeeRecord(String record) {\\n        EmployeeDetails employee = new EmployeeDetails();\\n        employee.empId = record.substring(0, 5).trim();\\n        employee.empName = record.substring(5, 25).trim();\\n        employee.empGrossSalary = Double.parseDouble(record.substring(25, 34).trim());\\n        employee.empTaxDeduction = Double.parseDouble(record.substring(34, 43).trim());\\n        employee.empOtherDeduction = Double.parseDouble(record.substring(43, 52).trim());\\n        return employee;\\n    }\\n\\n    private static void calculateNetSalary(EmployeeDetails employee) {\\n        employee.empTotalDeduction = employee.empTaxDeduction + employee.empOtherDeduction;\\n        employee.empNetSalary = employee.empGrossSalary - employee.empTotalDeduction;\\n    }\\n\\n    private static void displayEmployeeDetails(EmployeeDetails employee) {\\n        System.out.println(\\\"Employee ID: \\\" + employee.empId);\\n        System.out.println(\\\"Employee Name: \\\" + employee.empName);\\n        System.out.printf(\\\"Gross Salary: $%.2f%n\\\", employee.empGrossSalary);\\n        System.out.printf(\\\"Total Deductions: $%.2f%n\\\", employee.empTotalDeduction);\\n        System.out.printf(\\\"Net Salary: $%.2f%n\\\", employee.empNetSalary);\\n        System.out.println(\\\"-------------------------------\\\");\\n    }\\n\\n    static class EmployeeDetails {\\n        String empId;\\n        String empName;\\n        double empGrossSalary;\\n        double empTaxDeduction;\\n        double empOtherDeduction;\\n        double empTotalDeduction;\\n        double empNetSalary;\\n    }\\n}\\n```\"\n",
      "    }\n",
      "]\n"
     ]
    }
   ],
   "source": [
    "from pipelines.Coding import CodeTranslationPipeline\n",
    "\n",
    "# Create pipeline\n",
    "pipeline = CodeTranslationPipeline(client)\n",
    "\n",
    "# Generate data\n",
    "data = pipeline(from_language=\"cobol\",to_language=\"java\")\n",
    "\n",
    "print(json.dumps(data, indent=4))"
   ]
  },
  {
   "cell_type": "code",
   "execution_count": 6,
   "id": "d1275204-c4c5-4619-92ee-1739eff5365f",
   "metadata": {},
   "outputs": [
    {
     "name": "stdout",
     "output_type": "stream",
     "text": [
      "[\n",
      "    {\n",
      "        \"role\": \"system\",\n",
      "        \"content\": \"You are a programming expert.\"\n",
      "    },\n",
      "    {\n",
      "        \"role\": \"user\",\n",
      "        \"content\": \"Convert this python code to rust:\"\n",
      "    },\n",
      "    {\n",
      "        \"role\": \"user\",\n",
      "        \"content\": \"```python\\ndef add_task(task_list, task):\\n    task_list.append({\\\"task\\\": task, \\\"completed\\\": False})\\n\\ndef remove_task(task_list, task_index):\\n    if 0 <= task_index < len(task_list):\\n        task_list.pop(task_index)\\n    else:\\n        print(\\\"Invalid task index.\\\")\\n\\ndef view_tasks(task_list):\\n    for index, task in enumerate(task_list):\\n        status = \\\"[x]\\\" if task[\\\"completed\\\"] else \\\"[ ]\\\"\\n        print(f\\\"{index}. {status} {task['task']}\\\")\\n\\ndef mark_completed(task_list, task_index):\\n    if 0 <= task_index < len(task_list):\\n        task_list[task_index][\\\"completed\\\"] = True\\n    else:\\n        print(\\\"Invalid task index.\\\")\\n\\ndef main():\\n    task_list = []\\n    while True:\\n        print(\\\"\\\\n1. Add Task\\\")\\n        print(\\\"2. Remove Task\\\")\\n        print(\\\"3. View Tasks\\\")\\n        print(\\\"4. Mark Task as Completed\\\")\\n        print(\\\"5. Exit\\\")\\n        choice = input(\\\"Choose an option: \\\")\\n        \\n        if choice == '1':\\n            task = input(\\\"Enter the task: \\\")\\n            add_task(task_list, task)\\n        elif choice == '2':\\n            try:\\n                task_index = int(input(\\\"Enter the task index to remove: \\\"))\\n                remove_task(task_list, task_index)\\n            except ValueError:\\n                print(\\\"Please enter a valid number.\\\")\\n        elif choice == '3':\\n            view_tasks(task_list)\\n        elif choice == '4':\\n            try:\\n                task_index = int(input(\\\"Enter the task index to mark as completed: \\\"))\\n                mark_completed(task_list, task_index)\\n            except ValueError:\\n                print(\\\"Please enter a valid number.\\\")\\n        elif choice == '5':\\n            break\\n        else:\\n            print(\\\"Invalid choice. Please try again.\\\")\\n\\nif __name__ == \\\"__main__\\\":\\n    main()\\n```\"\n",
      "    },\n",
      "    {\n",
      "        \"role\": \"assistant\",\n",
      "        \"content\": \"```rust\\nuse std::io::{self, Write};\\n\\n#[derive(Debug)]\\nstruct Task {\\n    task: String,\\n    completed: bool,\\n}\\n\\nfn add_task(task_list: &mut Vec<Task>, task: String) {\\n    task_list.push(Task {\\n        task,\\n        completed: false,\\n    });\\n}\\n\\nfn remove_task(task_list: &mut Vec<Task>, task_index: usize) {\\n    if task_index < task_list.len() {\\n        task_list.remove(task_index);\\n    } else {\\n        println!(\\\"Invalid task index.\\\");\\n    }\\n}\\n\\nfn view_tasks(task_list: &Vec<Task>) {\\n    for (index, task) in task_list.iter().enumerate() {\\n        let status = if task.completed { \\\"[x]\\\" } else { \\\"[ ]\\\" };\\n        println!(\\\"{}. {} {}\\\", index, status, task.task);\\n    }\\n}\\n\\nfn mark_completed(task_list: &mut Vec<Task>, task_index: usize) {\\n    if task_index < task_list.len() {\\n        task_list[task_index].completed = true;\\n    } else {\\n        println!(\\\"Invalid task index.\\\");\\n    }\\n}\\n\\nfn main() {\\n    let mut task_list: Vec<Task> = Vec::new();\\n    loop {\\n        println!(\\\"\\\\n1. Add Task\\\");\\n        println!(\\\"2. Remove Task\\\");\\n        println!(\\\"3. View Tasks\\\");\\n        println!(\\\"4. Mark Task as Completed\\\");\\n        println!(\\\"5. Exit\\\");\\n        print!(\\\"Choose an option: \\\");\\n        io::stdout().flush().unwrap();\\n\\n        let mut choice = String::new();\\n        io::stdin().read_line(&mut choice).unwrap();\\n        let choice = choice.trim();\\n\\n        match choice {\\n            \\\"1\\\" => {\\n                print!(\\\"Enter the task: \\\");\\n                io::stdout().flush().unwrap();\\n                let mut task = String::new();\\n                io::stdin().read_line(&mut task).unwrap();\\n                let task = task.trim().to_string();\\n                add_task(&mut task_list, task);\\n            }\\n            \\\"2\\\" => {\\n                print!(\\\"Enter the task index to remove: \\\");\\n                io::stdout().flush().unwrap();\\n                let mut task_index = String::new();\\n                io::stdin().read_line(&mut task_index).unwrap();\\n                match task_index.trim().parse::<usize>() {\\n                    Ok(index) => remove_task(&mut task_list, index),\\n                    Err(_) => println!(\\\"Please enter a valid number.\\\"),\\n                }\\n            }\\n            \\\"3\\\" => view_tasks(&task_list),\\n            \\\"4\\\" => {\\n                print!(\\\"Enter the task index to mark as completed: \\\");\\n                io::stdout().flush().unwrap();\\n                let mut task_index = String::new();\\n                io::stdin().read_line(&mut task_index).unwrap();\\n                match task_index.trim().parse::<usize>() {\\n                    Ok(index) => mark_completed(&mut task_list, index),\\n                    Err(_) => println!(\\\"Please enter a valid number.\\\"),\\n                }\\n            }\\n            \\\"5\\\" => break,\\n            _ => println!(\\\"Invalid choice. Please try again.\\\"),\\n        }\\n    }\\n}\\n```\"\n",
      "    }\n",
      "]\n"
     ]
    }
   ],
   "source": [
    "# Generate data\n",
    "data = pipeline(from_language=\"python\",to_language=\"rust\")\n",
    "\n",
    "print(json.dumps(data, indent=4))"
   ]
  },
  {
   "cell_type": "markdown",
   "id": "cf5ec723-bc94-45ce-891d-43a5b15f7f6e",
   "metadata": {},
   "source": [
    "### Code Completion\n"
   ]
  },
  {
   "cell_type": "code",
   "execution_count": 4,
   "id": "40bbd3d8-5765-4908-a67e-c47386d170bc",
   "metadata": {},
   "outputs": [
    {
     "name": "stdout",
     "output_type": "stream",
     "text": [
      "[\n",
      "    {\n",
      "        \"role\": \"system\",\n",
      "        \"content\": \"You are a programming expert.\"\n",
      "    },\n",
      "    {\n",
      "        \"role\": \"user\",\n",
      "        \"content\": \"Here is the task you need to complete:\"\n",
      "    },\n",
      "    {\n",
      "        \"role\": \"user\",\n",
      "        \"content\": \"## Task: Implement a Simple Calculator\\n\\n### Objective:\\nCreate a simple command-line calculator in C++ that can perform basic arithmetic operations: addition, subtraction, multiplication, and division.\\n\\n### Requirements:\\n1. **Input**: The program should accept a single string input in the format: `operand1 operator operand2`.\\n   - Example: `12 + 5`, `7 * 3`, `10 / 2`, `8 - 4`.\\n\\n2. **Output**: Display the result of the arithmetic operation.\\n   - Example: For input `12 + 5`, output should be `17`.\\n\\n3. **Operators**: Support the following operators:\\n   - `+` for addition\\n   - `-` for subtraction\\n   - `*` for multiplication\\n   - `/` for division\\n\\n4. **Validation**:\\n   - Handle division by zero with an appropriate error message.\\n   - Validate the input format and provide an error message for invalid inputs.\\n\\n5. **Constraints**:\\n   - Operands should be integers.\\n   - The program should continue to prompt for input until the user decides to exit.\\n\\n### Example:\\n```\\nEnter calculation: 12 + 5\\nResult: 17\\n\\nEnter calculation: 10 / 0\\nError: Division by zero is not allowed.\\n\\nEnter calculation: 7 * 3\\nResult: 21\\n\\nEnter calculation: exit\\nGoodbye!\\n```\\n\\n### Additional Notes:\\n- Use functions to organize the code for different operations.\\n- Ensure the program is robust and handles unexpected inputs gracefully.\"\n",
      "    },\n",
      "    {\n",
      "        \"role\": \"user\",\n",
      "        \"content\": \"Below is the incomplete code:\"\n",
      "    },\n",
      "    {\n",
      "        \"role\": \"user\",\n",
      "        \"content\": \"```cpp\\n#include <iostream>\\n#include <sstream>\\n#include <string>\\n\\nusing namespace std;\\n\\n// Function prototypes\\nint add(int a, int b);\\nint subtract(int a, int b);\\nint multiply(int a, int b);\\nint divide(int a, int b);\\n\\nint main() {\\n    string input;\\n    cout << \\\"Enter calculation: \\\";\\n    \\n    while (getline(cin, input)) {\\n        if (input == \\\"exit\\\") {\\n            cout << \\\"Goodbye!\\\" << endl;\\n            break;\\n        }\\n\\n        stringstream ss(input);\\n        int operand1, operand2;\\n        char op;\\n\\n        // Parse input\\n        ss >> operand1 >> op >> operand2;\\n\\n        // Placeholder for input validation\\n        // if (/* invalid input */) {\\n        //     cout << \\\"Error: Invalid input format.\\\" << endl;\\n        //     continue;\\n        // }\\n\\n        // Placeholder for operation logic\\n        // switch (op) {\\n        //     case '+':\\n        //         // Call add function\\n        //         break;\\n        //     case '-':\\n        //         // Call subtract function\\n        //         break;\\n        //     case '*':\\n        //         // Call multiply function\\n        //         break;\\n        //     case '/':\\n        //         // Handle division by zero\\n        //         // Call divide function\\n        //         break;\\n        //     default:\\n        //         cout << \\\"Error: Unsupported operator.\\\" << endl;\\n        // }\\n\\n        cout << \\\"Enter calculation: \\\";\\n    }\\n\\n    return 0;\\n}\\n\\n// Function definitions\\nint add(int a, int b) {\\n    // Placeholder for addition logic\\n    return 0;\\n}\\n\\nint subtract(int a, int b) {\\n    // Placeholder for subtraction logic\\n    return 0;\\n}\\n\\nint multiply(int a, int b) {\\n    // Placeholder for multiplication logic\\n    return 0;\\n}\\n\\nint divide(int a, int b) {\\n    // Placeholder for division logic\\n    return 0;\\n}\\n```\"\n",
      "    },\n",
      "    {\n",
      "        \"role\": \"assistant\",\n",
      "        \"content\": \"```cpp\\n#include <iostream>\\n#include <sstream>\\n#include <string>\\n\\nusing namespace std;\\n\\n// Function prototypes\\nint add(int a, int b);\\nint subtract(int a, int b);\\nint multiply(int a, int b);\\nint divide(int a, int b);\\n\\nint main() {\\n    string input;\\n    cout << \\\"Enter calculation: \\\";\\n    \\n    while (getline(cin, input)) {\\n        if (input == \\\"exit\\\") {\\n            cout << \\\"Goodbye!\\\" << endl;\\n            break;\\n        }\\n\\n        stringstream ss(input);\\n        int operand1, operand2;\\n        char op;\\n\\n        // Parse input\\n        if (!(ss >> operand1 >> op >> operand2)) {\\n            cout << \\\"Error: Invalid input format.\\\" << endl;\\n            cout << \\\"Enter calculation: \\\";\\n            continue;\\n        }\\n\\n        // Perform operation\\n        switch (op) {\\n            case '+':\\n                cout << \\\"Result: \\\" << add(operand1, operand2) << endl;\\n                break;\\n            case '-':\\n                cout << \\\"Result: \\\" << subtract(operand1, operand2) << endl;\\n                break;\\n            case '*':\\n                cout << \\\"Result: \\\" << multiply(operand1, operand2) << endl;\\n                break;\\n            case '/':\\n                if (operand2 == 0) {\\n                    cout << \\\"Error: Division by zero is not allowed.\\\" << endl;\\n                } else {\\n                    cout << \\\"Result: \\\" << divide(operand1, operand2) << endl;\\n                }\\n                break;\\n            default:\\n                cout << \\\"Error: Unsupported operator.\\\" << endl;\\n        }\\n\\n        cout << \\\"Enter calculation: \\\";\\n    }\\n\\n    return 0;\\n}\\n\\n// Function definitions\\nint add(int a, int b) {\\n    return a + b;\\n}\\n\\nint subtract(int a, int b) {\\n    return a - b;\\n}\\n\\nint multiply(int a, int b) {\\n    return a * b;\\n}\\n\\nint divide(int a, int b) {\\n    return a / b;\\n}\\n```\"\n",
      "    }\n",
      "]\n"
     ]
    }
   ],
   "source": [
    "from pipelines.Coding import CodeCompletionPipeline\n",
    "\n",
    "# Create pipeline\n",
    "pipeline = CodeCompletionPipeline(client)\n",
    "\n",
    "# Generate data\n",
    "data = pipeline(\"cpp\")\n",
    "\n",
    "print(json.dumps(data, indent=4))"
   ]
  },
  {
   "cell_type": "code",
   "execution_count": 5,
   "id": "1cc6610a-3d50-4fb3-9750-594123cdb826",
   "metadata": {},
   "outputs": [
    {
     "name": "stdout",
     "output_type": "stream",
     "text": [
      "[\n",
      "    {\n",
      "        \"role\": \"system\",\n",
      "        \"content\": \"You are a programming expert.\"\n",
      "    },\n",
      "    {\n",
      "        \"role\": \"user\",\n",
      "        \"content\": \"Here is the task you need to complete:\"\n",
      "    },\n",
      "    {\n",
      "        \"role\": \"user\",\n",
      "        \"content\": \"**Task: Implement a Simple To-Do List Application**\\n\\n**Objective:**\\nCreate a command-line based To-Do list application in Go that allows users to manage their tasks.\\n\\n**Requirements:**\\n\\n1. **Add Task:**\\n   - Implement a function to add a new task to the list.\\n   - Each task should have a unique ID, a description, and a status (pending or completed).\\n\\n2. **List Tasks:**\\n   - Implement a function to display all tasks.\\n   - Show task ID, description, and status.\\n\\n3. **Complete Task:**\\n   - Implement a function to mark a task as completed using its ID.\\n\\n4. **Delete Task:**\\n   - Implement a function to remove a task from the list using its ID.\\n\\n5. **Persistence:**\\n   - Store tasks in a file to maintain the list between program executions.\\n\\n**Constraints:**\\n- Use Go's standard library only.\\n- Ensure the application handles errors gracefully.\\n- The application should be runnable from the command line with simple commands like `add`, `list`, `complete`, and `delete`.\\n\\n**Bonus:**\\n- Implement a feature to edit the description of an existing task.\"\n",
      "    },\n",
      "    {\n",
      "        \"role\": \"user\",\n",
      "        \"content\": \"Below is the incomplete code:\"\n",
      "    },\n",
      "    {\n",
      "        \"role\": \"user\",\n",
      "        \"content\": \"```go\\npackage main\\n\\nimport (\\n\\t\\\"fmt\\\"\\n\\t\\\"os\\\"\\n)\\n\\ntype Task struct {\\n\\tID          int\\n\\tDescription string\\n\\tStatus      string\\n}\\n\\nvar tasks []Task\\n\\nfunc main() {\\n\\tif len(os.Args) < 2 {\\n\\t\\tfmt.Println(\\\"Expected 'add', 'list', 'complete', or 'delete' subcommands\\\")\\n\\t\\treturn\\n\\t}\\n\\n\\tswitch os.Args[1] {\\n\\tcase \\\"add\\\":\\n\\t\\taddTask()\\n\\tcase \\\"list\\\":\\n\\t\\tlistTasks()\\n\\tcase \\\"complete\\\":\\n\\t\\tcompleteTask()\\n\\tcase \\\"delete\\\":\\n\\t\\tdeleteTask()\\n\\tdefault:\\n\\t\\tfmt.Println(\\\"Unknown command\\\")\\n\\t}\\n}\\n\\nfunc addTask() {\\n\\t// Placeholder for adding a task\\n}\\n\\nfunc listTasks() {\\n\\t// Placeholder for listing tasks\\n}\\n\\nfunc completeTask() {\\n\\t// Placeholder for completing a task\\n}\\n\\nfunc deleteTask() {\\n\\t// Placeholder for deleting a task\\n}\\n\\nfunc loadTasks() {\\n\\t// Placeholder for loading tasks from a file\\n}\\n\\nfunc saveTasks() {\\n\\t// Placeholder for saving tasks to a file\\n}\\n```\"\n",
      "    },\n",
      "    {\n",
      "        \"role\": \"assistant\",\n",
      "        \"content\": \"```go\\npackage main\\n\\nimport (\\n\\t\\\"encoding/json\\\"\\n\\t\\\"fmt\\\"\\n\\t\\\"io/ioutil\\\"\\n\\t\\\"os\\\"\\n\\t\\\"strconv\\\"\\n)\\n\\ntype Task struct {\\n\\tID          int\\n\\tDescription string\\n\\tStatus      string\\n}\\n\\nvar tasks []Task\\nvar taskFile = \\\"tasks.json\\\"\\n\\nfunc main() {\\n\\tloadTasks()\\n\\n\\tif len(os.Args) < 2 {\\n\\t\\tfmt.Println(\\\"Expected 'add', 'list', 'complete', 'delete', or 'edit' subcommands\\\")\\n\\t\\treturn\\n\\t}\\n\\n\\tswitch os.Args[1] {\\n\\tcase \\\"add\\\":\\n\\t\\taddTask()\\n\\tcase \\\"list\\\":\\n\\t\\tlistTasks()\\n\\tcase \\\"complete\\\":\\n\\t\\tcompleteTask()\\n\\tcase \\\"delete\\\":\\n\\t\\tdeleteTask()\\n\\tcase \\\"edit\\\":\\n\\t\\teditTask()\\n\\tdefault:\\n\\t\\tfmt.Println(\\\"Unknown command\\\")\\n\\t}\\n\\n\\tsaveTasks()\\n}\\n\\nfunc addTask() {\\n\\tif len(os.Args) < 3 {\\n\\t\\tfmt.Println(\\\"Please provide a task description\\\")\\n\\t\\treturn\\n\\t}\\n\\tdescription := os.Args[2]\\n\\tid := getNextID()\\n\\ttask := Task{ID: id, Description: description, Status: \\\"pending\\\"}\\n\\ttasks = append(tasks, task)\\n\\tfmt.Printf(\\\"Added task: %d - %s\\\\n\\\", task.ID, task.Description)\\n}\\n\\nfunc listTasks() {\\n\\tif len(tasks) == 0 {\\n\\t\\tfmt.Println(\\\"No tasks available\\\")\\n\\t\\treturn\\n\\t}\\n\\tfor _, task := range tasks {\\n\\t\\tfmt.Printf(\\\"%d: %s [%s]\\\\n\\\", task.ID, task.Description, task.Status)\\n\\t}\\n}\\n\\nfunc completeTask() {\\n\\tif len(os.Args) < 3 {\\n\\t\\tfmt.Println(\\\"Please provide a task ID to complete\\\")\\n\\t\\treturn\\n\\t}\\n\\tid, err := strconv.Atoi(os.Args[2])\\n\\tif err != nil {\\n\\t\\tfmt.Println(\\\"Invalid task ID\\\")\\n\\t\\treturn\\n\\t}\\n\\tfor i, task := range tasks {\\n\\t\\tif task.ID == id {\\n\\t\\t\\ttasks[i].Status = \\\"completed\\\"\\n\\t\\t\\tfmt.Printf(\\\"Task %d marked as completed\\\\n\\\", id)\\n\\t\\t\\treturn\\n\\t\\t}\\n\\t}\\n\\tfmt.Println(\\\"Task not found\\\")\\n}\\n\\nfunc deleteTask() {\\n\\tif len(os.Args) < 3 {\\n\\t\\tfmt.Println(\\\"Please provide a task ID to delete\\\")\\n\\t\\treturn\\n\\t}\\n\\tid, err := strconv.Atoi(os.Args[2])\\n\\tif err != nil {\\n\\t\\tfmt.Println(\\\"Invalid task ID\\\")\\n\\t\\treturn\\n\\t}\\n\\tfor i, task := range tasks {\\n\\t\\tif task.ID == id {\\n\\t\\t\\ttasks = append(tasks[:i], tasks[i+1:]...)\\n\\t\\t\\tfmt.Printf(\\\"Task %d deleted\\\\n\\\", id)\\n\\t\\t\\treturn\\n\\t\\t}\\n\\t}\\n\\tfmt.Println(\\\"Task not found\\\")\\n}\\n\\nfunc editTask() {\\n\\tif len(os.Args) < 4 {\\n\\t\\tfmt.Println(\\\"Please provide a task ID and new description\\\")\\n\\t\\treturn\\n\\t}\\n\\tid, err := strconv.Atoi(os.Args[2])\\n\\tif err != nil {\\n\\t\\tfmt.Println(\\\"Invalid task ID\\\")\\n\\t\\treturn\\n\\t}\\n\\tnewDescription := os.Args[3]\\n\\tfor i, task := range tasks {\\n\\t\\tif task.ID == id {\\n\\t\\t\\ttasks[i].Description = newDescription\\n\\t\\t\\tfmt.Printf(\\\"Task %d description updated\\\\n\\\", id)\\n\\t\\t\\treturn\\n\\t\\t}\\n\\t}\\n\\tfmt.Println(\\\"Task not found\\\")\\n}\\n\\nfunc loadTasks() {\\n\\tfile, err := ioutil.ReadFile(taskFile)\\n\\tif err != nil {\\n\\t\\tif os.IsNotExist(err) {\\n\\t\\t\\ttasks = []Task{}\\n\\t\\t\\treturn\\n\\t\\t}\\n\\t\\tfmt.Println(\\\"Error loading tasks:\\\", err)\\n\\t\\treturn\\n\\t}\\n\\terr = json.Unmarshal(file, &tasks)\\n\\tif err != nil {\\n\\t\\tfmt.Println(\\\"Error parsing tasks:\\\", err)\\n\\t}\\n}\\n\\nfunc saveTasks() {\\n\\tfile, err := json.MarshalIndent(tasks, \\\"\\\", \\\"  \\\")\\n\\tif err != nil {\\n\\t\\tfmt.Println(\\\"Error saving tasks:\\\", err)\\n\\t\\treturn\\n\\t}\\n\\terr = ioutil.WriteFile(taskFile, file, 0644)\\n\\tif err != nil {\\n\\t\\tfmt.Println(\\\"Error writing tasks to file:\\\", err)\\n\\t}\\n}\\n\\nfunc getNextID() int {\\n\\tmaxID := 0\\n\\tfor _, task := range tasks {\\n\\t\\tif task.ID > maxID {\\n\\t\\t\\tmaxID = task.ID\\n\\t\\t}\\n\\t}\\n\\treturn maxID + 1\\n}\\n```\"\n",
      "    }\n",
      "]\n"
     ]
    }
   ],
   "source": [
    "# Generate data\n",
    "data = pipeline(\"golang\")\n",
    "\n",
    "print(json.dumps(data, indent=4))"
   ]
  },
  {
   "cell_type": "markdown",
   "id": "c8cfb072-1641-4234-abe3-874f5bccce1f",
   "metadata": {},
   "source": [
    "### Code Generation"
   ]
  },
  {
   "cell_type": "code",
   "execution_count": 3,
   "id": "d27b1dc6-b516-4816-873d-49ee88160328",
   "metadata": {},
   "outputs": [
    {
     "name": "stdout",
     "output_type": "stream",
     "text": [
      "[\n",
      "    {\n",
      "        \"role\": \"system\",\n",
      "        \"content\": \"You are a programming expert.\"\n",
      "    },\n",
      "    {\n",
      "        \"role\": \"user\",\n",
      "        \"content\": \"**Task: Implement a C++ Class for a Simple Banking System**\\n\\n**Objective:**  \\nDevelop a C++ class named `BankAccount` that simulates a basic banking system. The class should manage account information and support basic banking operations.\\n\\n**Functionality Requirements:**\\n\\n1. **Attributes:**\\n   - `accountNumber`: A unique identifier for the account (integer).\\n   - `accountHolderName`: The name of the account holder (string).\\n   - `balance`: The current balance of the account (double).\\n\\n2. **Constructor:**\\n   - A parameterized constructor to initialize the account with an account number, account holder name, and an initial balance.\\n\\n3. **Methods:**\\n   - `deposit(double amount)`: Adds the specified amount to the account balance. Ensure the amount is positive.\\n   - `withdraw(double amount)`: Deducts the specified amount from the account balance. Ensure the account has sufficient funds and the amount is positive.\\n   - `getBalance()`: Returns the current balance of the account.\\n   - `displayAccountDetails()`: Prints the account number, account holder name, and current balance.\\n\\n**Expected Behavior:**\\n- The class should handle invalid operations gracefully, such as attempting to withdraw more than the available balance or depositing/withdrawing a negative amount.\\n- Ensure encapsulation by making class attributes private and providing public methods for interaction.\\n- Include basic input validation and error messages for invalid operations.\\n\\n**Constraints:**\\n- Use standard C++ libraries only.\\n- Ensure the code is well-documented with comments explaining the logic.\\n- The class should be designed to be easily extendable for future enhancements.\\n\\n**Deliverables:**\\n- A C++ header file (`BankAccount.h`) containing the class definition.\\n- A C++ source file (`BankAccount.cpp`) implementing the class methods.\\n- A simple `main.cpp` file demonstrating the usage of the `BankAccount` class with example operations.\"\n",
      "    },\n",
      "    {\n",
      "        \"role\": \"assistant\",\n",
      "        \"content\": \"```cpp\\n// BankAccount.h\\n#ifndef BANKACCOUNT_H\\n#define BANKACCOUNT_H\\n\\n#include <string>\\n\\nclass BankAccount {\\nprivate:\\n    int accountNumber;\\n    std::string accountHolderName;\\n    double balance;\\n\\npublic:\\n    BankAccount(int accNumber, const std::string& accHolderName, double initialBalance);\\n    void deposit(double amount);\\n    bool withdraw(double amount);\\n    double getBalance() const;\\n    void displayAccountDetails() const;\\n};\\n\\n#endif // BANKACCOUNT_H\\n```\\n\\n```cpp\\n// BankAccount.cpp\\n#include \\\"BankAccount.h\\\"\\n#include <iostream>\\n\\nBankAccount::BankAccount(int accNumber, const std::string& accHolderName, double initialBalance)\\n    : accountNumber(accNumber), accountHolderName(accHolderName), balance(initialBalance) {}\\n\\nvoid BankAccount::deposit(double amount) {\\n    if (amount > 0) {\\n        balance += amount;\\n    } else {\\n        std::cerr << \\\"Deposit amount must be positive.\\\" << std::endl;\\n    }\\n}\\n\\nbool BankAccount::withdraw(double amount) {\\n    if (amount > 0 && amount <= balance) {\\n        balance -= amount;\\n        return true;\\n    } else {\\n        std::cerr << \\\"Invalid withdrawal amount or insufficient funds.\\\" << std::endl;\\n        return false;\\n    }\\n}\\n\\ndouble BankAccount::getBalance() const {\\n    return balance;\\n}\\n\\nvoid BankAccount::displayAccountDetails() const {\\n    std::cout << \\\"Account Number: \\\" << accountNumber << std::endl;\\n    std::cout << \\\"Account Holder: \\\" << accountHolderName << std::endl;\\n    std::cout << \\\"Balance: $\\\" << balance << std::endl;\\n}\\n```\\n\\n```cpp\\n// main.cpp\\n#include \\\"BankAccount.h\\\"\\n#include <iostream>\\n\\nint main() {\\n    BankAccount account(123456, \\\"John Doe\\\", 1000.0);\\n\\n    account.displayAccountDetails();\\n    account.deposit(500.0);\\n    account.withdraw(200.0);\\n    account.withdraw(1500.0); // Should display an error\\n    account.deposit(-50.0);   // Should display an error\\n\\n    std::cout << \\\"Final Balance: $\\\" << account.getBalance() << std::endl;\\n\\n    return 0;\\n}\\n```\"\n",
      "    }\n",
      "]\n"
     ]
    }
   ],
   "source": [
    "from pipelines.Coding import CodeGenerationPipeline\n",
    "\n",
    "# Create pipeline\n",
    "pipeline = CodeGenerationPipeline(client)\n",
    "\n",
    "# Generate data\n",
    "data = pipeline(\"cpp\")\n",
    "\n",
    "print(json.dumps(data, indent=4))"
   ]
  },
  {
   "cell_type": "code",
   "execution_count": 4,
   "id": "969dedaf-0a66-421f-b9cf-0c1097a25346",
   "metadata": {},
   "outputs": [
    {
     "name": "stdout",
     "output_type": "stream",
     "text": [
      "[\n",
      "    {\n",
      "        \"role\": \"system\",\n",
      "        \"content\": \"You are a programming expert.\"\n",
      "    },\n",
      "    {\n",
      "        \"role\": \"user\",\n",
      "        \"content\": \"**Task Request for Code Generation in C#**\\n\\n**Objective:**\\nDevelop a C# class library that provides functionality to manage a simple inventory system for a small retail store. The system should allow for adding, updating, removing, and listing products in the inventory.\\n\\n**Functionality Requirements:**\\n\\n1. **Product Management:**\\n   - Implement a `Product` class with the following properties:\\n     - `int Id`: Unique identifier for each product.\\n     - `string Name`: Name of the product.\\n     - `string Description`: Brief description of the product.\\n     - `decimal Price`: Price of the product.\\n     - `int Quantity`: Available quantity in stock.\\n\\n2. **Inventory Operations:**\\n   - Create an `InventoryManager` class with methods to manage the products:\\n     - `void AddProduct(Product product)`: Adds a new product to the inventory.\\n     - `bool UpdateProduct(int id, Product updatedProduct)`: Updates an existing product's details. Returns `true` if successful, `false` if the product does not exist.\\n     - `bool RemoveProduct(int id)`: Removes a product from the inventory by its ID. Returns `true` if successful, `false` if the product does not exist.\\n     - `List<Product> ListProducts()`: Returns a list of all products currently in the inventory.\\n\\n3. **Validation:**\\n   - Ensure that product names are unique within the inventory.\\n   - Validate that the price and quantity are non-negative values.\\n\\n**Expected Behavior:**\\n- The system should handle concurrent operations safely, ensuring data integrity.\\n- Provide meaningful error messages or exceptions when operations fail due to invalid input or constraints.\\n- The class library should be designed for easy integration into a larger application, with clear and concise documentation for each method.\\n\\n**Constraints:**\\n- Use .NET 6.0 or later.\\n- Follow best practices for object-oriented design and coding standards in C#.\\n- Ensure the code is well-documented and includes unit tests for all public methods.\\n\\n**Deliverables:**\\n- A C# class library project with the implemented functionality.\\n- A separate project containing unit tests for the class library.\\n- Documentation detailing the usage of the class library and any assumptions made during implementation.\"\n",
      "    },\n",
      "    {\n",
      "        \"role\": \"assistant\",\n",
      "        \"content\": \"```csharp\\n// Product.cs\\nnamespace InventorySystem\\n{\\n    public class Product\\n    {\\n        public int Id { get; set; }\\n        public string Name { get; set; }\\n        public string Description { get; set; }\\n        public decimal Price { get; set; }\\n        public int Quantity { get; set; }\\n    }\\n}\\n\\n// InventoryManager.cs\\nusing System.Collections.Generic;\\nusing System.Linq;\\n\\nnamespace InventorySystem\\n{\\n    public class InventoryManager\\n    {\\n        private readonly List<Product> _products = new List<Product>();\\n\\n        public void AddProduct(Product product)\\n        {\\n            if (_products.Any(p => p.Name == product.Name))\\n                throw new InvalidOperationException(\\\"Product name must be unique.\\\");\\n            if (product.Price < 0 || product.Quantity < 0)\\n                throw new ArgumentException(\\\"Price and Quantity must be non-negative.\\\");\\n            _products.Add(product);\\n        }\\n\\n        public bool UpdateProduct(int id, Product updatedProduct)\\n        {\\n            var product = _products.FirstOrDefault(p => p.Id == id);\\n            if (product == null) return false;\\n            if (_products.Any(p => p.Name == updatedProduct.Name && p.Id != id))\\n                throw new InvalidOperationException(\\\"Product name must be unique.\\\");\\n            if (updatedProduct.Price < 0 || updatedProduct.Quantity < 0)\\n                throw new ArgumentException(\\\"Price and Quantity must be non-negative.\\\");\\n            product.Name = updatedProduct.Name;\\n            product.Description = updatedProduct.Description;\\n            product.Price = updatedProduct.Price;\\n            product.Quantity = updatedProduct.Quantity;\\n            return true;\\n        }\\n\\n        public bool RemoveProduct(int id)\\n        {\\n            var product = _products.FirstOrDefault(p => p.Id == id);\\n            if (product == null) return false;\\n            _products.Remove(product);\\n            return true;\\n        }\\n\\n        public List<Product> ListProducts()\\n        {\\n            return new List<Product>(_products);\\n        }\\n    }\\n}\\n\\n// InventoryManagerTests.cs\\nusing Xunit;\\nusing System;\\n\\nnamespace InventorySystem.Tests\\n{\\n    public class InventoryManagerTests\\n    {\\n        [Fact]\\n        public void AddProduct_ShouldAddProduct()\\n        {\\n            var manager = new InventoryManager();\\n            var product = new Product { Id = 1, Name = \\\"Test\\\", Description = \\\"Test Desc\\\", Price = 10.0m, Quantity = 5 };\\n            manager.AddProduct(product);\\n            Assert.Single(manager.ListProducts());\\n        }\\n\\n        [Fact]\\n        public void AddProduct_ShouldThrowExceptionForDuplicateName()\\n        {\\n            var manager = new InventoryManager();\\n            var product1 = new Product { Id = 1, Name = \\\"Test\\\", Description = \\\"Test Desc\\\", Price = 10.0m, Quantity = 5 };\\n            var product2 = new Product { Id = 2, Name = \\\"Test\\\", Description = \\\"Test Desc 2\\\", Price = 15.0m, Quantity = 10 };\\n            manager.AddProduct(product1);\\n            Assert.Throws<InvalidOperationException>(() => manager.AddProduct(product2));\\n        }\\n\\n        [Fact]\\n        public void UpdateProduct_ShouldUpdateExistingProduct()\\n        {\\n            var manager = new InventoryManager();\\n            var product = new Product { Id = 1, Name = \\\"Test\\\", Description = \\\"Test Desc\\\", Price = 10.0m, Quantity = 5 };\\n            manager.AddProduct(product);\\n            var updatedProduct = new Product { Id = 1, Name = \\\"Updated\\\", Description = \\\"Updated Desc\\\", Price = 20.0m, Quantity = 10 };\\n            var result = manager.UpdateProduct(1, updatedProduct);\\n            Assert.True(result);\\n            Assert.Equal(\\\"Updated\\\", manager.ListProducts()[0].Name);\\n        }\\n\\n        [Fact]\\n        public void RemoveProduct_ShouldRemoveExistingProduct()\\n        {\\n            var manager = new InventoryManager();\\n            var product = new Product { Id = 1, Name = \\\"Test\\\", Description = \\\"Test Desc\\\", Price = 10.0m, Quantity = 5 };\\n            manager.AddProduct(product);\\n            var result = manager.RemoveProduct(1);\\n            Assert.True(result);\\n            Assert.Empty(manager.ListProducts());\\n        }\\n\\n        [Fact]\\n        public void ListProducts_ShouldReturnAllProducts()\\n        {\\n            var manager = new InventoryManager();\\n            var product1 = new Product { Id = 1, Name = \\\"Test1\\\", Description = \\\"Test Desc 1\\\", Price = 10.0m, Quantity = 5 };\\n            var product2 = new Product { Id = 2, Name = \\\"Test2\\\", Description = \\\"Test Desc 2\\\", Price = 15.0m, Quantity = 10 };\\n            manager.AddProduct(product1);\\n            manager.AddProduct(product2);\\n            var products = manager.ListProducts();\\n            Assert.Equal(2, products.Count);\\n        }\\n    }\\n}\\n```\"\n",
      "    }\n",
      "]\n"
     ]
    }
   ],
   "source": [
    "# Generate data\n",
    "data = pipeline(\"C#\")\n",
    "\n",
    "print(json.dumps(data, indent=4))"
   ]
  },
  {
   "cell_type": "code",
   "execution_count": 6,
   "id": "90f36f67-2d8d-47aa-9a4b-e2127611239e",
   "metadata": {},
   "outputs": [
    {
     "name": "stdout",
     "output_type": "stream",
     "text": [
      "[\n",
      "    {\n",
      "        \"role\": \"system\",\n",
      "        \"content\": \"You are a programming expert.\"\n",
      "    },\n",
      "    {\n",
      "        \"role\": \"user\",\n",
      "        \"content\": \"**Task Request for COBOL Code Generation**\\n\\n**Objective:**\\nDevelop a COBOL program to manage and process employee payroll data. The program should read employee records from an input file, calculate gross pay, deductions, and net pay, and generate a detailed payroll report.\\n\\n**Functionality:**\\n\\n1. **Input Handling:**\\n   - Read employee data from a sequential input file. Each record includes Employee ID, Name, Hours Worked, and Hourly Rate.\\n   - Validate input data for completeness and correctness. Invalid records should be logged and skipped.\\n\\n2. **Payroll Calculation:**\\n   - Calculate Gross Pay as `Hours Worked * Hourly Rate`.\\n   - Deduct taxes at a flat rate of 20% from Gross Pay to calculate Net Pay.\\n   - Include additional deductions such as health insurance ($50 per employee) and retirement savings (5% of Gross Pay).\\n\\n3. **Output Generation:**\\n   - Produce a payroll report listing each employee's ID, Name, Gross Pay, Deductions, and Net Pay.\\n   - Summarize total Gross Pay, total Deductions, and total Net Pay for all employees at the end of the report.\\n\\n**Expected Behavior:**\\n\\n- The program should handle up to 1000 employee records efficiently.\\n- Ensure accurate calculations and formatting in the output report.\\n- Log any errors or anomalies encountered during processing to an error file.\\n\\n**Specific Requirements:**\\n\\n- Use structured programming techniques with clear divisions between input, processing, and output sections.\\n- Ensure the program is modular, with separate paragraphs for reading input, processing calculations, and generating output.\\n- Adhere to COBOL best practices for readability and maintainability, including meaningful variable names and thorough commenting.\\n- The program should be compatible with COBOL-85 standards.\\n\\n**Constraints:**\\n\\n- The program must execute within a batch processing environment.\\n- Ensure minimal memory usage and optimize for performance.\\n- The input file format is fixed-width text, and the output report should be in a human-readable text format.\\n\\n**Deliverables:**\\n\\n- Source code of the COBOL program.\\n- Sample input file and corresponding output report.\\n- Documentation detailing the program structure, logic, and any assumptions made during development.\"\n",
      "    },\n",
      "    {\n",
      "        \"role\": \"assistant\",\n",
      "        \"content\": \"```cobol\\n       IDENTIFICATION DIVISION.\\n       PROGRAM-ID. PayrollProcessing.\\n\\n       ENVIRONMENT DIVISION.\\n       INPUT-OUTPUT SECTION.\\n       FILE-CONTROL.\\n           SELECT EmployeeFile ASSIGN TO 'employee-input.txt'\\n               ORGANIZATION IS LINE SEQUENTIAL.\\n           SELECT ErrorFile ASSIGN TO 'error-log.txt'\\n               ORGANIZATION IS LINE SEQUENTIAL.\\n           SELECT ReportFile ASSIGN TO 'payroll-report.txt'\\n               ORGANIZATION IS LINE SEQUENTIAL.\\n\\n       DATA DIVISION.\\n       FILE SECTION.\\n       FD  EmployeeFile.\\n       01  EmployeeRecord.\\n           05  EmployeeID        PIC X(10).\\n           05  EmployeeName      PIC X(30).\\n           05  HoursWorked       PIC 9(3)V99.\\n           05  HourlyRate        PIC 9(3)V99.\\n\\n       FD  ErrorFile.\\n       01  ErrorRecord          PIC X(80).\\n\\n       FD  ReportFile.\\n       01  ReportRecord         PIC X(80).\\n\\n       WORKING-STORAGE SECTION.\\n       01  WS-Employee.\\n           05  WS-EmployeeID     PIC X(10).\\n           05  WS-EmployeeName   PIC X(30).\\n           05  WS-HoursWorked    PIC 9(3)V99.\\n           05  WS-HourlyRate     PIC 9(3)V99.\\n           05  WS-GrossPay       PIC 9(7)V99.\\n           05  WS-TaxDeduction   PIC 9(7)V99.\\n           05  WS-HealthDeduction PIC 9(7)V99 VALUE 50.00.\\n           05  WS-RetirementDeduction PIC 9(7)V99.\\n           05  WS-TotalDeductions PIC 9(7)V99.\\n           05  WS-NetPay         PIC 9(7)V99.\\n\\n       01  WS-Totals.\\n           05  WS-TotalGrossPay  PIC 9(9)V99 VALUE 0.\\n           05  WS-TotalDeductions PIC 9(9)V99 VALUE 0.\\n           05  WS-TotalNetPay    PIC 9(9)V99 VALUE 0.\\n\\n       01  WS-EOF                PIC X VALUE 'N'.\\n\\n       PROCEDURE DIVISION.\\n       MAIN-PROCEDURE.\\n           OPEN INPUT EmployeeFile\\n           OPEN OUTPUT ErrorFile\\n           OPEN OUTPUT ReportFile\\n           PERFORM UNTIL WS-EOF = 'Y'\\n               READ EmployeeFile INTO EmployeeRecord\\n                   AT END\\n                       MOVE 'Y' TO WS-EOF\\n                   NOT AT END\\n                       PERFORM PROCESS-EMPLOYEE\\n               END-READ\\n           END-PERFORM\\n           PERFORM WRITE-REPORT-SUMMARY\\n           CLOSE EmployeeFile\\n           CLOSE ErrorFile\\n           CLOSE ReportFile\\n           STOP RUN.\\n\\n       PROCESS-EMPLOYEE.\\n           IF HoursWorked IS NUMERIC AND HourlyRate IS NUMERIC\\n               COMPUTE WS-GrossPay = WS-HoursWorked * WS-HourlyRate\\n               COMPUTE WS-TaxDeduction = WS-GrossPay * 0.20\\n               COMPUTE WS-RetirementDeduction = WS-GrossPay * 0.05\\n               COMPUTE WS-TotalDeductions = WS-TaxDeduction + WS-HealthDeduction + WS-RetirementDeduction\\n               COMPUTE WS-NetPay = WS-GrossPay - WS-TotalDeductions\\n               PERFORM WRITE-REPORT\\n               ADD WS-GrossPay TO WS-TotalGrossPay\\n               ADD WS-TotalDeductions TO WS-TotalDeductions\\n               ADD WS-NetPay TO WS-TotalNetPay\\n           ELSE\\n               MOVE EmployeeRecord TO ErrorRecord\\n               WRITE ErrorRecord\\n           END-IF.\\n\\n       WRITE-REPORT.\\n           MOVE SPACES TO ReportRecord\\n           STRING WS-EmployeeID DELIMITED BY SPACE\\n                  WS-EmployeeName DELIMITED BY SPACE\\n                  WS-GrossPay DELIMITED BY SPACE\\n                  WS-TotalDeductions DELIMITED BY SPACE\\n                  WS-NetPay DELIMITED BY SPACE\\n                  INTO ReportRecord\\n           WRITE ReportRecord.\\n\\n       WRITE-REPORT-SUMMARY.\\n           MOVE SPACES TO ReportRecord\\n           STRING 'TOTALS:' DELIMITED BY SPACE\\n                  WS-TotalGrossPay DELIMITED BY SPACE\\n                  WS-TotalDeductions DELIMITED BY SPACE\\n                  WS-TotalNetPay DELIMITED BY SPACE\\n                  INTO ReportRecord\\n           WRITE ReportRecord.\\n```\"\n",
      "    }\n",
      "]\n"
     ]
    }
   ],
   "source": [
    "# Generate data\n",
    "data = pipeline(\"cobol\")\n",
    "\n",
    "print(json.dumps(data, indent=4))"
   ]
  },
  {
   "cell_type": "markdown",
   "id": "2bc38abc-c540-4f7a-83e4-03f081facfa7",
   "metadata": {},
   "source": [
    "### Code Debugging"
   ]
  },
  {
   "cell_type": "code",
   "execution_count": 3,
   "id": "3c35e832-7d38-4542-b9b2-9650b56c7271",
   "metadata": {},
   "outputs": [
    {
     "name": "stdout",
     "output_type": "stream",
     "text": [
      "[\n",
      "    {\n",
      "        \"role\": \"system\",\n",
      "        \"content\": \"You are a programming expert.\"\n",
      "    },\n",
      "    {\n",
      "        \"role\": \"user\",\n",
      "        \"content\": \"Here is a code snippet that contains issues.Could you please identify and fix the problems in the code?Ensure that the code functions correctly after the changes. Here is the code:\"\n",
      "    },\n",
      "    {\n",
      "        \"role\": \"user\",\n",
      "        \"content\": \"```cpp\\n#include <iostream>\\n\\nint main() {\\n    int numbers[] = {1, 2, 3, 4, 5};\\n    int sum = 0;\\n    for (int i = 0; i <= 5; ++i) {\\n        sum += numbers[i];\\n    }\\n    std::cout << \\\"Sum: \\\" << sum << std::endl;\\n    return 0;\\n}\\n```\"\n",
      "    },\n",
      "    {\n",
      "        \"role\": \"assistant\",\n",
      "        \"content\": \"The code snippet you provided has an issue with the loop that iterates over the array `numbers`. The loop condition `i <= 5` causes an out-of-bounds access because the array `numbers` has only 5 elements, indexed from 0 to 4. Accessing `numbers[5]` is undefined behavior.\\n\\nHere's the corrected version of the code:\\n\\n```cpp\\n#include <iostream>\\n\\nint main() {\\n    int numbers[] = {1, 2, 3, 4, 5};\\n    int sum = 0;\\n    for (int i = 0; i < 5; ++i) {  // Change the condition to i < 5\\n        sum += numbers[i];\\n    }\\n    std::cout << \\\"Sum: \\\" << sum << std::endl;\\n    return 0;\\n}\\n```\\n\\n### Explanation of the Fix:\\n- **Loop Condition**: Changed the loop condition from `i <= 5` to `i < 5`. This ensures that the loop iterates over valid indices of the array `numbers`, which are 0 through 4. This prevents accessing an out-of-bounds index.\"\n",
      "    }\n",
      "]\n"
     ]
    }
   ],
   "source": [
    "from pipelines.Coding import CodeDebuggingPipeline\n",
    "\n",
    "# Create pipeline\n",
    "pipeline = CodeDebuggingPipeline(client)\n",
    "\n",
    "# Generate data\n",
    "data = pipeline(\"cpp\")\n",
    "\n",
    "print(json.dumps(data, indent=4))"
   ]
  },
  {
   "cell_type": "code",
   "execution_count": 4,
   "id": "0195ca7d-b53b-4260-8716-c30845dea7d0",
   "metadata": {},
   "outputs": [
    {
     "name": "stdout",
     "output_type": "stream",
     "text": [
      "[\n",
      "    {\n",
      "        \"role\": \"system\",\n",
      "        \"content\": \"You are a programming expert.\"\n",
      "    },\n",
      "    {\n",
      "        \"role\": \"user\",\n",
      "        \"content\": \"Here is a code snippet that contains issues.Could you please identify and fix the problems in the code?Ensure that the code functions correctly after the changes. Here is the code:\"\n",
      "    },\n",
      "    {\n",
      "        \"role\": \"user\",\n",
      "        \"content\": \"```rust\\nfn main() {\\n    let numbers = vec![1, 2, 3, 4, 5];\\n    let sum = sum_of_numbers(&numbers);\\n    println!(\\\"The sum is: {}\\\", sum);\\n}\\n\\nfn sum_of_numbers(numbers: &Vec<i32>) -> i32 {\\n    let mut sum = 0;\\n    for i in 0..=numbers.len() {\\n        sum += numbers[i];\\n    }\\n    sum\\n}\\n```\"\n",
      "    },\n",
      "    {\n",
      "        \"role\": \"assistant\",\n",
      "        \"content\": \"The provided Rust code has an issue that will cause it to panic at runtime. The problem is with the loop in the `sum_of_numbers` function. The loop iterates over the range `0..=numbers.len()`, which is incorrect because it attempts to access an index that is out of bounds. In Rust, indexing starts at 0, and the last valid index is `numbers.len() - 1`. Therefore, the loop should iterate over `0..numbers.len()`.\\n\\nHere's the corrected code:\\n\\n```rust\\nfn main() {\\n    let numbers = vec![1, 2, 3, 4, 5];\\n    let sum = sum_of_numbers(&numbers);\\n    println!(\\\"The sum is: {}\\\", sum);\\n}\\n\\nfn sum_of_numbers(numbers: &Vec<i32>) -> i32 {\\n    let mut sum = 0;\\n    for i in 0..numbers.len() {\\n        sum += numbers[i];\\n    }\\n    sum\\n}\\n```\\n\\nAlternatively, you can use an iterator to make the code more idiomatic and concise:\\n\\n```rust\\nfn main() {\\n    let numbers = vec![1, 2, 3, 4, 5];\\n    let sum = sum_of_numbers(&numbers);\\n    println!(\\\"The sum is: {}\\\", sum);\\n}\\n\\nfn sum_of_numbers(numbers: &Vec<i32>) -> i32 {\\n    numbers.iter().sum()\\n}\\n```\\n\\nThis version uses the `iter()` method to create an iterator over the elements of the vector and the `sum()` method to calculate the sum of the elements. This approach is more idiomatic in Rust and avoids manual indexing.\"\n",
      "    }\n",
      "]\n"
     ]
    }
   ],
   "source": [
    "# Generate data\n",
    "data = pipeline(\"rust\")\n",
    "\n",
    "print(json.dumps(data, indent=4))"
   ]
  },
  {
   "cell_type": "markdown",
   "id": "3d2997ee-ab0c-4497-8d3b-d1b1a8aa2147",
   "metadata": {},
   "source": [
    "### Code Explanation"
   ]
  },
  {
   "cell_type": "code",
   "execution_count": 4,
   "id": "138c5df9-7123-474a-b3e8-c07c95ad50db",
   "metadata": {},
   "outputs": [
    {
     "name": "stdout",
     "output_type": "stream",
     "text": [
      "[\n",
      "    {\n",
      "        \"role\": \"system\",\n",
      "        \"content\": \"You are a programming expert.\"\n",
      "    },\n",
      "    {\n",
      "        \"role\": \"user\",\n",
      "        \"content\": \"Please explain about this given code\"\n",
      "    },\n",
      "    {\n",
      "        \"role\": \"user\",\n",
      "        \"content\": \"```python\\nimport random\\n\\ndef generate_random_numbers(n, start, end):\\n    return [random.randint(start, end) for _ in range(n)]\\n\\ndef main():\\n    n = 10\\n    start = 1\\n    end = 100\\n    random_numbers = generate_random_numbers(n, start, end)\\n    print(\\\"Random Numbers:\\\", random_numbers)\\n\\nif __name__ == \\\"__main__\\\":\\n    main()\\n```\"\n",
      "    },\n",
      "    {\n",
      "        \"role\": \"assistant\",\n",
      "        \"content\": \"The provided Python code is designed to generate a list of random integers and print them. Here's a step-by-step explanation of how the code works:\\n\\n1. **Importing the `random` Module**: \\n   - The code begins by importing the `random` module, which is a built-in Python library used to generate random numbers. This module provides various functions to produce random numbers, and in this code, the `randint` function is utilized.\\n\\n2. **Defining the `generate_random_numbers` Function**:\\n   - A function named `generate_random_numbers` is defined. This function takes three parameters: `n`, `start`, and `end`.\\n   - `n` specifies the number of random numbers to generate.\\n   - `start` and `end` define the inclusive range within which the random numbers should be generated.\\n   - Inside the function, a list comprehension is used to create a list of `n` random integers. The expression `[random.randint(start, end) for _ in range(n)]` iterates `n` times, generating a random integer between `start` and `end` (inclusive) during each iteration using `random.randint(start, end)`. The underscore `_` is used as a throwaway variable since the loop variable is not needed.\\n\\n3. **Defining the `main` Function**:\\n   - The `main` function is defined to serve as the entry point of the program.\\n   - Within `main`, three variables are initialized:\\n     - `n` is set to 10, indicating that 10 random numbers will be generated.\\n     - `start` is set to 1, and `end` is set to 100, specifying that the random numbers should be between 1 and 100, inclusive.\\n   - The `generate_random_numbers` function is called with these parameters (`n`, `start`, `end`), and the resulting list of random numbers is stored in the variable `random_numbers`.\\n   - The list of random numbers is then printed to the console with the label \\\"Random Numbers:\\\".\\n\\n4. **Executing the `main` Function**:\\n   - The code includes a conditional statement `if __name__ == \\\"__main__\\\":`. This is a common Python idiom used to ensure that the `main` function is executed only when the script is run directly, not when it is imported as a module in another script.\\n   - If the script is executed directly, the `main` function is called, triggering the generation and printing of the random numbers.\\n\\nOverall, the code is a simple script that generates and prints a list of 10 random integers between 1 and 100. The use of functions and the `if __name__ == \\\"__main__\\\":` construct makes the code modular and suitable for reuse or extension.\"\n",
      "    }\n",
      "]\n"
     ]
    }
   ],
   "source": [
    "from pipelines.Coding import CodeExplanationPipeline\n",
    "\n",
    "# Create pipeline\n",
    "pipeline = CodeExplanationPipeline(client)\n",
    "\n",
    "# Generate data\n",
    "data = pipeline(\"python\")\n",
    "\n",
    "print(json.dumps(data, indent=4))"
   ]
  },
  {
   "cell_type": "code",
   "execution_count": 5,
   "id": "8612972e-fffb-450e-861b-3d00aabff914",
   "metadata": {},
   "outputs": [
    {
     "name": "stdout",
     "output_type": "stream",
     "text": [
      "[\n",
      "    {\n",
      "        \"role\": \"system\",\n",
      "        \"content\": \"You are a programming expert.\"\n",
      "    },\n",
      "    {\n",
      "        \"role\": \"user\",\n",
      "        \"content\": \"Please explain about this given code\"\n",
      "    },\n",
      "    {\n",
      "        \"role\": \"user\",\n",
      "        \"content\": \"```java\\nimport java.util.Scanner;\\n\\npublic class FactorialCalculator {\\n    public static void main(String[] args) {\\n        Scanner scanner = new Scanner(System.in);\\n        System.out.print(\\\"Enter a number: \\\");\\n        int number = scanner.nextInt();\\n        long factorial = calculateFactorial(number);\\n        System.out.println(\\\"Factorial of \\\" + number + \\\" is \\\" + factorial);\\n    }\\n\\n    public static long calculateFactorial(int n) {\\n        if (n == 0) {\\n            return 1;\\n        }\\n        return n * calculateFactorial(n - 1);\\n    }\\n}\\n```\"\n",
      "    },\n",
      "    {\n",
      "        \"role\": \"assistant\",\n",
      "        \"content\": \"The provided Java code is a simple program designed to calculate the factorial of a given number. Here's a detailed explanation of how the code works:\\n\\n1. **Imports and Class Definition**:\\n   - The code begins by importing the `Scanner` class from the `java.util` package. This class is used to read user input from the console.\\n   - The `FactorialCalculator` class is defined, which contains the `main` method and a helper method to calculate the factorial.\\n\\n2. **Main Method**:\\n   - The `main` method is the entry point of the program. It starts by creating an instance of the `Scanner` class to capture user input.\\n   - The program prompts the user to \\\"Enter a number: \\\" using `System.out.print`.\\n   - It then reads an integer input from the user using `scanner.nextInt()` and stores it in the variable `number`.\\n\\n3. **Factorial Calculation**:\\n   - The `calculateFactorial` method is called with the user-provided number as its argument. This method is responsible for computing the factorial of the given number.\\n   - The result of the factorial calculation is stored in the variable `factorial`.\\n\\n4. **Output**:\\n   - The program prints the result to the console using `System.out.println`, displaying the message \\\"Factorial of [number] is [factorial]\\\".\\n\\n5. **calculateFactorial Method**:\\n   - This is a recursive method that calculates the factorial of a number `n`.\\n   - **Base Case**: If `n` is 0, the method returns 1. This is because the factorial of 0 is defined as 1.\\n   - **Recursive Case**: If `n` is greater than 0, the method returns `n` multiplied by the factorial of `n-1`. This recursive call continues until it reaches the base case.\\n\\n6. **Recursion**:\\n   - The recursion in `calculateFactorial` works by breaking down the problem into smaller subproblems. For example, to calculate the factorial of 5, it computes `5 * factorial(4)`, which in turn computes `4 * factorial(3)`, and so on, until it reaches `factorial(0)`, which returns 1.\\n\\nOverall, the program efficiently calculates the factorial of a number using recursion and demonstrates basic input handling and output in Java. The recursive approach is a classic method for solving factorial problems, leveraging the mathematical definition of factorial.\"\n",
      "    }\n",
      "]\n"
     ]
    }
   ],
   "source": [
    "# Generate data\n",
    "data = pipeline(\"java\")\n",
    "\n",
    "print(json.dumps(data, indent=4))"
   ]
  },
  {
   "cell_type": "code",
   "execution_count": null,
   "id": "a809e200-445e-4b33-9faa-6be8ab086f6e",
   "metadata": {},
   "outputs": [],
   "source": []
  }
 ],
 "metadata": {
  "kernelspec": {
   "display_name": "Python 3 (ipykernel)",
   "language": "python",
   "name": "python3"
  },
  "language_info": {
   "codemirror_mode": {
    "name": "ipython",
    "version": 3
   },
   "file_extension": ".py",
   "mimetype": "text/x-python",
   "name": "python",
   "nbconvert_exporter": "python",
   "pygments_lexer": "ipython3",
   "version": "3.10.15"
  }
 },
 "nbformat": 4,
 "nbformat_minor": 5
}
