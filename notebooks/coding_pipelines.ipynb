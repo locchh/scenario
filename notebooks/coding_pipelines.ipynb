{
 "cells": [
  {
   "cell_type": "code",
   "execution_count": 1,
   "id": "a7b32978-b1ce-45cf-b31d-eec68fd0470e",
   "metadata": {},
   "outputs": [
    {
     "name": "stdout",
     "output_type": "stream",
     "text": [
      "Import successfully!\n"
     ]
    }
   ],
   "source": [
    "import os\n",
    "import sys\n",
    "import json\n",
    "\n",
    "current_dir = os.getcwd()\n",
    "sys.path.append(os.path.join(current_dir,\"..\"))\n",
    "\n",
    "from utils.helper import set_openai_key, test_openai_api, create_openai_client, count_tiktoken_length\n",
    "\n",
    "print(\"Import successfully!\")"
   ]
  },
  {
   "cell_type": "code",
   "execution_count": 2,
   "id": "7805409b-910a-4a2c-b643-739b53e36c72",
   "metadata": {},
   "outputs": [
    {
     "name": "stdout",
     "output_type": "stream",
     "text": [
      "API key set successfully.\n",
      "This is a test. How can I assist you further?\n"
     ]
    }
   ],
   "source": [
    "# Intialize\n",
    "set_openai_key() # Set openai key\n",
    "test_openai_api() # Test openai api\n",
    "client = create_openai_client() # Create openai client"
   ]
  },
  {
   "cell_type": "markdown",
   "id": "94dfb113-50aa-4719-8d21-82d3ff4d258a",
   "metadata": {},
   "source": [
    "### SQL Query Assistance"
   ]
  },
  {
   "cell_type": "code",
   "execution_count": null,
   "id": "3cf8c7a6-f549-4ab3-a41f-791a3789919e",
   "metadata": {},
   "outputs": [],
   "source": []
  },
  {
   "cell_type": "markdown",
   "id": "d9b94ab5-7505-4469-9f97-f7d39354529a",
   "metadata": {},
   "source": [
    "### Code Documentation"
   ]
  },
  {
   "cell_type": "code",
   "execution_count": null,
   "id": "48a21d99-5bd8-47cc-a831-2dd22f54138b",
   "metadata": {},
   "outputs": [],
   "source": []
  },
  {
   "cell_type": "markdown",
   "id": "9024520a-094b-4f57-9e82-6b3927823f05",
   "metadata": {},
   "source": [
    "### Error Explanation"
   ]
  },
  {
   "cell_type": "code",
   "execution_count": null,
   "id": "da7f2a7c-93c4-457c-8e62-7ac73d3f49cb",
   "metadata": {},
   "outputs": [],
   "source": []
  },
  {
   "cell_type": "markdown",
   "id": "5eaf2ccc-c5bf-48aa-8e91-effebc55cad2",
   "metadata": {},
   "source": [
    "### Code Review"
   ]
  },
  {
   "cell_type": "code",
   "execution_count": null,
   "id": "06f362a1-3d4b-482f-a61b-313431b38412",
   "metadata": {},
   "outputs": [],
   "source": []
  },
  {
   "cell_type": "markdown",
   "id": "4f5b53e2-2752-4726-8ea0-c87f4bd825e8",
   "metadata": {},
   "source": [
    "### Optimization Suggestions"
   ]
  },
  {
   "cell_type": "code",
   "execution_count": null,
   "id": "2e660fbf-c970-4af7-bc7c-9aba907e670c",
   "metadata": {},
   "outputs": [],
   "source": []
  },
  {
   "cell_type": "markdown",
   "id": "e5c3e0b8-1b84-43e0-b063-6c596521f82c",
   "metadata": {},
   "source": [
    "### Code Translation"
   ]
  },
  {
   "cell_type": "code",
   "execution_count": null,
   "id": "5a2d3cf8-dff3-4768-ba77-428bb3ae290a",
   "metadata": {},
   "outputs": [],
   "source": []
  },
  {
   "cell_type": "markdown",
   "id": "cf5ec723-bc94-45ce-891d-43a5b15f7f6e",
   "metadata": {},
   "source": [
    "### Code Completion\n"
   ]
  },
  {
   "cell_type": "code",
   "execution_count": null,
   "id": "40bbd3d8-5765-4908-a67e-c47386d170bc",
   "metadata": {},
   "outputs": [],
   "source": []
  },
  {
   "cell_type": "markdown",
   "id": "c8cfb072-1641-4234-abe3-874f5bccce1f",
   "metadata": {},
   "source": [
    "### Code Generation"
   ]
  },
  {
   "cell_type": "code",
   "execution_count": 3,
   "id": "d27b1dc6-b516-4816-873d-49ee88160328",
   "metadata": {},
   "outputs": [
    {
     "name": "stdout",
     "output_type": "stream",
     "text": [
      "[\n",
      "    {\n",
      "        \"role\": \"system\",\n",
      "        \"content\": \"You are a programming expert.\"\n",
      "    },\n",
      "    {\n",
      "        \"role\": \"user\",\n",
      "        \"content\": \"**Task: Implement a C++ Class for a Simple Banking System**\\n\\n**Objective:**  \\nDevelop a C++ class named `BankAccount` that simulates a basic banking system. The class should manage account information and support basic banking operations.\\n\\n**Functionality Requirements:**\\n\\n1. **Attributes:**\\n   - `accountNumber`: A unique identifier for the account (integer).\\n   - `accountHolderName`: The name of the account holder (string).\\n   - `balance`: The current balance of the account (double).\\n\\n2. **Constructor:**\\n   - A parameterized constructor to initialize the account with an account number, account holder name, and an initial balance.\\n\\n3. **Methods:**\\n   - `deposit(double amount)`: Adds the specified amount to the account balance. Ensure the amount is positive.\\n   - `withdraw(double amount)`: Deducts the specified amount from the account balance. Ensure the account has sufficient funds and the amount is positive.\\n   - `getBalance()`: Returns the current balance of the account.\\n   - `displayAccountDetails()`: Prints the account number, account holder name, and current balance.\\n\\n**Expected Behavior:**\\n- The class should handle invalid operations gracefully, such as attempting to withdraw more than the available balance or depositing/withdrawing a negative amount.\\n- Ensure encapsulation by making class attributes private and providing public methods for interaction.\\n- Include basic input validation and error messages for invalid operations.\\n\\n**Constraints:**\\n- Use standard C++ libraries only.\\n- Ensure the code is well-documented with comments explaining the logic.\\n- The class should be designed to be easily extendable for future enhancements.\\n\\n**Deliverables:**\\n- A C++ header file (`BankAccount.h`) containing the class definition.\\n- A C++ source file (`BankAccount.cpp`) implementing the class methods.\\n- A simple `main.cpp` file demonstrating the usage of the `BankAccount` class with example operations.\"\n",
      "    },\n",
      "    {\n",
      "        \"role\": \"assistant\",\n",
      "        \"content\": \"```cpp\\n// BankAccount.h\\n#ifndef BANKACCOUNT_H\\n#define BANKACCOUNT_H\\n\\n#include <string>\\n\\nclass BankAccount {\\nprivate:\\n    int accountNumber;\\n    std::string accountHolderName;\\n    double balance;\\n\\npublic:\\n    BankAccount(int accNumber, const std::string& accHolderName, double initialBalance);\\n    void deposit(double amount);\\n    bool withdraw(double amount);\\n    double getBalance() const;\\n    void displayAccountDetails() const;\\n};\\n\\n#endif // BANKACCOUNT_H\\n```\\n\\n```cpp\\n// BankAccount.cpp\\n#include \\\"BankAccount.h\\\"\\n#include <iostream>\\n\\nBankAccount::BankAccount(int accNumber, const std::string& accHolderName, double initialBalance)\\n    : accountNumber(accNumber), accountHolderName(accHolderName), balance(initialBalance) {}\\n\\nvoid BankAccount::deposit(double amount) {\\n    if (amount > 0) {\\n        balance += amount;\\n    } else {\\n        std::cerr << \\\"Deposit amount must be positive.\\\" << std::endl;\\n    }\\n}\\n\\nbool BankAccount::withdraw(double amount) {\\n    if (amount > 0 && amount <= balance) {\\n        balance -= amount;\\n        return true;\\n    } else {\\n        std::cerr << \\\"Invalid withdrawal amount or insufficient funds.\\\" << std::endl;\\n        return false;\\n    }\\n}\\n\\ndouble BankAccount::getBalance() const {\\n    return balance;\\n}\\n\\nvoid BankAccount::displayAccountDetails() const {\\n    std::cout << \\\"Account Number: \\\" << accountNumber << std::endl;\\n    std::cout << \\\"Account Holder: \\\" << accountHolderName << std::endl;\\n    std::cout << \\\"Balance: $\\\" << balance << std::endl;\\n}\\n```\\n\\n```cpp\\n// main.cpp\\n#include \\\"BankAccount.h\\\"\\n#include <iostream>\\n\\nint main() {\\n    BankAccount account(123456, \\\"John Doe\\\", 1000.0);\\n\\n    account.displayAccountDetails();\\n    account.deposit(500.0);\\n    account.withdraw(200.0);\\n    account.withdraw(1500.0); // Should display an error\\n    account.deposit(-50.0);   // Should display an error\\n\\n    std::cout << \\\"Final Balance: $\\\" << account.getBalance() << std::endl;\\n\\n    return 0;\\n}\\n```\"\n",
      "    }\n",
      "]\n"
     ]
    }
   ],
   "source": [
    "from pipelines.Coding import CodeGenerationPipeline\n",
    "\n",
    "# Create pipeline\n",
    "pipeline = CodeGenerationPipeline(client)\n",
    "\n",
    "# Generate data\n",
    "data = pipeline(\"cpp\")\n",
    "\n",
    "print(json.dumps(data, indent=4))"
   ]
  },
  {
   "cell_type": "code",
   "execution_count": 4,
   "id": "969dedaf-0a66-421f-b9cf-0c1097a25346",
   "metadata": {},
   "outputs": [
    {
     "name": "stdout",
     "output_type": "stream",
     "text": [
      "[\n",
      "    {\n",
      "        \"role\": \"system\",\n",
      "        \"content\": \"You are a programming expert.\"\n",
      "    },\n",
      "    {\n",
      "        \"role\": \"user\",\n",
      "        \"content\": \"**Task Request for Code Generation in C#**\\n\\n**Objective:**\\nDevelop a C# class library that provides functionality to manage a simple inventory system for a small retail store. The system should allow for adding, updating, removing, and listing products in the inventory.\\n\\n**Functionality Requirements:**\\n\\n1. **Product Management:**\\n   - Implement a `Product` class with the following properties:\\n     - `int Id`: Unique identifier for each product.\\n     - `string Name`: Name of the product.\\n     - `string Description`: Brief description of the product.\\n     - `decimal Price`: Price of the product.\\n     - `int Quantity`: Available quantity in stock.\\n\\n2. **Inventory Operations:**\\n   - Create an `InventoryManager` class with methods to manage the products:\\n     - `void AddProduct(Product product)`: Adds a new product to the inventory.\\n     - `bool UpdateProduct(int id, Product updatedProduct)`: Updates an existing product's details. Returns `true` if successful, `false` if the product does not exist.\\n     - `bool RemoveProduct(int id)`: Removes a product from the inventory by its ID. Returns `true` if successful, `false` if the product does not exist.\\n     - `List<Product> ListProducts()`: Returns a list of all products currently in the inventory.\\n\\n3. **Validation:**\\n   - Ensure that product names are unique within the inventory.\\n   - Validate that the price and quantity are non-negative values.\\n\\n**Expected Behavior:**\\n- The system should handle concurrent operations safely, ensuring data integrity.\\n- Provide meaningful error messages or exceptions when operations fail due to invalid input or constraints.\\n- The class library should be designed for easy integration into a larger application, with clear and concise documentation for each method.\\n\\n**Constraints:**\\n- Use .NET 6.0 or later.\\n- Follow best practices for object-oriented design and coding standards in C#.\\n- Ensure the code is well-documented and includes unit tests for all public methods.\\n\\n**Deliverables:**\\n- A C# class library project with the implemented functionality.\\n- A separate project containing unit tests for the class library.\\n- Documentation detailing the usage of the class library and any assumptions made during implementation.\"\n",
      "    },\n",
      "    {\n",
      "        \"role\": \"assistant\",\n",
      "        \"content\": \"```csharp\\n// Product.cs\\nnamespace InventorySystem\\n{\\n    public class Product\\n    {\\n        public int Id { get; set; }\\n        public string Name { get; set; }\\n        public string Description { get; set; }\\n        public decimal Price { get; set; }\\n        public int Quantity { get; set; }\\n    }\\n}\\n\\n// InventoryManager.cs\\nusing System.Collections.Generic;\\nusing System.Linq;\\n\\nnamespace InventorySystem\\n{\\n    public class InventoryManager\\n    {\\n        private readonly List<Product> _products = new List<Product>();\\n\\n        public void AddProduct(Product product)\\n        {\\n            if (_products.Any(p => p.Name == product.Name))\\n                throw new InvalidOperationException(\\\"Product name must be unique.\\\");\\n            if (product.Price < 0 || product.Quantity < 0)\\n                throw new ArgumentException(\\\"Price and Quantity must be non-negative.\\\");\\n            _products.Add(product);\\n        }\\n\\n        public bool UpdateProduct(int id, Product updatedProduct)\\n        {\\n            var product = _products.FirstOrDefault(p => p.Id == id);\\n            if (product == null) return false;\\n            if (_products.Any(p => p.Name == updatedProduct.Name && p.Id != id))\\n                throw new InvalidOperationException(\\\"Product name must be unique.\\\");\\n            if (updatedProduct.Price < 0 || updatedProduct.Quantity < 0)\\n                throw new ArgumentException(\\\"Price and Quantity must be non-negative.\\\");\\n            product.Name = updatedProduct.Name;\\n            product.Description = updatedProduct.Description;\\n            product.Price = updatedProduct.Price;\\n            product.Quantity = updatedProduct.Quantity;\\n            return true;\\n        }\\n\\n        public bool RemoveProduct(int id)\\n        {\\n            var product = _products.FirstOrDefault(p => p.Id == id);\\n            if (product == null) return false;\\n            _products.Remove(product);\\n            return true;\\n        }\\n\\n        public List<Product> ListProducts()\\n        {\\n            return new List<Product>(_products);\\n        }\\n    }\\n}\\n\\n// InventoryManagerTests.cs\\nusing Xunit;\\nusing System;\\n\\nnamespace InventorySystem.Tests\\n{\\n    public class InventoryManagerTests\\n    {\\n        [Fact]\\n        public void AddProduct_ShouldAddProduct()\\n        {\\n            var manager = new InventoryManager();\\n            var product = new Product { Id = 1, Name = \\\"Test\\\", Description = \\\"Test Desc\\\", Price = 10.0m, Quantity = 5 };\\n            manager.AddProduct(product);\\n            Assert.Single(manager.ListProducts());\\n        }\\n\\n        [Fact]\\n        public void AddProduct_ShouldThrowExceptionForDuplicateName()\\n        {\\n            var manager = new InventoryManager();\\n            var product1 = new Product { Id = 1, Name = \\\"Test\\\", Description = \\\"Test Desc\\\", Price = 10.0m, Quantity = 5 };\\n            var product2 = new Product { Id = 2, Name = \\\"Test\\\", Description = \\\"Test Desc 2\\\", Price = 15.0m, Quantity = 10 };\\n            manager.AddProduct(product1);\\n            Assert.Throws<InvalidOperationException>(() => manager.AddProduct(product2));\\n        }\\n\\n        [Fact]\\n        public void UpdateProduct_ShouldUpdateExistingProduct()\\n        {\\n            var manager = new InventoryManager();\\n            var product = new Product { Id = 1, Name = \\\"Test\\\", Description = \\\"Test Desc\\\", Price = 10.0m, Quantity = 5 };\\n            manager.AddProduct(product);\\n            var updatedProduct = new Product { Id = 1, Name = \\\"Updated\\\", Description = \\\"Updated Desc\\\", Price = 20.0m, Quantity = 10 };\\n            var result = manager.UpdateProduct(1, updatedProduct);\\n            Assert.True(result);\\n            Assert.Equal(\\\"Updated\\\", manager.ListProducts()[0].Name);\\n        }\\n\\n        [Fact]\\n        public void RemoveProduct_ShouldRemoveExistingProduct()\\n        {\\n            var manager = new InventoryManager();\\n            var product = new Product { Id = 1, Name = \\\"Test\\\", Description = \\\"Test Desc\\\", Price = 10.0m, Quantity = 5 };\\n            manager.AddProduct(product);\\n            var result = manager.RemoveProduct(1);\\n            Assert.True(result);\\n            Assert.Empty(manager.ListProducts());\\n        }\\n\\n        [Fact]\\n        public void ListProducts_ShouldReturnAllProducts()\\n        {\\n            var manager = new InventoryManager();\\n            var product1 = new Product { Id = 1, Name = \\\"Test1\\\", Description = \\\"Test Desc 1\\\", Price = 10.0m, Quantity = 5 };\\n            var product2 = new Product { Id = 2, Name = \\\"Test2\\\", Description = \\\"Test Desc 2\\\", Price = 15.0m, Quantity = 10 };\\n            manager.AddProduct(product1);\\n            manager.AddProduct(product2);\\n            var products = manager.ListProducts();\\n            Assert.Equal(2, products.Count);\\n        }\\n    }\\n}\\n```\"\n",
      "    }\n",
      "]\n"
     ]
    }
   ],
   "source": [
    "# Generate data\n",
    "data = pipeline(\"C#\")\n",
    "\n",
    "print(json.dumps(data, indent=4))"
   ]
  },
  {
   "cell_type": "code",
   "execution_count": 6,
   "id": "90f36f67-2d8d-47aa-9a4b-e2127611239e",
   "metadata": {},
   "outputs": [
    {
     "name": "stdout",
     "output_type": "stream",
     "text": [
      "[\n",
      "    {\n",
      "        \"role\": \"system\",\n",
      "        \"content\": \"You are a programming expert.\"\n",
      "    },\n",
      "    {\n",
      "        \"role\": \"user\",\n",
      "        \"content\": \"**Task Request for COBOL Code Generation**\\n\\n**Objective:**\\nDevelop a COBOL program to manage and process employee payroll data. The program should read employee records from an input file, calculate gross pay, deductions, and net pay, and generate a detailed payroll report.\\n\\n**Functionality:**\\n\\n1. **Input Handling:**\\n   - Read employee data from a sequential input file. Each record includes Employee ID, Name, Hours Worked, and Hourly Rate.\\n   - Validate input data for completeness and correctness. Invalid records should be logged and skipped.\\n\\n2. **Payroll Calculation:**\\n   - Calculate Gross Pay as `Hours Worked * Hourly Rate`.\\n   - Deduct taxes at a flat rate of 20% from Gross Pay to calculate Net Pay.\\n   - Include additional deductions such as health insurance ($50 per employee) and retirement savings (5% of Gross Pay).\\n\\n3. **Output Generation:**\\n   - Produce a payroll report listing each employee's ID, Name, Gross Pay, Deductions, and Net Pay.\\n   - Summarize total Gross Pay, total Deductions, and total Net Pay for all employees at the end of the report.\\n\\n**Expected Behavior:**\\n\\n- The program should handle up to 1000 employee records efficiently.\\n- Ensure accurate calculations and formatting in the output report.\\n- Log any errors or anomalies encountered during processing to an error file.\\n\\n**Specific Requirements:**\\n\\n- Use structured programming techniques with clear divisions between input, processing, and output sections.\\n- Ensure the program is modular, with separate paragraphs for reading input, processing calculations, and generating output.\\n- Adhere to COBOL best practices for readability and maintainability, including meaningful variable names and thorough commenting.\\n- The program should be compatible with COBOL-85 standards.\\n\\n**Constraints:**\\n\\n- The program must execute within a batch processing environment.\\n- Ensure minimal memory usage and optimize for performance.\\n- The input file format is fixed-width text, and the output report should be in a human-readable text format.\\n\\n**Deliverables:**\\n\\n- Source code of the COBOL program.\\n- Sample input file and corresponding output report.\\n- Documentation detailing the program structure, logic, and any assumptions made during development.\"\n",
      "    },\n",
      "    {\n",
      "        \"role\": \"assistant\",\n",
      "        \"content\": \"```cobol\\n       IDENTIFICATION DIVISION.\\n       PROGRAM-ID. PayrollProcessing.\\n\\n       ENVIRONMENT DIVISION.\\n       INPUT-OUTPUT SECTION.\\n       FILE-CONTROL.\\n           SELECT EmployeeFile ASSIGN TO 'employee-input.txt'\\n               ORGANIZATION IS LINE SEQUENTIAL.\\n           SELECT ErrorFile ASSIGN TO 'error-log.txt'\\n               ORGANIZATION IS LINE SEQUENTIAL.\\n           SELECT ReportFile ASSIGN TO 'payroll-report.txt'\\n               ORGANIZATION IS LINE SEQUENTIAL.\\n\\n       DATA DIVISION.\\n       FILE SECTION.\\n       FD  EmployeeFile.\\n       01  EmployeeRecord.\\n           05  EmployeeID        PIC X(10).\\n           05  EmployeeName      PIC X(30).\\n           05  HoursWorked       PIC 9(3)V99.\\n           05  HourlyRate        PIC 9(3)V99.\\n\\n       FD  ErrorFile.\\n       01  ErrorRecord          PIC X(80).\\n\\n       FD  ReportFile.\\n       01  ReportRecord         PIC X(80).\\n\\n       WORKING-STORAGE SECTION.\\n       01  WS-Employee.\\n           05  WS-EmployeeID     PIC X(10).\\n           05  WS-EmployeeName   PIC X(30).\\n           05  WS-HoursWorked    PIC 9(3)V99.\\n           05  WS-HourlyRate     PIC 9(3)V99.\\n           05  WS-GrossPay       PIC 9(7)V99.\\n           05  WS-TaxDeduction   PIC 9(7)V99.\\n           05  WS-HealthDeduction PIC 9(7)V99 VALUE 50.00.\\n           05  WS-RetirementDeduction PIC 9(7)V99.\\n           05  WS-TotalDeductions PIC 9(7)V99.\\n           05  WS-NetPay         PIC 9(7)V99.\\n\\n       01  WS-Totals.\\n           05  WS-TotalGrossPay  PIC 9(9)V99 VALUE 0.\\n           05  WS-TotalDeductions PIC 9(9)V99 VALUE 0.\\n           05  WS-TotalNetPay    PIC 9(9)V99 VALUE 0.\\n\\n       01  WS-EOF                PIC X VALUE 'N'.\\n\\n       PROCEDURE DIVISION.\\n       MAIN-PROCEDURE.\\n           OPEN INPUT EmployeeFile\\n           OPEN OUTPUT ErrorFile\\n           OPEN OUTPUT ReportFile\\n           PERFORM UNTIL WS-EOF = 'Y'\\n               READ EmployeeFile INTO EmployeeRecord\\n                   AT END\\n                       MOVE 'Y' TO WS-EOF\\n                   NOT AT END\\n                       PERFORM PROCESS-EMPLOYEE\\n               END-READ\\n           END-PERFORM\\n           PERFORM WRITE-REPORT-SUMMARY\\n           CLOSE EmployeeFile\\n           CLOSE ErrorFile\\n           CLOSE ReportFile\\n           STOP RUN.\\n\\n       PROCESS-EMPLOYEE.\\n           IF HoursWorked IS NUMERIC AND HourlyRate IS NUMERIC\\n               COMPUTE WS-GrossPay = WS-HoursWorked * WS-HourlyRate\\n               COMPUTE WS-TaxDeduction = WS-GrossPay * 0.20\\n               COMPUTE WS-RetirementDeduction = WS-GrossPay * 0.05\\n               COMPUTE WS-TotalDeductions = WS-TaxDeduction + WS-HealthDeduction + WS-RetirementDeduction\\n               COMPUTE WS-NetPay = WS-GrossPay - WS-TotalDeductions\\n               PERFORM WRITE-REPORT\\n               ADD WS-GrossPay TO WS-TotalGrossPay\\n               ADD WS-TotalDeductions TO WS-TotalDeductions\\n               ADD WS-NetPay TO WS-TotalNetPay\\n           ELSE\\n               MOVE EmployeeRecord TO ErrorRecord\\n               WRITE ErrorRecord\\n           END-IF.\\n\\n       WRITE-REPORT.\\n           MOVE SPACES TO ReportRecord\\n           STRING WS-EmployeeID DELIMITED BY SPACE\\n                  WS-EmployeeName DELIMITED BY SPACE\\n                  WS-GrossPay DELIMITED BY SPACE\\n                  WS-TotalDeductions DELIMITED BY SPACE\\n                  WS-NetPay DELIMITED BY SPACE\\n                  INTO ReportRecord\\n           WRITE ReportRecord.\\n\\n       WRITE-REPORT-SUMMARY.\\n           MOVE SPACES TO ReportRecord\\n           STRING 'TOTALS:' DELIMITED BY SPACE\\n                  WS-TotalGrossPay DELIMITED BY SPACE\\n                  WS-TotalDeductions DELIMITED BY SPACE\\n                  WS-TotalNetPay DELIMITED BY SPACE\\n                  INTO ReportRecord\\n           WRITE ReportRecord.\\n```\"\n",
      "    }\n",
      "]\n"
     ]
    }
   ],
   "source": [
    "# Generate data\n",
    "data = pipeline(\"cobol\")\n",
    "\n",
    "print(json.dumps(data, indent=4))"
   ]
  },
  {
   "cell_type": "markdown",
   "id": "2bc38abc-c540-4f7a-83e4-03f081facfa7",
   "metadata": {},
   "source": [
    "### Code Debugging"
   ]
  },
  {
   "cell_type": "code",
   "execution_count": 3,
   "id": "3c35e832-7d38-4542-b9b2-9650b56c7271",
   "metadata": {},
   "outputs": [
    {
     "name": "stdout",
     "output_type": "stream",
     "text": [
      "[\n",
      "    {\n",
      "        \"role\": \"system\",\n",
      "        \"content\": \"You are a programming expert.\"\n",
      "    },\n",
      "    {\n",
      "        \"role\": \"user\",\n",
      "        \"content\": \"Here is a code snippet that contains issues.Could you please identify and fix the problems in the code?Ensure that the code functions correctly after the changes. Here is the code:\"\n",
      "    },\n",
      "    {\n",
      "        \"role\": \"user\",\n",
      "        \"content\": \"```cpp\\n#include <iostream>\\n\\nint main() {\\n    int numbers[] = {1, 2, 3, 4, 5};\\n    int sum = 0;\\n    for (int i = 0; i <= 5; ++i) {\\n        sum += numbers[i];\\n    }\\n    std::cout << \\\"Sum: \\\" << sum << std::endl;\\n    return 0;\\n}\\n```\"\n",
      "    },\n",
      "    {\n",
      "        \"role\": \"assistant\",\n",
      "        \"content\": \"The code snippet you provided has an issue with the loop that iterates over the array `numbers`. The loop condition `i <= 5` causes an out-of-bounds access because the array `numbers` has only 5 elements, indexed from 0 to 4. Accessing `numbers[5]` is undefined behavior.\\n\\nHere's the corrected version of the code:\\n\\n```cpp\\n#include <iostream>\\n\\nint main() {\\n    int numbers[] = {1, 2, 3, 4, 5};\\n    int sum = 0;\\n    for (int i = 0; i < 5; ++i) {  // Change the condition to i < 5\\n        sum += numbers[i];\\n    }\\n    std::cout << \\\"Sum: \\\" << sum << std::endl;\\n    return 0;\\n}\\n```\\n\\n### Explanation of the Fix:\\n- **Loop Condition**: Changed the loop condition from `i <= 5` to `i < 5`. This ensures that the loop iterates over valid indices of the array `numbers`, which are 0 through 4. This prevents accessing an out-of-bounds index.\"\n",
      "    }\n",
      "]\n"
     ]
    }
   ],
   "source": [
    "from pipelines.Coding import CodeDebuggingPipeline\n",
    "\n",
    "# Create pipeline\n",
    "pipeline = CodeDebuggingPipeline(client)\n",
    "\n",
    "# Generate data\n",
    "data = pipeline(\"cpp\")\n",
    "\n",
    "print(json.dumps(data, indent=4))"
   ]
  },
  {
   "cell_type": "code",
   "execution_count": 4,
   "id": "0195ca7d-b53b-4260-8716-c30845dea7d0",
   "metadata": {},
   "outputs": [
    {
     "name": "stdout",
     "output_type": "stream",
     "text": [
      "[\n",
      "    {\n",
      "        \"role\": \"system\",\n",
      "        \"content\": \"You are a programming expert.\"\n",
      "    },\n",
      "    {\n",
      "        \"role\": \"user\",\n",
      "        \"content\": \"Here is a code snippet that contains issues.Could you please identify and fix the problems in the code?Ensure that the code functions correctly after the changes. Here is the code:\"\n",
      "    },\n",
      "    {\n",
      "        \"role\": \"user\",\n",
      "        \"content\": \"```rust\\nfn main() {\\n    let numbers = vec![1, 2, 3, 4, 5];\\n    let sum = sum_of_numbers(&numbers);\\n    println!(\\\"The sum is: {}\\\", sum);\\n}\\n\\nfn sum_of_numbers(numbers: &Vec<i32>) -> i32 {\\n    let mut sum = 0;\\n    for i in 0..=numbers.len() {\\n        sum += numbers[i];\\n    }\\n    sum\\n}\\n```\"\n",
      "    },\n",
      "    {\n",
      "        \"role\": \"assistant\",\n",
      "        \"content\": \"The provided Rust code has an issue that will cause it to panic at runtime. The problem is with the loop in the `sum_of_numbers` function. The loop iterates over the range `0..=numbers.len()`, which is incorrect because it attempts to access an index that is out of bounds. In Rust, indexing starts at 0, and the last valid index is `numbers.len() - 1`. Therefore, the loop should iterate over `0..numbers.len()`.\\n\\nHere's the corrected code:\\n\\n```rust\\nfn main() {\\n    let numbers = vec![1, 2, 3, 4, 5];\\n    let sum = sum_of_numbers(&numbers);\\n    println!(\\\"The sum is: {}\\\", sum);\\n}\\n\\nfn sum_of_numbers(numbers: &Vec<i32>) -> i32 {\\n    let mut sum = 0;\\n    for i in 0..numbers.len() {\\n        sum += numbers[i];\\n    }\\n    sum\\n}\\n```\\n\\nAlternatively, you can use an iterator to make the code more idiomatic and concise:\\n\\n```rust\\nfn main() {\\n    let numbers = vec![1, 2, 3, 4, 5];\\n    let sum = sum_of_numbers(&numbers);\\n    println!(\\\"The sum is: {}\\\", sum);\\n}\\n\\nfn sum_of_numbers(numbers: &Vec<i32>) -> i32 {\\n    numbers.iter().sum()\\n}\\n```\\n\\nThis version uses the `iter()` method to create an iterator over the elements of the vector and the `sum()` method to calculate the sum of the elements. This approach is more idiomatic in Rust and avoids manual indexing.\"\n",
      "    }\n",
      "]\n"
     ]
    }
   ],
   "source": [
    "# Generate data\n",
    "data = pipeline(\"rust\")\n",
    "\n",
    "print(json.dumps(data, indent=4))"
   ]
  },
  {
   "cell_type": "markdown",
   "id": "3d2997ee-ab0c-4497-8d3b-d1b1a8aa2147",
   "metadata": {},
   "source": [
    "### Code Explanation"
   ]
  },
  {
   "cell_type": "code",
   "execution_count": 4,
   "id": "138c5df9-7123-474a-b3e8-c07c95ad50db",
   "metadata": {},
   "outputs": [
    {
     "name": "stdout",
     "output_type": "stream",
     "text": [
      "[\n",
      "    {\n",
      "        \"role\": \"system\",\n",
      "        \"content\": \"You are a programming expert.\"\n",
      "    },\n",
      "    {\n",
      "        \"role\": \"user\",\n",
      "        \"content\": \"Please explain about this given code\"\n",
      "    },\n",
      "    {\n",
      "        \"role\": \"user\",\n",
      "        \"content\": \"```python\\nimport random\\n\\ndef generate_random_numbers(n, start, end):\\n    return [random.randint(start, end) for _ in range(n)]\\n\\ndef main():\\n    n = 10\\n    start = 1\\n    end = 100\\n    random_numbers = generate_random_numbers(n, start, end)\\n    print(\\\"Random Numbers:\\\", random_numbers)\\n\\nif __name__ == \\\"__main__\\\":\\n    main()\\n```\"\n",
      "    },\n",
      "    {\n",
      "        \"role\": \"assistant\",\n",
      "        \"content\": \"The provided Python code is designed to generate a list of random integers and print them. Here's a step-by-step explanation of how the code works:\\n\\n1. **Importing the `random` Module**: \\n   - The code begins by importing the `random` module, which is a built-in Python library used to generate random numbers. This module provides various functions to produce random numbers, and in this code, the `randint` function is utilized.\\n\\n2. **Defining the `generate_random_numbers` Function**:\\n   - A function named `generate_random_numbers` is defined. This function takes three parameters: `n`, `start`, and `end`.\\n   - `n` specifies the number of random numbers to generate.\\n   - `start` and `end` define the inclusive range within which the random numbers should be generated.\\n   - Inside the function, a list comprehension is used to create a list of `n` random integers. The expression `[random.randint(start, end) for _ in range(n)]` iterates `n` times, generating a random integer between `start` and `end` (inclusive) during each iteration using `random.randint(start, end)`. The underscore `_` is used as a throwaway variable since the loop variable is not needed.\\n\\n3. **Defining the `main` Function**:\\n   - The `main` function is defined to serve as the entry point of the program.\\n   - Within `main`, three variables are initialized:\\n     - `n` is set to 10, indicating that 10 random numbers will be generated.\\n     - `start` is set to 1, and `end` is set to 100, specifying that the random numbers should be between 1 and 100, inclusive.\\n   - The `generate_random_numbers` function is called with these parameters (`n`, `start`, `end`), and the resulting list of random numbers is stored in the variable `random_numbers`.\\n   - The list of random numbers is then printed to the console with the label \\\"Random Numbers:\\\".\\n\\n4. **Executing the `main` Function**:\\n   - The code includes a conditional statement `if __name__ == \\\"__main__\\\":`. This is a common Python idiom used to ensure that the `main` function is executed only when the script is run directly, not when it is imported as a module in another script.\\n   - If the script is executed directly, the `main` function is called, triggering the generation and printing of the random numbers.\\n\\nOverall, the code is a simple script that generates and prints a list of 10 random integers between 1 and 100. The use of functions and the `if __name__ == \\\"__main__\\\":` construct makes the code modular and suitable for reuse or extension.\"\n",
      "    }\n",
      "]\n"
     ]
    }
   ],
   "source": [
    "from pipelines.Coding import CodeExplanationPipeline\n",
    "\n",
    "# Create pipeline\n",
    "pipeline = CodeExplanationPipeline(client)\n",
    "\n",
    "# Generate data\n",
    "data = pipeline(\"python\")\n",
    "\n",
    "print(json.dumps(data, indent=4))"
   ]
  },
  {
   "cell_type": "code",
   "execution_count": 5,
   "id": "8612972e-fffb-450e-861b-3d00aabff914",
   "metadata": {},
   "outputs": [
    {
     "name": "stdout",
     "output_type": "stream",
     "text": [
      "[\n",
      "    {\n",
      "        \"role\": \"system\",\n",
      "        \"content\": \"You are a programming expert.\"\n",
      "    },\n",
      "    {\n",
      "        \"role\": \"user\",\n",
      "        \"content\": \"Please explain about this given code\"\n",
      "    },\n",
      "    {\n",
      "        \"role\": \"user\",\n",
      "        \"content\": \"```java\\nimport java.util.Scanner;\\n\\npublic class FactorialCalculator {\\n    public static void main(String[] args) {\\n        Scanner scanner = new Scanner(System.in);\\n        System.out.print(\\\"Enter a number: \\\");\\n        int number = scanner.nextInt();\\n        long factorial = calculateFactorial(number);\\n        System.out.println(\\\"Factorial of \\\" + number + \\\" is \\\" + factorial);\\n    }\\n\\n    public static long calculateFactorial(int n) {\\n        if (n == 0) {\\n            return 1;\\n        }\\n        return n * calculateFactorial(n - 1);\\n    }\\n}\\n```\"\n",
      "    },\n",
      "    {\n",
      "        \"role\": \"assistant\",\n",
      "        \"content\": \"The provided Java code is a simple program designed to calculate the factorial of a given number. Here's a detailed explanation of how the code works:\\n\\n1. **Imports and Class Definition**:\\n   - The code begins by importing the `Scanner` class from the `java.util` package. This class is used to read user input from the console.\\n   - The `FactorialCalculator` class is defined, which contains the `main` method and a helper method to calculate the factorial.\\n\\n2. **Main Method**:\\n   - The `main` method is the entry point of the program. It starts by creating an instance of the `Scanner` class to capture user input.\\n   - The program prompts the user to \\\"Enter a number: \\\" using `System.out.print`.\\n   - It then reads an integer input from the user using `scanner.nextInt()` and stores it in the variable `number`.\\n\\n3. **Factorial Calculation**:\\n   - The `calculateFactorial` method is called with the user-provided number as its argument. This method is responsible for computing the factorial of the given number.\\n   - The result of the factorial calculation is stored in the variable `factorial`.\\n\\n4. **Output**:\\n   - The program prints the result to the console using `System.out.println`, displaying the message \\\"Factorial of [number] is [factorial]\\\".\\n\\n5. **calculateFactorial Method**:\\n   - This is a recursive method that calculates the factorial of a number `n`.\\n   - **Base Case**: If `n` is 0, the method returns 1. This is because the factorial of 0 is defined as 1.\\n   - **Recursive Case**: If `n` is greater than 0, the method returns `n` multiplied by the factorial of `n-1`. This recursive call continues until it reaches the base case.\\n\\n6. **Recursion**:\\n   - The recursion in `calculateFactorial` works by breaking down the problem into smaller subproblems. For example, to calculate the factorial of 5, it computes `5 * factorial(4)`, which in turn computes `4 * factorial(3)`, and so on, until it reaches `factorial(0)`, which returns 1.\\n\\nOverall, the program efficiently calculates the factorial of a number using recursion and demonstrates basic input handling and output in Java. The recursive approach is a classic method for solving factorial problems, leveraging the mathematical definition of factorial.\"\n",
      "    }\n",
      "]\n"
     ]
    }
   ],
   "source": [
    "# Generate data\n",
    "data = pipeline(\"java\")\n",
    "\n",
    "print(json.dumps(data, indent=4))"
   ]
  },
  {
   "cell_type": "code",
   "execution_count": null,
   "id": "a809e200-445e-4b33-9faa-6be8ab086f6e",
   "metadata": {},
   "outputs": [],
   "source": []
  }
 ],
 "metadata": {
  "kernelspec": {
   "display_name": "Python 3 (ipykernel)",
   "language": "python",
   "name": "python3"
  },
  "language_info": {
   "codemirror_mode": {
    "name": "ipython",
    "version": 3
   },
   "file_extension": ".py",
   "mimetype": "text/x-python",
   "name": "python",
   "nbconvert_exporter": "python",
   "pygments_lexer": "ipython3",
   "version": "3.10.15"
  }
 },
 "nbformat": 4,
 "nbformat_minor": 5
}
