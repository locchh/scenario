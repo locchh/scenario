{
 "cells": [
  {
   "cell_type": "code",
   "execution_count": 1,
   "id": "90d87722-4101-47ce-a7e8-510c48d126b8",
   "metadata": {},
   "outputs": [
    {
     "name": "stdout",
     "output_type": "stream",
     "text": [
      "Import successfully!\n"
     ]
    }
   ],
   "source": [
    "# Import libraries\n",
    "import os\n",
    "import sys\n",
    "\n",
    "current_dir = os.getcwd()\n",
    "sys.path.append(os.path.join(current_dir,\"..\"))\n",
    "\n",
    "from utils.helper import set_openai_key, test_openai_api, create_openai_client, count_tiktoken_length\n",
    "from pipelines.Basic import SimpleQAPipeline\n",
    "\n",
    "print(\"Import successfully!\")"
   ]
  },
  {
   "cell_type": "code",
   "execution_count": 2,
   "id": "7d5a3628-5811-42b1-91e0-31d3383cd38c",
   "metadata": {},
   "outputs": [
    {
     "name": "stdout",
     "output_type": "stream",
     "text": [
      "API key set successfully.\n",
      "This is a test.\n"
     ]
    }
   ],
   "source": [
    "# Intialize\n",
    "set_openai_key() # Set openai key\n",
    "test_openai_api() # Test openai api\n",
    "client = create_openai_client() # Create openai client"
   ]
  },
  {
   "cell_type": "code",
   "execution_count": 3,
   "id": "db6c59f3-777f-43d5-ae11-4430632390b6",
   "metadata": {},
   "outputs": [
    {
     "name": "stdout",
     "output_type": "stream",
     "text": [
      "Extracted pages 2 to 3 into 'tmp.pdf'\n"
     ]
    }
   ],
   "source": [
    "# Create chunk of PDF\n",
    "!python ../utils/extract_pdf_by_pages.py ../assets/Fortran77_tutorial.pdf tmp.pdf 2 3"
   ]
  },
  {
   "cell_type": "code",
   "execution_count": 4,
   "id": "81bee819-a8c7-4053-88ee-136d551e2499",
   "metadata": {},
   "outputs": [
    {
     "name": "stdout",
     "output_type": "stream",
     "text": [
      "Fetching 9 files: 100%|████████████████████████| 9/9 [00:00<00:00, 21521.51it/s]\n",
      "Markdown content exported successfully to: tmp.txt\n"
     ]
    }
   ],
   "source": [
    "# Convert to markdown file\n",
    "!python ../utils/export_pdf_to_markdown.py tmp.pdf tmp.txt"
   ]
  },
  {
   "cell_type": "code",
   "execution_count": 3,
   "id": "cc4e367b-bf77-48d3-aaad-4b1947e633d4",
   "metadata": {},
   "outputs": [],
   "source": [
    "# # Read content\n",
    "with open(\"tmp.txt\",\"r\",encoding=\"utf-8\") as f:\n",
    "    content = f.read()"
   ]
  },
  {
   "cell_type": "code",
   "execution_count": 4,
   "id": "fcedf7d3-cee6-4df3-8640-f9849d6876b7",
   "metadata": {},
   "outputs": [],
   "source": [
    "pipeline = SimpleQAPipeline(client)"
   ]
  },
  {
   "cell_type": "code",
   "execution_count": 5,
   "id": "ba393e6e-b2a4-43e8-a9cd-a7c20ed38023",
   "metadata": {},
   "outputs": [
    {
     "name": "stdout",
     "output_type": "stream",
     "text": [
      "[{'role': 'system', 'content': 'You are a programming expert.'}, {'role': 'user', 'content': 'Please answer the following question.'}, {'role': 'user', 'content': 'What are the column position rules in Fortran 77, and how do they impact the formatting of source code? Please provide an example to illustrate these rules, such as how a comment line is structured and how continuation of a statement across multiple lines is handled.'}, {'role': 'user', 'content': \"In Fortran 77, the source code must adhere to specific column position rules due to its fixed-format style. These rules dictate how code is structured within a line, impacting readability and functionality. Here are the key column position rules:\\n\\n1. **Columns 1-5**: These columns are reserved for statement labels, which are optional. Statement labels are numeric and are used for identifying statements, especially for branching and looping.\\n\\n2. **Column 6**: This column is used for continuation lines. If a statement is too long to fit on one line, a character (often a non-blank character like a plus sign `+` or any other character) placed in column 6 of the next line indicates that the line is a continuation of the previous line.\\n\\n3. **Columns 7-72**: These columns are used for the actual Fortran statements. The code must start from column 7 and can extend up to column 72. Any characters beyond column 72 are ignored by the compiler.\\n\\n4. **Column 73-80**: These columns are typically ignored by the compiler and can be used for sequence numbers or other identifiers, although this practice is largely obsolete.\\n\\n5. **Comment Lines**: A comment line is indicated by a `C`, `c`, or `*` in column 1. The rest of the line is ignored by the compiler and can be used for comments.\\n\\n### Example\\n\\nBelow is an example illustrating these rules:\\n\\n```fortran\\n      PROGRAM Example\\nC This is a comment line\\n      INTEGER :: i, sum\\n      sum = 0\\n      DO 10 i = 1, 10\\n          sum = sum + i\\n10    CONTINUE\\n      PRINT *, 'Sum of first 10 integers is ', sum\\n      END\\n```\\n\\n### Continuation Example\\n\\nHere's an example of a statement that continues onto the next line:\\n\\n```fortran\\n      PROGRAM ContinuationExample\\n      INTEGER :: a, b, c\\n      a = 1\\n      b = 2\\n      c = 3\\n      PRINT *, 'The sum of a, b, and c is ', a + b + c\\n      PRINT *, 'This is a very long statement that needs to be continued' + \\n     + ' onto the next line.'\\n      END\\n```\\n\\nIn this example, the `+` in column 6 of the second line indicates that the statement is continued from the previous line. The continuation character can be any non-\"}]\n",
      "CPU times: user 43.3 ms, sys: 4.06 ms, total: 47.3 ms\n",
      "Wall time: 6.56 s\n"
     ]
    }
   ],
   "source": [
    "%%time\n",
    "data = pipeline(content)\n",
    "print(data)"
   ]
  },
  {
   "cell_type": "code",
   "execution_count": 6,
   "id": "80a95a41-161a-4bb5-8a90-c671315f1dda",
   "metadata": {},
   "outputs": [
    {
     "name": "stdout",
     "output_type": "stream",
     "text": [
      "0\n",
      "1\n",
      "2\n"
     ]
    }
   ],
   "source": [
    "# Generate dataset\n",
    "dataset = []\n",
    "for i in range(3):\n",
    "    dataset.append(pipeline(content))\n",
    "    print(i)"
   ]
  },
  {
   "cell_type": "code",
   "execution_count": 7,
   "id": "9b27be3b-9d69-4416-bad3-62360c90ea32",
   "metadata": {},
   "outputs": [
    {
     "data": {
      "text/plain": [
       "[[{'role': 'system', 'content': 'You are a programming expert.'},\n",
       "  {'role': 'user', 'content': 'Please answer the following question.'},\n",
       "  {'role': 'user',\n",
       "   'content': 'What are the column position rules in Fortran 77, and how do they affect the formatting of a Fortran program? Additionally, explain how comments are used in Fortran 77 and provide an example of a Fortran program that calculates the area of a circle, ensuring it adheres to these formatting rules.'},\n",
       "  {'role': 'user',\n",
       "   'content': \"Fortran 77 has specific column position rules that dictate how code should be formatted. These rules are important for the correct interpretation of the code by the compiler. Here's a breakdown of the column position rules in Fortran 77:\\n\\n1. **Columns 1-5**: These columns are reserved for statement labels, which are optional. Statement labels are used for identifying statements, such as those used in `GOTO` statements or `FORMAT` statements.\\n\\n2. **Column 6**: This column is used for continuation lines. If a line of code is too long and needs to be continued on the next line, a character (often a non-zero digit or any non-blank character) is placed in column 6 of the continuation line.\\n\\n3. **Columns 7-72**: These columns are used for the actual Fortran code. The program statements should start from column 7 and can extend up to column 72.\\n\\n4. **Columns 73-80**: These columns are typically ignored by the compiler and were historically used for sequence numbers or other identification purposes in punched card systems. They are generally not used in modern Fortran programming.\\n\\n### Comments in Fortran 77\\n\\nComments in Fortran 77 are indicated by a `C` or `*` in column 1. Anything on the line after the `C` or `*` is considered a comment and is ignored by the compiler. Comments are used to explain the code and make it more understandable for humans.\\n\\n### Example Program\\n\\nBelow is an example of a Fortran 77 program that calculates the area of a circle. It adheres to the column position rules and includes comments for clarity.\\n\\n```fortran\\n      PROGRAM CircleArea\\nC This program calculates the area of a circle\\nC given its radius.\\n      REAL radius, area\\n      REAL PI\\n      PI = 3.14159\\nC Prompt user for radius\\n      PRINT *, 'Enter the radius of the circle:'\\n      READ *, radius\\nC Calculate the area\\n      area = PI * radius * radius\\nC Output the result\\n      PRINT *, 'The area of the circle is:', area\\n      END\\n```\\n\\n### Explanation\\n\\n- The `PROGRAM`, `REAL`, `PRINT`, `READ`, and `END` statements start from column 7.\\n- Comments begin with a `C` in column 1.\\n- The program prompts the user to enter the radius of a circle, reads the input, calculates the area using the formula \\\\( \\\\\"}],\n",
       " [{'role': 'system', 'content': 'You are a programming expert.'},\n",
       "  {'role': 'user', 'content': 'Please answer the following question.'},\n",
       "  {'role': 'user',\n",
       "   'content': \"What are the column position rules in Fortran 77, and how do they affect the formatting of a Fortran program? Additionally, explain how comments and continuation lines are handled in Fortran 77, providing an example of a Fortran 77 code snippet that calculates the area of a circle:\\n\\n```\\nprogram circle\\nreal r, area\\nc This program reads a real number r and prints\\nc the area of a circle with radius r.\\nwrite (*,*) 'Give radius r:'\\nread (*,*) r\\narea = 3.14159*r*r\\nwrite (*,*) 'Area = ', area\\nstop\\nend\\n```\"},\n",
       "  {'role': 'user',\n",
       "   'content': \"Fortran 77 has specific rules regarding column positions, which significantly affect how the code is formatted and interpreted by the compiler. Here's a breakdown of these rules and how they apply to Fortran 77 programs:\\n\\n### Column Position Rules\\n\\n1. **Columns 1-5**: These columns are reserved for statement labels, which are optional and used for purposes such as identifying the target of a `GOTO` statement.\\n\\n2. **Column 6**: This column is used to indicate a continuation line. If a line is too long and needs to be continued on the next line, any character (usually a space or a specific character like `&`) placed in column 6 of the subsequent line signals that it is a continuation of the previous line.\\n\\n3. **Columns 7-72**: These columns are used for the actual code statements. The code must start from column 7, and any characters beyond column 72 are ignored by the compiler.\\n\\n4. **Columns 73-80**: These columns are typically ignored by the compiler and were historically used for sequence numbers or other metadata, mainly for punched card systems.\\n\\n### Comments\\n\\n- In Fortran 77, comments are indicated by placing a `C`, `c`, or `*` in column 1. Any text following this character on the same line is considered a comment and is ignored by the compiler.\\n\\n### Continuation Lines\\n\\n- If a line of code is too long to fit within columns 7-72, it can be continued on the next line by placing any character in column 6 of the continuation line. This allows the logical line to extend across multiple physical lines.\\n\\n### Example: Calculating the Area of a Circle\\n\\nHere's a Fortran 77 code snippet that calculates the area of a circle, adhering to these formatting rules:\\n\\n```fortran\\n      program circle\\n      real r, area\\nC This program reads a real number r and prints\\nC the area of a circle with radius r.\\n      write (*,*) 'Give radius r:'\\n      read (*,*) r\\n      area = 3.14159*r*r\\n      write (*,*) 'Area = ', area\\n      stop\\n      end\\n```\\n\\n### Explanation\\n\\n- The `program` and `real` statements start at column 7.\\n- Comments start with `C` in column 1.\\n- The `write`, `read`, and `stop` statements also begin at column 7.\\n- The expression `area = 3\"}],\n",
       " [{'role': 'system', 'content': 'You are a programming expert.'},\n",
       "  {'role': 'user', 'content': 'Please answer the following question.'},\n",
       "  {'role': 'user',\n",
       "   'content': 'What are the column position rules for formatting source code in Fortran 77, and how do they apply to writing comments and continuing statements across multiple lines? Include an example to illustrate these rules, such as the following Fortran 77 code snippet where a statement is split across two lines:\\n\\n```\\nc23456789 (This demonstrates column position!) \\nc The next statement goes over two physical lines \\narea = 3.14159265358979\\n```'},\n",
       "  {'role': 'user',\n",
       "   'content': \"In Fortran 77, the source code is formatted using a fixed-column format, which has specific rules for the positions of different elements within a line. Here are the key column position rules:\\n\\n1. **Columns 1-5:** These columns are reserved for statement labels. If a line does not have a label, these columns are left blank.\\n\\n2. **Column 6:** This column is used to indicate a continuation line. If a statement is too long to fit on one line, a character (often a space or any non-zero character) is placed in column 6 of the subsequent line to indicate that it is a continuation of the previous line.\\n\\n3. **Columns 7-72:** These columns are used for the actual Fortran statements. All code must be within these columns.\\n\\n4. **Columns 73-80:** These columns are ignored by the compiler and can be used for sequence numbers or other comments, but they are not part of the actual code.\\n\\n5. **Comments:** A comment line starts with the letter 'C' (or 'c' or '*' in some implementations) in column 1. The rest of the line is ignored by the compiler.\\n\\n### Example\\n\\nLet's take a look at how these rules apply to the given example:\\n\\n```fortran\\n      c23456789 (This demonstrates column position!) \\n      c The next statement goes over two physical lines \\n      area = 3.14159265358979\\n```\\n\\nTo properly format the code snippet with a statement split across two lines, you would do the following:\\n\\n```fortran\\n      c23456789 (This demonstrates column position!) \\n      c The next statement goes over two physical lines \\n      area = 3.14159\\n     +265358979\\n```\\n\\n### Explanation:\\n\\n- **Comment Lines:** The first two lines are comment lines. They start with a 'c' in column 1, so the entire line is treated as a comment.\\n\\n- **Statement Splitting:** The `area` assignment statement is too long to fit on one line, so it is split across two lines. The first part of the statement (`area = 3.14159`) is written on the first line. The continuation line starts with a character (in this case, a `+`) in column 6, indicating that it continues the previous line. The continuation of the statement (`265358979`) starts in column 7.\\n\\nBy following these rules, you ensure that your Fortran 77 code is\"}]]"
      ]
     },
     "execution_count": 7,
     "metadata": {},
     "output_type": "execute_result"
    }
   ],
   "source": [
    "dataset"
   ]
  },
  {
   "cell_type": "code",
   "execution_count": null,
   "id": "b0489b86-650a-499d-8bed-f504153107c2",
   "metadata": {},
   "outputs": [],
   "source": []
  }
 ],
 "metadata": {
  "kernelspec": {
   "display_name": "Python 3 (ipykernel)",
   "language": "python",
   "name": "python3"
  },
  "language_info": {
   "codemirror_mode": {
    "name": "ipython",
    "version": 3
   },
   "file_extension": ".py",
   "mimetype": "text/x-python",
   "name": "python",
   "nbconvert_exporter": "python",
   "pygments_lexer": "ipython3",
   "version": "3.10.15"
  }
 },
 "nbformat": 4,
 "nbformat_minor": 5
}
