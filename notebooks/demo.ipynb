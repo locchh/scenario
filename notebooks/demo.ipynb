{
 "cells": [
  {
   "cell_type": "code",
   "execution_count": 1,
   "id": "90d87722-4101-47ce-a7e8-510c48d126b8",
   "metadata": {},
   "outputs": [
    {
     "name": "stdout",
     "output_type": "stream",
     "text": [
      "Import successfully!\n"
     ]
    }
   ],
   "source": [
    "# Import libraries\n",
    "import os\n",
    "import sys\n",
    "\n",
    "current_dir = os.getcwd()\n",
    "sys.path.append(os.path.join(current_dir,\"..\"))\n",
    "\n",
    "from utils.helper import set_openai_key, test_openai_api, create_openai_client, count_tiktoken_length\n",
    "from pipelines.Basic import SimpleQAPipeline\n",
    "\n",
    "print(\"Import successfully!\")"
   ]
  },
  {
   "cell_type": "code",
   "execution_count": 2,
   "id": "7d5a3628-5811-42b1-91e0-31d3383cd38c",
   "metadata": {},
   "outputs": [
    {
     "name": "stdout",
     "output_type": "stream",
     "text": [
      "API key set successfully.\n",
      "This is a test. How can I assist you further?\n"
     ]
    }
   ],
   "source": [
    "# Intialize\n",
    "set_openai_key() # Set openai key\n",
    "test_openai_api() # Test openai api\n",
    "client = create_openai_client() # Create openai client"
   ]
  },
  {
   "cell_type": "code",
   "execution_count": 3,
   "id": "db6c59f3-777f-43d5-ae11-4430632390b6",
   "metadata": {},
   "outputs": [
    {
     "name": "stdout",
     "output_type": "stream",
     "text": [
      "Extracted pages 2 to 3 into 'tmp.pdf'\n"
     ]
    }
   ],
   "source": [
    "# Create chunk of PDF\n",
    "!python ../utils/extract_pdf_by_pages.py ../assets/Fortran77_tutorial.pdf tmp.pdf 2 3"
   ]
  },
  {
   "cell_type": "code",
   "execution_count": 4,
   "id": "81bee819-a8c7-4053-88ee-136d551e2499",
   "metadata": {},
   "outputs": [
    {
     "name": "stdout",
     "output_type": "stream",
     "text": [
      "Fetching 9 files: 100%|█████████████████████████| 9/9 [00:00<00:00, 4473.13it/s]\n",
      "Markdown content exported successfully to: tmp.txt\n"
     ]
    }
   ],
   "source": [
    "# Convert to markdown file\n",
    "!python ../utils/export_pdf_to_markdown.py tmp.pdf tmp.txt"
   ]
  },
  {
   "cell_type": "code",
   "execution_count": 5,
   "id": "cc4e367b-bf77-48d3-aaad-4b1947e633d4",
   "metadata": {},
   "outputs": [],
   "source": [
    "# # Read content\n",
    "with open(\"tmp.txt\",\"r\",encoding=\"utf-8\") as f:\n",
    "    content = f.read()"
   ]
  },
  {
   "cell_type": "code",
   "execution_count": 6,
   "id": "fcedf7d3-cee6-4df3-8640-f9849d6876b7",
   "metadata": {},
   "outputs": [],
   "source": [
    "pipeline = SimpleQAPipeline(client)"
   ]
  },
  {
   "cell_type": "code",
   "execution_count": 7,
   "id": "ba393e6e-b2a4-43e8-a9cd-a7c20ed38023",
   "metadata": {},
   "outputs": [
    {
     "name": "stdout",
     "output_type": "stream",
     "text": [
      "[{'role': 'system', 'content': 'You are a programming expert.'}, {'role': 'user', 'content': 'Please answer the following question.'}, {'role': 'user', 'content': \"What are the key features and rules of Fortran 77 as a programming language, and how does it compare to later versions like Fortran 90 in terms of syntax, portability, and usage in scientific applications? Additionally, using the example provided, explain the structure and formatting rules of a simple Fortran 77 program, including the use of comments, continuation lines, and the importance of the column position rules:\\n\\n```\\nprogram circle\\nreal r, area\\nc This program reads a real number r and prints\\nc the area of a circle with radius r.\\nwrite (*,*) 'Give radius r:'\\nread (*,*) r\\narea = 3.14159*r*r\\nwrite (*,*) 'Area = ', area\\nstop\\nend\\n```\"}, {'role': 'assistant', 'content': \"Fortran 77 is one of the earlier versions of the Fortran programming language, which has been widely used in scientific and engineering applications. Here are some key features and rules of Fortran 77:\\n\\n### Key Features of Fortran 77\\n\\n1. **Fixed Format Source Code**: Fortran 77 uses a fixed column format, where specific columns have specific purposes:\\n   - Columns 1-5: Line numbers or labels (optional).\\n   - Column 6: Continuation indicator (if any).\\n   - Columns 7-72: Actual code.\\n   - Columns 73-80: Typically ignored, used for sequence numbers or other metadata.\\n\\n2. **Data Types**: Fortran 77 supports basic data types such as INTEGER, REAL, DOUBLE PRECISION, COMPLEX, LOGICAL, and CHARACTER.\\n\\n3. **Control Structures**: Includes IF statements, DO loops, and GOTO statements for control flow.\\n\\n4. **Subprograms**: Supports functions and subroutines for modular programming.\\n\\n5. **Comments**: Lines starting with a 'C' or '*' in column 1 are treated as comments.\\n\\n6. **Portability**: Fortran 77 was designed to be portable across different platforms, which contributed to its widespread adoption in scientific computing.\\n\\n### Comparison with Fortran 90\\n\\n- **Syntax**: Fortran 90 introduced free-form source code, allowing more flexibility in code formatting. It also added new features like array operations, recursion, modules, and derived data types, enhancing code readability and maintainability.\\n\\n- **Portability**: Fortran 90 maintained the portability focus but with enhanced capabilities for modern computing needs.\\n\\n- **Usage in Scientific Applications**: Both versions are used in scientific applications, but Fortran 90's enhancements make it more suitable for complex and large-scale scientific computations.\\n\\n### Structure and Formatting Rules of a Simple Fortran 77 Program\\n\\nHere is an explanation of the provided Fortran 77 program:\\n\\n```fortran\\nprogram circle\\nreal r, area\\nc This program reads a real number r and prints\\nc the area of a circle with radius r.\\nwrite (*,*) 'Give radius r:'\\nread (*,*) r\\narea = 3.14159*r*r\\nwrite (*,*) 'Area = ', area\\nstop\\nend\\n```\\n\\n1. **Program Declaration**: The program starts with the `program` keyword followed by the program name (`circle`).\\n\\n2. **Variable Declaration**: The variables `\"}]\n",
      "CPU times: user 40.2 ms, sys: 11.1 ms, total: 51.3 ms\n",
      "Wall time: 7.69 s\n"
     ]
    }
   ],
   "source": [
    "%%time\n",
    "data = pipeline(content)\n",
    "print(data)"
   ]
  },
  {
   "cell_type": "code",
   "execution_count": 8,
   "id": "80a95a41-161a-4bb5-8a90-c671315f1dda",
   "metadata": {},
   "outputs": [
    {
     "name": "stdout",
     "output_type": "stream",
     "text": [
      "0\n",
      "1\n",
      "2\n"
     ]
    }
   ],
   "source": [
    "# Generate dataset\n",
    "dataset = []\n",
    "for i in range(3):\n",
    "    dataset.append(pipeline(content))\n",
    "    print(i)"
   ]
  },
  {
   "cell_type": "code",
   "execution_count": 9,
   "id": "9b27be3b-9d69-4416-bad3-62360c90ea32",
   "metadata": {},
   "outputs": [
    {
     "data": {
      "text/plain": [
       "[[{'role': 'system', 'content': 'You are a programming expert.'},\n",
       "  {'role': 'user', 'content': 'Please answer the following question.'},\n",
       "  {'role': 'user',\n",
       "   'content': \"What are the key characteristics and formatting rules of Fortran 77, and how does it differ from later versions like Fortran 90 in terms of code structure and commenting? Additionally, explain the importance of Fortran in scientific applications and its advantages in terms of portability. Use the following example to illustrate your explanation:\\n\\n```\\nprogram circle\\nreal r, area\\nc This program reads a real number r and prints\\nc the area of a circle with radius r.\\nwrite (*,*) 'Give radius r:'\\nread (*,*) r\\narea = 3.14159*r*r\\nwrite (*,*) 'Area = ', area\\nstop\\nend\\n```\"},\n",
       "  {'role': 'assistant',\n",
       "   'content': 'Fortran 77 is a version of the Fortran programming language that was widely used in scientific and engineering applications. It has several key characteristics and formatting rules that distinguish it from later versions like Fortran 90. Here’s a breakdown of these characteristics and how they compare to Fortran 90, along with an explanation of Fortran\\'s importance in scientific applications and its portability advantages.\\n\\n### Key Characteristics and Formatting Rules of Fortran 77\\n\\n1. **Fixed-Format Source Code:**\\n   - Fortran 77 uses a fixed-format source code layout, where each line of code is limited to 72 characters.\\n   - Columns 1-5 are reserved for statement labels.\\n   - Column 6 is used for continuation lines (a character in this column indicates that the line is a continuation of the previous line).\\n   - Columns 7-72 are used for the actual code.\\n\\n2. **Commenting:**\\n   - Comments are denoted by a \"C\" or \"*\" in the first column. In the provided example, comments are indicated by \"C\":\\n     ```fortran\\n     c This program reads a real number r and prints\\n     c the area of a circle with radius r.\\n     ```\\n\\n3. **No Support for Modern Programming Constructs:**\\n   - Fortran 77 lacks support for many modern programming constructs like modules, recursive procedures, and dynamic memory allocation, which are available in later versions like Fortran 90.\\n\\n4. **Implicit Typing:**\\n   - Variables are implicitly typed based on their names unless explicitly declared. For example, variables starting with letters I-N are integers by default, while others are real numbers.\\n\\n### Differences from Fortran 90\\n\\n1. **Free-Format Source Code:**\\n   - Fortran 90 introduced free-format source code, allowing more flexibility in code layout and removing the rigid column restrictions.\\n\\n2. **Enhanced Commenting:**\\n   - In Fortran 90, comments are denoted by an exclamation mark `!`, which can appear anywhere in a line, offering more flexibility.\\n\\n3. **Advanced Features:**\\n   - Fortran 90 introduced many modern programming features, such as modules, array operations, recursion, and dynamic memory allocation, which enhance code organization and functionality.\\n\\n4. **Improved Code Structure:**\\n   - Fortran 90 supports structured programming with constructs like `DO` loops and `IF` statements with `END DO` and `END IF`, improving code readability and maintainability.\\n\\n### Importance of Fortran'}],\n",
       " [{'role': 'system', 'content': 'You are a programming expert.'},\n",
       "  {'role': 'user', 'content': 'Please answer the following question.'},\n",
       "  {'role': 'user',\n",
       "   'content': \"What are the key features and historical significance of Fortran as a programming language, including its versions, portability, and syntax rules, particularly focusing on Fortran 77 and its column position rules? Provide an example of a Fortran 77 program that calculates the area of a circle, and explain the use of comments and continuation lines in the code. Here is the example code:\\n\\n```\\nprogram circle\\nreal r, area\\nc This program reads a real number r and prints\\nc the area of a circle with radius r.\\nwrite (*,*) 'Give radius r:'\\nread (*,*) r\\narea = 3.14159*r*r\\nwrite (*,*) 'Area = ', area\\nstop\\nend\\n```\"},\n",
       "  {'role': 'assistant',\n",
       "   'content': 'Fortran, short for \"Formula Translation,\" is one of the oldest high-level programming languages, developed in the 1950s by IBM. Its key features include a strong focus on numerical computation and scientific computing, making it a preferred choice in engineering and scientific applications. Over the years, Fortran has evolved through various versions, each adding new features and improvements.\\n\\n### Key Features and Historical Significance of Fortran\\n\\n1. **Early Adoption and Influence**: Fortran was the first high-level programming language, which significantly influenced later languages. It introduced many programming concepts that became standard, such as loops and conditional statements.\\n\\n2. **Numerical and Scientific Computing**: Fortran is particularly well-suited for numerical and scientific computation due to its efficient handling of mathematical operations and array structures.\\n\\n3. **Portability**: Fortran programs are known for their portability across different platforms, especially since the introduction of Fortran 77, which standardized many features.\\n\\n4. **Versions**: \\n   - **Fortran I (1957)**: The first version, which introduced basic control structures and arithmetic operations.\\n   - **Fortran II (1958)**: Added support for subroutines and functions.\\n   - **Fortran IV (1961)**: Introduced more control structures and data types.\\n   - **Fortran 66**: The first standardized version by ANSI.\\n   - **Fortran 77**: Added structured programming constructs like `IF` statements and character data types.\\n   - **Fortran 90/95**: Introduced modern features like array operations, modules, and recursion.\\n   - **Fortran 2003/2008**: Added object-oriented programming support and further enhancements.\\n   - **Fortran 2018**: Continued improvements in parallel processing capabilities.\\n\\n### Fortran 77 and Its Column Position Rules\\n\\nFortran 77 introduced structured programming features and a standardized format for writing code. One of its unique aspects was the use of fixed column positions in the source code:\\n\\n- **Columns 1-5**: Reserved for statement labels, which are optional and used for reference in control statements.\\n- **Column 6**: Used for continuation lines. If a statement extends beyond one line, a character (often `&`) in column 6 of the next line indicates continuation.\\n- **Columns 7-72**: Used for writing actual code statements.\\n- **Columns 73-80**: Typically ignored, historically used for sequence numbers on punched cards.\\n\\n### Example'}],\n",
       " [{'role': 'system', 'content': 'You are a programming expert.'},\n",
       "  {'role': 'user', 'content': 'Please answer the following question.'},\n",
       "  {'role': 'user',\n",
       "   'content': \"What are the key features and historical significance of Fortran as a programming language, and how does its structure and syntax, particularly in Fortran 77, differ from more modern programming languages? Additionally, based on the example provided, explain how a simple Fortran program is structured, including the role of comments, and how the column position rules affect the formatting of the code. Here is the example code for reference:\\n\\n```\\nprogram circle\\nreal r, area\\nc This program reads a real number r and prints\\nc the area of a circle with radius r.\\nwrite (*,*) 'Give radius r:'\\nread (*,*) r\\narea = 3.14159*r*r\\nwrite (*,*) 'Area = ', area\\nstop\\nend\\n```\"},\n",
       "  {'role': 'assistant',\n",
       "   'content': 'Fortran, short for \"Formula Translation,\" is one of the oldest high-level programming languages, first developed in the 1950s by IBM. It was specifically designed for scientific and engineering calculations and has played a crucial role in the development of numerical and scientific computing. Fortran\\'s historical significance lies in its pioneering role in making programming more accessible and efficient for scientific computations, and it laid the groundwork for many concepts used in modern programming languages.\\n\\n### Key Features of Fortran\\n\\n1. **Numerical and Scientific Computing**: Fortran excels in numerical computation and scientific applications, with efficient handling of arrays and mathematical operations.\\n2. **Portability**: Early on, Fortran programs could be compiled and run on different machines, which was a significant advantage at the time.\\n3. **Efficiency**: Fortran compilers are highly optimized for performance, making it a preferred choice for high-performance computing tasks.\\n4. **Legacy Code**: A vast amount of legacy scientific code is written in Fortran, especially in fields like physics, climate modeling, and engineering.\\n\\n### Structure and Syntax in Fortran 77\\n\\nFortran 77 introduced structured programming features, although it retained some of the older, more rigid syntactic rules from earlier versions. Here are some key aspects:\\n\\n1. **Fixed Format**: Fortran 77 uses a fixed-column format:\\n   - Columns 1-5 are reserved for statement labels.\\n   - Column 6 is used for continuation lines.\\n   - Columns 7-72 are for code statements.\\n   - Columns beyond 72 are ignored by the compiler.\\n   \\n2. **Comments**: Comments begin with a \\'C\\' or \\'*\\' in the first column. They are used to describe the code and are ignored by the compiler.\\n\\n3. **Case Insensitivity**: Fortran is not case-sensitive, meaning `area`, `AREA`, and `Area` are considered the same identifier.\\n\\n4. **Statements and Syntax**: Fortran 77 uses a simple syntax with a focus on mathematical expressions. It lacks many modern constructs like modules or object-oriented features.\\n\\n### Differences from Modern Languages\\n\\n- **Free-Form Syntax**: Modern languages like Python, C++, and Java use free-form syntax, allowing more flexibility in code formatting.\\n- **Advanced Data Structures**: Modern languages support complex data structures like objects and classes, which are not present in Fortran 77.\\n- **Error Handling**: Modern languages provide robust error handling mechanisms, whereas Fortran 77 relies on simpler constructs.\\n-'}]]"
      ]
     },
     "execution_count": 9,
     "metadata": {},
     "output_type": "execute_result"
    }
   ],
   "source": [
    "dataset"
   ]
  },
  {
   "cell_type": "code",
   "execution_count": null,
   "id": "b0489b86-650a-499d-8bed-f504153107c2",
   "metadata": {},
   "outputs": [],
   "source": []
  }
 ],
 "metadata": {
  "kernelspec": {
   "display_name": "Python 3 (ipykernel)",
   "language": "python",
   "name": "python3"
  },
  "language_info": {
   "codemirror_mode": {
    "name": "ipython",
    "version": 3
   },
   "file_extension": ".py",
   "mimetype": "text/x-python",
   "name": "python",
   "nbconvert_exporter": "python",
   "pygments_lexer": "ipython3",
   "version": "3.10.15"
  }
 },
 "nbformat": 4,
 "nbformat_minor": 5
}
