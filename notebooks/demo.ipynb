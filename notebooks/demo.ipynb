{
 "cells": [
  {
   "cell_type": "code",
   "execution_count": 1,
   "id": "90d87722-4101-47ce-a7e8-510c48d126b8",
   "metadata": {},
   "outputs": [
    {
     "name": "stdout",
     "output_type": "stream",
     "text": [
      "Import successfully!\n"
     ]
    }
   ],
   "source": [
    "# Import libraries\n",
    "import os\n",
    "import sys\n",
    "\n",
    "current_dir = os.getcwd()\n",
    "sys.path.append(os.path.join(current_dir,\"..\"))\n",
    "\n",
    "from utils.helper import set_openai_key, test_openai_api, create_openai_client, count_tiktoken_length\n",
    "from pipelines.Basic import SimpleQAPipeline\n",
    "\n",
    "print(\"Import successfully!\")"
   ]
  },
  {
   "cell_type": "code",
   "execution_count": 2,
   "id": "7d5a3628-5811-42b1-91e0-31d3383cd38c",
   "metadata": {},
   "outputs": [
    {
     "name": "stdout",
     "output_type": "stream",
     "text": [
      "API key set successfully.\n",
      "This is a test. How can I assist you further?\n"
     ]
    }
   ],
   "source": [
    "# Intialize\n",
    "set_openai_key() # Set openai key\n",
    "test_openai_api() # Test openai api\n",
    "client = create_openai_client() # Create openai client"
   ]
  },
  {
   "cell_type": "code",
   "execution_count": 3,
   "id": "db6c59f3-777f-43d5-ae11-4430632390b6",
   "metadata": {},
   "outputs": [
    {
     "name": "stdout",
     "output_type": "stream",
     "text": [
      "Extracted pages 2 to 3 into 'tmp.pdf'\n"
     ]
    }
   ],
   "source": [
    "# Create chunk of PDF\n",
    "!python ../utils/extract_pdf_by_pages.py ../assets/Fortran77_tutorial.pdf tmp.pdf 2 3"
   ]
  },
  {
   "cell_type": "code",
   "execution_count": 4,
   "id": "81bee819-a8c7-4053-88ee-136d551e2499",
   "metadata": {},
   "outputs": [
    {
     "name": "stdout",
     "output_type": "stream",
     "text": [
      "Fetching 9 files: 100%|█████████████████████████| 9/9 [00:00<00:00, 2993.79it/s]\n",
      "Markdown content exported successfully to: tmp.txt\n"
     ]
    }
   ],
   "source": [
    "# Convert to markdown file\n",
    "!python ../utils/export_pdf_to_markdown.py tmp.pdf tmp.txt"
   ]
  },
  {
   "cell_type": "code",
   "execution_count": 5,
   "id": "cc4e367b-bf77-48d3-aaad-4b1947e633d4",
   "metadata": {},
   "outputs": [],
   "source": [
    "# # Read content\n",
    "with open(\"tmp.txt\",\"r\",encoding=\"utf-8\") as f:\n",
    "    content = f.read()"
   ]
  },
  {
   "cell_type": "code",
   "execution_count": 6,
   "id": "fcedf7d3-cee6-4df3-8640-f9849d6876b7",
   "metadata": {},
   "outputs": [],
   "source": [
    "pipeline = SimpleQAPipeline(client)"
   ]
  },
  {
   "cell_type": "code",
   "execution_count": 7,
   "id": "ba393e6e-b2a4-43e8-a9cd-a7c20ed38023",
   "metadata": {},
   "outputs": [
    {
     "name": "stdout",
     "output_type": "stream",
     "text": [
      "[{'role': 'system', 'content': 'You are a programming expert.'}, {'role': 'user', 'content': 'Please answer the following question.'}, {'role': 'user', 'content': \"What are the column position rules in Fortran 77, and how are statements and comments structured within these rules? Include an explanation of how continuation lines work and provide an example that demonstrates these rules, based on the Fortran code snippet below:\\n\\n```\\nprogram circle\\n  real r, area\\n  c This program reads a real number r and prints\\n  c the area of a circle with radius r.\\n  write (*,*) 'Give radius r:'\\n  read (*,*) r\\n  area = 3.14159*r*r\\n  write (*,*) 'Area = ', area\\n  stop\\nend\\n```\\n\\nAdditionally, explain the usage of comments and discuss any differences in notation or flexibility between Fortran 77 and more recent versions, like Fortran 90.\"}, {'role': 'user', 'content': \"Fortran 77 is a language with specific rules for how code must be structured in terms of column positions:\\n\\n1. **Column Positions:**\\n   - Columns 1 to 5: This is reserved for statement labels, which are typically numerical labels used for things like `GOTO` statements. \\n   - Column 6: If a line needs to be continued (because it's too long to fit on one line), a non-space character (often `&` or any other character) is placed in column 6 on the continuation line.\\n   - Columns 7 to 72: This is the area where actual Fortran statements are written.\\n   - Columns 73 to 80: These are generally ignored and can be used for sequence numbers or version control identifiers.\\n\\n2. **Comments:**\\n   - Comments in Fortran 77 are indicated with a `C` (or sometimes `c` or `*`) in the first column. Everything on a line following this character is ignored by the compiler.\\n\\n3. **Continuation Lines:**\\n   - If you have a line of code that doesn't fit within the columns 7 to 72, you can continue the line on the next line. The subsequent line must have a continuation character in column 6, and the continued text starts again from column 7 onwards.\\n   \\n4. **Example:**\\n\\nIn the provided code snippet, here's how these rules are applied:\\n\\n```fortran\\nprogram circle\\n  real r, area\\n  c This program reads a real number r and prints\\n  c the area of a circle with radius r.\\n  write (*,*) 'Give radius r:'\\n  read (*,*) r\\n  area = 3.14159*r*r\\n  write (*,*) 'Area = ', area\\n  stop\\nend\\n```\\n\\n- The comment lines start with `c` in the first column indicating these are full-line comments and are ignored by the compiler.\\n- All executable statements start between column 7 and 72.\\n- This example doesn't use continuation lines because the lines are short enough to fit within the allowed width. To split a long line, you might do something like this:\\n\\n```fortran\\n      area = 3.14159 * r * r + &\\n     *r * 2\\n```\\n\\nIn this continuation example, the statement is started on the first line and continued on the next line with a `*` in column 6.\\n\\n**Differences in Modern Fortran (Fortran 90+):**\\n\\n- Fortran 90+ relaxed many of these syntax rules. It introduced free-form source input where:\\n  - Lines can have statements start anywhere (typically columns 1 to 132 for free-form),\\n  - Comments are indicated by `!` placed anywhere on a line (not just the first column),\\n  - Continuation lines are marked with an ampersand `&` at the end of a line to be continued, and another `&` at the beginning of the continued line.\\n- The free-form makes Fortran more flexible and similar to other modern programming languages, moving away from the rigid column-based structure of fixed-form Fortran 77.\"}]\n",
      "CPU times: user 45.6 ms, sys: 7.51 ms, total: 53.2 ms\n",
      "Wall time: 10.4 s\n"
     ]
    }
   ],
   "source": [
    "%%time\n",
    "data = pipeline(content)\n",
    "print(data)"
   ]
  },
  {
   "cell_type": "code",
   "execution_count": 8,
   "id": "80a95a41-161a-4bb5-8a90-c671315f1dda",
   "metadata": {},
   "outputs": [
    {
     "name": "stdout",
     "output_type": "stream",
     "text": [
      "0\n",
      "1\n",
      "2\n"
     ]
    }
   ],
   "source": [
    "# Generate dataset\n",
    "dataset = []\n",
    "for i in range(3):\n",
    "    dataset.append(pipeline(content))\n",
    "    print(i)"
   ]
  },
  {
   "cell_type": "code",
   "execution_count": 9,
   "id": "9b27be3b-9d69-4416-bad3-62360c90ea32",
   "metadata": {},
   "outputs": [
    {
     "data": {
      "text/plain": [
       "[[{'role': 'system', 'content': 'You are a programming expert.'},\n",
       "  {'role': 'user', 'content': 'Please answer the following question.'},\n",
       "  {'role': 'user',\n",
       "   'content': 'What are the column position rules for formatting source code in Fortran 77, and how do they affect the appearance of statements and comments in a program? Include any specific characters used for comments and the rules for line continuation, as demonstrated in the example code:\\n\\n```\\nc23456789 (This demonstrates column position!) \\nc The next statement goes over two physical lines \\narea = 3.14159265358979\\n```'},\n",
       "  {'role': 'user',\n",
       "   'content': 'In Fortran 77, the formatting of source code is governed by specific column position rules, which are crucial for the correct interpretation and appearance of the code. Here\\'s an explanation of these rules:\\n\\n1. **Column 1**:  \\n   - If a line begins with a \"C\", \"c\", or an asterisk (*), it is considered a comment line. For example:\\n     ```fortran\\n     C This is a comment\\n     * This too\\n     ```\\n\\n2. **Columns 2-5**:  \\n   - These columns are used for statement labels. If a statement is intended to have a label for purposes such as branching, the label must appear between these columns. For instance:\\n     ```fortran\\n       100 PRINT *, \\'Hello, World!\\'\\n     ```\\n   - If no labels are needed, these columns are generally left blank.\\n\\n3. **Column 6**:  \\n   - This column is reserved for line continuation. If a statement is too long to fit on one line, an arbitrary non-blank character placed in column 6 of the continuation line indicates that it is a continuation of the previous line. For example:\\n     ```fortran\\n       area = 3.14159\\n      *265358979\\n     ```\\n   - In this case, the `*` in column 6 signals that the second line is a continuation of the first.\\n\\n4. **Columns 7-72**:  \\n   - The actual code for program statements must be placed within these columns. Any text after column 72 is disregarded by the compiler. This restriction can sometimes lead to compressed and less readable formatting if complex logic needs to be expressed on a single line.\\n\\n5. **Beyond Column 72**:  \\n   - Any characters beyond column 72 are ignored by the compiler, which means comments cannot be placed beyond this column unless you are exclusively using them within a comment line that starts before this column range.\\n\\nIn the example you provided:\\n```fortran\\nc23456789 (This demonstrates column position!) \\nc The next statement goes over two physical lines \\narea = 3.14159265358979\\n```\\n- The first two lines are comments, denoted by the \"c\" at the beginning.\\n- The \"area\" statement illustrates that all meaningful code starts in column 7 (ignoring the rule for column 6 because there is no continuation here), and it consists of fitting the \\'area\\' assignment within the 7-72 column range.\\n\\nThese rules are important for writing syntactically correct Fortran 77 programs and affect how comments and code are organized. They will also impact code readability and potentially its manageability, given that long lines may need to be split using continuation lines.'}],\n",
       " [{'role': 'system', 'content': 'You are a programming expert.'},\n",
       "  {'role': 'user', 'content': 'Please answer the following question.'},\n",
       "  {'role': 'user',\n",
       "   'content': \"What are the key characteristics and formatting rules of Fortran 77, including how to write comments, handle continuation lines, and the importance of column positions, and how do these rules apply to the following example program that calculates the area of a circle?\\n\\n```\\nprogram circle \\nreal r, area \\nc This program reads a real number r and prints \\nc the area of a circle with radius r. \\nwrite (*,*) 'Give radius r:' \\nread (*,*) r \\narea = 3.14159*r*r \\nwrite (*,*) 'Area = ', area\\n\\nstop \\nend\\n```\"},\n",
       "  {'role': 'user',\n",
       "   'content': \"Fortran 77 is a version of the Fortran programming language with specific formatting rules and conventions that are quite different from more modern programming languages. Understanding these rules is essential for reading and writing Fortran 77 code. Here are the key characteristics and formatting rules:\\n\\n1. **Column Positions:**\\n    - Columns 1-5 are used for statement labels (optional).\\n    - Column 6 is a continuation column. When a character (often a plus sign `+`, ampersand `&`, or any non-space/non-numeric character) is placed in column 6 of a line, it indicates that the line is a continuation of the previous line.\\n    - Columns 7-72 are used for writing statements.\\n    - Columns 73-80 are ignored by the compiler and were traditionally used for punch card sequence numbers.\\n\\n2. **Comments:**\\n    - A comment line is indicated by a 'C' or '*' in column 1. Anything written after this in the line is ignored by the compiler.\\n    - Inline comments are not standard in Fortran 77.\\n\\n3. **Continuation Lines:**\\n    - If a single statement must be split over multiple lines, use a continuation character in column 6 of each new line.\\n    - You can have up to 19 continuation lines.\\n\\n4. **Fixed Format:**\\n    - Fortran 77 uses a fixed-format layout, meaning that the positioning of characters in specific columns is part of the syntax.\\n    - Modern Fortran (Fortran 90 and beyond) relaxed these rules, but in Fortran 77 they must be strictly followed.\\n\\n5. **Variables and Assignment:**\\n    - Variable names can have up to 6 characters, must start with a letter, and can include letters and digits.\\n    - The type of a variable (e.g., REAL, INTEGER) should be declared at the beginning of the program.\\n\\nIn the given example program that calculates the area of a circle:\\n\\n```fortran\\nprogram circle \\nreal r, area \\nc This program reads a real number r and prints \\nc the area of a circle with radius r. \\nwrite (*,*) 'Give radius r:' \\nread (*,*) r \\narea = 3.14159*r*r \\nwrite (*,*) 'Area = ', area\\n\\nstop \\nend\\n```\\n\\n- **Comments:** The comments start with a `C` in column 1 for the lines providing a description of the program.\\n\\n- **Variable Declaration:** The `real r, area` line declares two real numbers (floats), `r` and `area`.\\n\\n- **Statements:** Statements such as `write`, `read`, and `area = 3.14159*r*r` are within columns 7-72, complying with the fixed-format rules.\\n\\n- **Continuation Lines:** While this program does not require continuation, if it needed to extend a statement across multiple lines, a character in column 6 would indicate continuation.\\n\\n- **Ending the Program:** The program is terminated with `stop` (optional) and `end` statements.\\n\\nIt's important to note that the program provided does indeed comply with the basic rules of Fortran 77, with all statements beginning after column 6. However, it doesn't utilize continuation lines or statement labels, as it contains relatively simple and straightforward statements.\"}],\n",
       " [{'role': 'system', 'content': 'You are a programming expert.'},\n",
       "  {'role': 'user', 'content': 'Please answer the following question.'},\n",
       "  {'role': 'user',\n",
       "   'content': \"What are the column position rules in Fortran 77, and how do these rules affect the formatting and interpretation of the following example code?\\n\\n```\\nprogram circle \\nreal r, area \\nc This program reads a real number r and prints \\nc the area of a circle with radius r. \\nwrite (*,*) 'Give radius r:' \\nread (*,*) r \\narea = 3.14159*r*r \\nwrite (*,*) 'Area = ', area\\nstop \\nend\\n```\"},\n",
       "  {'role': 'user',\n",
       "   'content': \"Fortran 77 has specific column position rules that dictate how code is formatted and interpreted. Here's a summary of these rules:\\n\\n1. **Column 1**: This is reserved for special characters. For example, the letter 'C' or an asterisk '*' in this column denotes a comment line.\\n\\n2. **Columns 2-5**: These columns are used for statement labels, which are numeric and optional. If there is no label, these columns are typically left blank.\\n\\n3. **Column 6**: This column is used for indicating that a statement continues from the previous line. A character (often a non-blank character, such as a '&' or a number) placed in this column signals continuation.\\n\\n4. **Columns 7-72**: This is where the actual Fortran statements are written. Any commands, variable declarations, and executable statements must be placed within these columns.\\n\\n5. **Columns 73-80**: These columns are traditionally reserved for sequence numbers or other identification text, which are optional and rarely used in modern practice.\\n\\nApplying these rules to the given code:\\n\\n```fortran\\nprogram circle \\nreal r, area \\nc This program reads a real number r and prints \\nc the area of a circle with radius r. \\nwrite (*,*) 'Give radius r:' \\nread (*,*) r \\narea = 3.14159*r*r \\nwrite (*,*) 'Area = ', area\\nstop \\nend\\n```\\n\\n- **Comment Lines**: Lines starting with 'C' in column 1 indicate comments. In this code, lines 3 and 4 fit this description and are ignored by the compiler as they serve only for documentation purposes.\\n\\n- **Program Statements**: The actual executable statements, such as variable declarations and I/O operations, must begin between columns 7 and 72. If any part of a statement begins before column 7, the compiler will not recognize it properly and will likely lead to syntax errors.\\n\\nIn this particular code example, everything appears to be placed according to the rules (assuming all text begins within columns 7 to 72 and any such checks are satisfied):\\n\\n- The declaration `real r, area` and the program control statements like `write`, `read`, `stop`, and `end` all start beyond column 6, ensuring they are correctly recognized as executable statements or declarations.\\n\\nIf any of these statements were incorrectly placed (such as starting before column 7), Fortran 77 would either flag an error or misinterpret the line, leading to unexpected behavior or syntax errors during compilation. This strict columnar coding style is a hallmark of Fortran 77, making correct code formatting paramount.\"}]]"
      ]
     },
     "execution_count": 9,
     "metadata": {},
     "output_type": "execute_result"
    }
   ],
   "source": [
    "dataset"
   ]
  },
  {
   "cell_type": "code",
   "execution_count": null,
   "id": "b0489b86-650a-499d-8bed-f504153107c2",
   "metadata": {},
   "outputs": [],
   "source": []
  }
 ],
 "metadata": {
  "kernelspec": {
   "display_name": "Python 3 (ipykernel)",
   "language": "python",
   "name": "python3"
  },
  "language_info": {
   "codemirror_mode": {
    "name": "ipython",
    "version": 3
   },
   "file_extension": ".py",
   "mimetype": "text/x-python",
   "name": "python",
   "nbconvert_exporter": "python",
   "pygments_lexer": "ipython3",
   "version": "3.10.15"
  }
 },
 "nbformat": 4,
 "nbformat_minor": 5
}
