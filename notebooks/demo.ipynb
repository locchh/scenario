{
 "cells": [
  {
   "cell_type": "code",
   "execution_count": 8,
   "id": "90d87722-4101-47ce-a7e8-510c48d126b8",
   "metadata": {},
   "outputs": [
    {
     "name": "stdout",
     "output_type": "stream",
     "text": [
      "Import successfully!\n"
     ]
    }
   ],
   "source": [
    "# Import libraries\n",
    "import os\n",
    "import sys\n",
    "\n",
    "current_dir = os.getcwd()\n",
    "sys.path.append(os.path.join(current_dir,\"..\"))\n",
    "\n",
    "from utils.helper import set_openai_key, test_openai_api, create_openai_client, count_tiktoken_length\n",
    "from pipelines.Basic import SimpleQAPipeline\n",
    "\n",
    "print(\"Import successfully!\")"
   ]
  },
  {
   "cell_type": "code",
   "execution_count": 9,
   "id": "7d5a3628-5811-42b1-91e0-31d3383cd38c",
   "metadata": {},
   "outputs": [
    {
     "name": "stdout",
     "output_type": "stream",
     "text": [
      "API key set successfully.\n",
      "This is a test.\n"
     ]
    }
   ],
   "source": [
    "# Intialize\n",
    "set_openai_key() # Set openai key\n",
    "test_openai_api() # Test openai api\n",
    "client = create_openai_client() # Create openai client"
   ]
  },
  {
   "cell_type": "code",
   "execution_count": 10,
   "id": "db6c59f3-777f-43d5-ae11-4430632390b6",
   "metadata": {},
   "outputs": [
    {
     "name": "stdout",
     "output_type": "stream",
     "text": [
      "Extracted pages 2 to 3 into 'tmp.pdf'\n"
     ]
    }
   ],
   "source": [
    "# Create chunk of PDF\n",
    "!python ../utils/extract_pdf_by_pages.py ../assets/Fortran77_tutorial.pdf tmp.pdf 2 3"
   ]
  },
  {
   "cell_type": "code",
   "execution_count": 4,
   "id": "81bee819-a8c7-4053-88ee-136d551e2499",
   "metadata": {},
   "outputs": [
    {
     "name": "stdout",
     "output_type": "stream",
     "text": [
      "Fetching 9 files: 100%|████████████████████████| 9/9 [00:00<00:00, 21521.51it/s]\n",
      "Markdown content exported successfully to: tmp.txt\n"
     ]
    }
   ],
   "source": [
    "# Convert to markdown file\n",
    "!python ../utils/export_pdf_to_markdown.py tmp.pdf tmp.txt"
   ]
  },
  {
   "cell_type": "code",
   "execution_count": 11,
   "id": "cc4e367b-bf77-48d3-aaad-4b1947e633d4",
   "metadata": {},
   "outputs": [],
   "source": [
    "# # Read content\n",
    "with open(\"tmp.txt\",\"r\",encoding=\"utf-8\") as f:\n",
    "    content = f.read()"
   ]
  },
  {
   "cell_type": "code",
   "execution_count": 12,
   "id": "fcedf7d3-cee6-4df3-8640-f9849d6876b7",
   "metadata": {},
   "outputs": [],
   "source": [
    "pipeline = SimpleQAPipeline(client)"
   ]
  },
  {
   "cell_type": "code",
   "execution_count": 13,
   "id": "ba393e6e-b2a4-43e8-a9cd-a7c20ed38023",
   "metadata": {},
   "outputs": [
    {
     "name": "stdout",
     "output_type": "stream",
     "text": [
      "[{'role': 'system', 'content': 'You are a programming expert.'}, {'role': 'user', 'content': 'Please answer the following question.'}, {'role': 'user', 'content': 'What are the column position rules in Fortran 77, and how do they affect the formatting of a Fortran program? Include an explanation of how comments and continuation lines are handled according to these rules.'}, {'role': 'user', 'content': \"In Fortran 77, the formatting of a program is governed by specific column position rules due to its fixed-format source code layout. These rules dictate how code should be structured on each line, which affects readability and parsing by the compiler. Here's a breakdown of these rules:\\n\\n1. **Columns 1-5**: These columns are reserved for statement labels, which are optional. Statement labels are typically numeric and can be used for purposes like identifying loops or specifying a target for a `GOTO` statement.\\n\\n2. **Column 6**: This column is used for continuation lines. If a line of code is too long to fit within the standard limit (columns 7-72), you can continue it on the next line by placing any non-blank character (commonly a plus sign `+`) in column 6 of the continuation line. The maximum number of continuation lines allowed is 19.\\n\\n3. **Columns 7-72**: This is the primary area for writing executable code and declarations. Statements must start from column 7 and can extend up to column 72. Any characters beyond column 72 are ignored by the compiler, so care must be taken not to inadvertently place important code or comments beyond this column.\\n\\n4. **Columns 73-80**: Historically, these columns were used for sequence numbers, especially when programs were stored on punched cards. In modern practice, these columns are generally ignored, though they can still be used for comments or other non-essential information.\\n\\n5. **Comments**: Comments in Fortran 77 are indicated by a letter `C`, `c`, or an asterisk `*` in column 1. The entire line is considered a comment, and it can extend from column 1 to 72. Since comments occupy a whole line, they do not affect the placement of executable code.\\n\\nThese column rules are crucial for ensuring that Fortran 77 code is correctly interpreted by the compiler. Violating these rules can lead to syntax errors or unintended behavior, as the compiler relies heavily on the position of code elements within these specified columns. This fixed-format style is one of the reasons why later versions of Fortran introduced a free-form source format, allowing more flexibility in code layout.\"}]\n",
      "CPU times: user 46.5 ms, sys: 1.35 ms, total: 47.9 ms\n",
      "Wall time: 6.57 s\n"
     ]
    }
   ],
   "source": [
    "%%time\n",
    "data = pipeline(content)\n",
    "print(data)"
   ]
  },
  {
   "cell_type": "code",
   "execution_count": 14,
   "id": "80a95a41-161a-4bb5-8a90-c671315f1dda",
   "metadata": {},
   "outputs": [
    {
     "name": "stdout",
     "output_type": "stream",
     "text": [
      "0\n",
      "1\n",
      "2\n"
     ]
    }
   ],
   "source": [
    "# Generate dataset\n",
    "dataset = []\n",
    "for i in range(3):\n",
    "    dataset.append(pipeline(content))\n",
    "    print(i)"
   ]
  },
  {
   "cell_type": "code",
   "execution_count": 15,
   "id": "9b27be3b-9d69-4416-bad3-62360c90ea32",
   "metadata": {},
   "outputs": [
    {
     "data": {
      "text/plain": [
       "[[{'role': 'system', 'content': 'You are a programming expert.'},\n",
       "  {'role': 'user', 'content': 'Please answer the following question.'},\n",
       "  {'role': 'user',\n",
       "   'content': 'What are the column position rules in Fortran 77, and how do they affect the formatting of a Fortran program? Include an explanation of how comments and continuation lines are handled according to these rules.'},\n",
       "  {'role': 'user',\n",
       "   'content': 'In Fortran 77, the source code is written in a fixed-column format, which dictates how the code should be structured in terms of column positions. Here are the key rules regarding column positions in Fortran 77:\\n\\n1. **Columns 1-5**: These columns are reserved for statement labels. A statement label is a numeric identifier used for referencing a particular line of code, often in control flow statements like `GOTO`. If a line does not have a label, these columns are typically left blank.\\n\\n2. **Column 6**: This column is used for continuation lines. If a statement is too long to fit on one line, you can continue it on the next line by placing any character (commonly a plus sign `+` or a digit) in column 6 of the continuation line. This indicates that the line is a continuation of the previous line.\\n\\n3. **Columns 7-72**: These columns are used for writing the actual Fortran code. The program statements must start in column 7 and can extend up to column 72. Any characters beyond column 72 are ignored by the compiler.\\n\\n4. **Columns 73-80**: These columns are typically ignored by the compiler and can be used for sequence numbers or other identification purposes. In modern practice, they are often left blank.\\n\\n5. **Comments**: Comments in Fortran 77 are indicated by placing a `C`, `c`, or `*` in column 1. The rest of the line is treated as a comment and is ignored by the compiler. Comments cannot be placed in the middle of a line of code; they must occupy an entire line.\\n\\nThese column position rules significantly affect the formatting of a Fortran 77 program. Programmers must be careful to adhere to these rules to ensure that the code is interpreted correctly by the compiler. The fixed-column format can make the code less flexible and harder to read, especially for longer statements that require continuation lines. However, understanding and following these rules is essential for writing valid Fortran 77 programs.'}],\n",
       " [{'role': 'system', 'content': 'You are a programming expert.'},\n",
       "  {'role': 'user', 'content': 'Please answer the following question.'},\n",
       "  {'role': 'user',\n",
       "   'content': 'What are the column position rules in Fortran 77, and how do they affect the formatting of a Fortran program? Additionally, explain how comments and continuation lines are handled in Fortran 77, providing examples where necessary.'},\n",
       "  {'role': 'user',\n",
       "   'content': \"Fortran 77 has specific rules regarding column positions in source code, which are crucial for proper formatting and interpretation of the program. These rules stem from the era of punch cards, where each card had 80 columns. Here's a breakdown of the column position rules and their impact on formatting:\\n\\n### Column Position Rules\\n\\n1. **Columns 1-5**: These columns are reserved for statement labels. A statement label is a numeric identifier that can be used for referencing a statement, such as in a `GOTO` statement. Labels must be integers between 1 and 99999.\\n\\n2. **Column 6**: This column is used for continuation lines. If a line of code is too long to fit on one line, you can continue it onto the next line by placing any non-blank character (commonly a `&` or any other character) in column 6 of the subsequent line.\\n\\n3. **Columns 7-72**: These columns are used for the actual Fortran code. The program statements must be written within these columns.\\n\\n4. **Columns 73-80**: These columns are traditionally reserved for sequence numbers or other identifiers, which are generally ignored by the compiler. They were used in the punch card days for sorting and organizing cards but are mostly obsolete now.\\n\\n### Handling Comments\\n\\nIn Fortran 77, comments are indicated by placing a `C`, `c`, or `*` in column 1. Everything on the line following this character is treated as a comment and ignored by the compiler.\\n\\n**Example of Comments:**\\n```fortran\\nC This is a comment line\\n* This is another comment line\\n      PRINT *, 'Hello, World!'  ! This is an inline comment (not standard in Fortran 77)\\n```\\n\\n### Handling Continuation Lines\\n\\nIf a statement is too long to fit within columns 7-72, you can continue it onto the next line. To do this, place any non-blank character in column 6 of the continuation line.\\n\\n**Example of Continuation Lines:**\\n```fortran\\n      INTEGER A, B, C\\n      A = 123456789012345678901234567890123456789012345678901234567890\\n     &1234567890  ! Continuation of the previous line\\n      PRINT *, A\\n```\\n\\nIn this example, the `&` in column 6 indicates that the line is a continuation of the previous line.\\n\\n### Impact on Formatting\\n\\nThese column position\"}],\n",
       " [{'role': 'system', 'content': 'You are a programming expert.'},\n",
       "  {'role': 'user', 'content': 'Please answer the following question.'},\n",
       "  {'role': 'user',\n",
       "   'content': \"What are the key characteristics and rules of Fortran 77, including its history, portability, program structure, and formatting requirements, and how do these aspects compare to later versions like Fortran 90? Additionally, explain the purpose and usage of comments and continuation lines in Fortran 77, using the following example code to illustrate:\\n\\n```\\nprogram circle\\nreal r, area\\nc This program reads a real number r and prints\\nc the area of a circle with radius r.\\nwrite (*,*) 'Give radius r:'\\nread (*,*) r\\narea = 3.14159*r*r\\nwrite (*,*) 'Area = ', area\\nstop\\nend\\n```\"},\n",
       "  {'role': 'user',\n",
       "   'content': 'Fortran 77 is a version of the Fortran programming language that was standardized in 1978. It was widely used for scientific and engineering applications due to its efficient handling of numerical computations. Here are some key characteristics and rules of Fortran 77, along with a comparison to later versions like Fortran 90:\\n\\n### Key Characteristics of Fortran 77\\n\\n1. **History and Portability:**\\n   - Fortran 77 was the successor to Fortran 66 and introduced several new features, including structured programming constructs like `IF...THEN...ELSE`, `DO` loops, and `BLOCK DATA`.\\n   - It was designed to be portable across different computer systems, which was a significant improvement over its predecessors.\\n\\n2. **Program Structure:**\\n   - A Fortran 77 program is composed of a main program and possibly several subprograms (functions and subroutines).\\n   - The program begins with the `program` keyword and ends with the `end` statement.\\n   - The `stop` statement is used to terminate the program execution.\\n\\n3. **Formatting Requirements:**\\n   - Fortran 77 uses a fixed-column format. The first column is reserved for comment indicators (`C` or `*`), columns 2-5 are for statement labels, column 6 is for continuation lines, and columns 7-72 are for code.\\n   - Statements must start in column 7, and any text beyond column 72 is ignored.\\n\\n4. **Comments:**\\n   - Comments in Fortran 77 are indicated by a `C` or `*` in the first column. They are used to explain the code and are ignored by the compiler.\\n\\n5. **Continuation Lines:**\\n   - If a statement is too long to fit on one line, it can be continued on the next line by placing any character (often `&`) in column 6 of the continuation line.\\n\\n### Comparison to Fortran 90\\n\\n- **Free-Form Source Code:**\\n  - Fortran 90 introduced free-form source code, allowing for more flexible formatting without strict column requirements.\\n  \\n- **Enhanced Features:**\\n  - Fortran 90 added many modern programming features, such as modules, array operations, recursion, and dynamic memory allocation.\\n\\n- **Improved Readability:**\\n  - The introduction of new control constructs and intrinsic functions in Fortran 90 improved code readability and maintainability.\\n\\n### Example Code Explanation\\n\\n```fortran\\nprogram circle\\nreal r, area\\n'}]]"
      ]
     },
     "execution_count": 15,
     "metadata": {},
     "output_type": "execute_result"
    }
   ],
   "source": [
    "dataset"
   ]
  },
  {
   "cell_type": "code",
   "execution_count": null,
   "id": "b0489b86-650a-499d-8bed-f504153107c2",
   "metadata": {},
   "outputs": [],
   "source": []
  }
 ],
 "metadata": {
  "kernelspec": {
   "display_name": "Python 3 (ipykernel)",
   "language": "python",
   "name": "python3"
  },
  "language_info": {
   "codemirror_mode": {
    "name": "ipython",
    "version": 3
   },
   "file_extension": ".py",
   "mimetype": "text/x-python",
   "name": "python",
   "nbconvert_exporter": "python",
   "pygments_lexer": "ipython3",
   "version": "3.10.15"
  }
 },
 "nbformat": 4,
 "nbformat_minor": 5
}
